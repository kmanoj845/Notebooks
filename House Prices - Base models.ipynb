{
 "cells": [
  {
   "cell_type": "markdown",
   "metadata": {},
   "source": [
    "Problem: https://www.kaggle.com/c/house-prices-advanced-regression-techniques"
   ]
  },
  {
   "cell_type": "markdown",
   "metadata": {},
   "source": [
    "# Pre-processing"
   ]
  },
  {
   "cell_type": "code",
   "execution_count": 4,
   "metadata": {},
   "outputs": [],
   "source": [
    "import pandas as pd"
   ]
  },
  {
   "cell_type": "code",
   "execution_count": 51,
   "metadata": {},
   "outputs": [],
   "source": [
    "train = pd.read_csv(\"../data/train.csv\")"
   ]
  },
  {
   "cell_type": "code",
   "execution_count": 50,
   "metadata": {},
   "outputs": [],
   "source": [
    "test = pd.read_csv(\"../data/test.csv\")"
   ]
  },
  {
   "cell_type": "code",
   "execution_count": 64,
   "metadata": {
    "scrolled": true
   },
   "outputs": [
    {
     "name": "stdout",
     "output_type": "stream",
     "text": [
      "Id                        1\n",
      "MSSubClass                1\n",
      "MSZoning                  1\n",
      "LotFrontage        0.822603\n",
      "LotArea                   1\n",
      "Street                    1\n",
      "Alley             0.0623288\n",
      "LotShape                  1\n",
      "LandContour               1\n",
      "Utilities                 1\n",
      "LotConfig                 1\n",
      "LandSlope                 1\n",
      "Neighborhood              1\n",
      "Condition1                1\n",
      "Condition2                1\n",
      "BldgType                  1\n",
      "HouseStyle                1\n",
      "OverallQual               1\n",
      "OverallCond               1\n",
      "YearBuilt                 1\n",
      "YearRemodAdd              1\n",
      "RoofStyle                 1\n",
      "RoofMatl                  1\n",
      "Exterior1st               1\n",
      "Exterior2nd               1\n",
      "MasVnrType         0.994521\n",
      "MasVnrArea         0.994521\n",
      "ExterQual                 1\n",
      "ExterCond                 1\n",
      "Foundation                1\n",
      "BsmtQual           0.974658\n",
      "BsmtCond           0.974658\n",
      "BsmtExposure       0.973973\n",
      "BsmtFinType1       0.974658\n",
      "BsmtFinSF1                1\n",
      "BsmtFinType2       0.973973\n",
      "BsmtFinSF2                1\n",
      "BsmtUnfSF                 1\n",
      "TotalBsmtSF               1\n",
      "Heating                   1\n",
      "HeatingQC                 1\n",
      "CentralAir                1\n",
      "Electrical         0.999315\n",
      "1stFlrSF                  1\n",
      "2ndFlrSF                  1\n",
      "LowQualFinSF              1\n",
      "GrLivArea                 1\n",
      "BsmtFullBath              1\n",
      "BsmtHalfBath              1\n",
      "FullBath                  1\n",
      "HalfBath                  1\n",
      "BedroomAbvGr              1\n",
      "KitchenAbvGr              1\n",
      "KitchenQual               1\n",
      "TotRmsAbvGrd              1\n",
      "Functional                1\n",
      "Fireplaces                1\n",
      "FireplaceQu        0.527397\n",
      "GarageType         0.944521\n",
      "GarageYrBlt        0.944521\n",
      "GarageFinish       0.944521\n",
      "GarageCars                1\n",
      "GarageArea                1\n",
      "GarageQual         0.944521\n",
      "GarageCond         0.944521\n",
      "PavedDrive                1\n",
      "WoodDeckSF                1\n",
      "OpenPorchSF               1\n",
      "EnclosedPorch             1\n",
      "3SsnPorch                 1\n",
      "ScreenPorch               1\n",
      "PoolArea                  1\n",
      "PoolQC           0.00479452\n",
      "Fence              0.192466\n",
      "MiscFeature       0.0369863\n",
      "MiscVal                   1\n",
      "MoSold                    1\n",
      "YrSold                    1\n",
      "SaleType                  1\n",
      "SaleCondition             1\n",
      "SalePrice                 1\n",
      "Name: count, dtype: object\n"
     ]
    }
   ],
   "source": [
    "# available data\n",
    "with pd.option_context(\"display.max_rows\", 1000): \n",
    "    print(train.describe(include='all').loc['count']/train.shape[0])"
   ]
  },
  {
   "cell_type": "code",
   "execution_count": 49,
   "metadata": {},
   "outputs": [
    {
     "data": {
      "text/html": [
       "<div>\n",
       "<style scoped>\n",
       "    .dataframe tbody tr th:only-of-type {\n",
       "        vertical-align: middle;\n",
       "    }\n",
       "\n",
       "    .dataframe tbody tr th {\n",
       "        vertical-align: top;\n",
       "    }\n",
       "\n",
       "    .dataframe thead th {\n",
       "        text-align: right;\n",
       "    }\n",
       "</style>\n",
       "<table border=\"1\" class=\"dataframe\">\n",
       "  <thead>\n",
       "    <tr style=\"text-align: right;\">\n",
       "      <th></th>\n",
       "      <th>Id</th>\n",
       "      <th>MSSubClass</th>\n",
       "      <th>MSZoning</th>\n",
       "      <th>LotFrontage</th>\n",
       "      <th>LotArea</th>\n",
       "      <th>Street</th>\n",
       "      <th>Alley</th>\n",
       "      <th>LotShape</th>\n",
       "      <th>LandContour</th>\n",
       "      <th>Utilities</th>\n",
       "      <th>...</th>\n",
       "      <th>PoolArea</th>\n",
       "      <th>PoolQC</th>\n",
       "      <th>Fence</th>\n",
       "      <th>MiscFeature</th>\n",
       "      <th>MiscVal</th>\n",
       "      <th>MoSold</th>\n",
       "      <th>YrSold</th>\n",
       "      <th>SaleType</th>\n",
       "      <th>SaleCondition</th>\n",
       "      <th>SalePrice</th>\n",
       "    </tr>\n",
       "  </thead>\n",
       "  <tbody>\n",
       "    <tr>\n",
       "      <th>0</th>\n",
       "      <td>1</td>\n",
       "      <td>60</td>\n",
       "      <td>RL</td>\n",
       "      <td>65.0</td>\n",
       "      <td>8450</td>\n",
       "      <td>Pave</td>\n",
       "      <td>NaN</td>\n",
       "      <td>Reg</td>\n",
       "      <td>Lvl</td>\n",
       "      <td>AllPub</td>\n",
       "      <td>...</td>\n",
       "      <td>0</td>\n",
       "      <td>NaN</td>\n",
       "      <td>NaN</td>\n",
       "      <td>NaN</td>\n",
       "      <td>0</td>\n",
       "      <td>2</td>\n",
       "      <td>2008</td>\n",
       "      <td>WD</td>\n",
       "      <td>Normal</td>\n",
       "      <td>208500</td>\n",
       "    </tr>\n",
       "    <tr>\n",
       "      <th>1</th>\n",
       "      <td>2</td>\n",
       "      <td>20</td>\n",
       "      <td>RL</td>\n",
       "      <td>80.0</td>\n",
       "      <td>9600</td>\n",
       "      <td>Pave</td>\n",
       "      <td>NaN</td>\n",
       "      <td>Reg</td>\n",
       "      <td>Lvl</td>\n",
       "      <td>AllPub</td>\n",
       "      <td>...</td>\n",
       "      <td>0</td>\n",
       "      <td>NaN</td>\n",
       "      <td>NaN</td>\n",
       "      <td>NaN</td>\n",
       "      <td>0</td>\n",
       "      <td>5</td>\n",
       "      <td>2007</td>\n",
       "      <td>WD</td>\n",
       "      <td>Normal</td>\n",
       "      <td>181500</td>\n",
       "    </tr>\n",
       "    <tr>\n",
       "      <th>2</th>\n",
       "      <td>3</td>\n",
       "      <td>60</td>\n",
       "      <td>RL</td>\n",
       "      <td>68.0</td>\n",
       "      <td>11250</td>\n",
       "      <td>Pave</td>\n",
       "      <td>NaN</td>\n",
       "      <td>IR1</td>\n",
       "      <td>Lvl</td>\n",
       "      <td>AllPub</td>\n",
       "      <td>...</td>\n",
       "      <td>0</td>\n",
       "      <td>NaN</td>\n",
       "      <td>NaN</td>\n",
       "      <td>NaN</td>\n",
       "      <td>0</td>\n",
       "      <td>9</td>\n",
       "      <td>2008</td>\n",
       "      <td>WD</td>\n",
       "      <td>Normal</td>\n",
       "      <td>223500</td>\n",
       "    </tr>\n",
       "    <tr>\n",
       "      <th>3</th>\n",
       "      <td>4</td>\n",
       "      <td>70</td>\n",
       "      <td>RL</td>\n",
       "      <td>60.0</td>\n",
       "      <td>9550</td>\n",
       "      <td>Pave</td>\n",
       "      <td>NaN</td>\n",
       "      <td>IR1</td>\n",
       "      <td>Lvl</td>\n",
       "      <td>AllPub</td>\n",
       "      <td>...</td>\n",
       "      <td>0</td>\n",
       "      <td>NaN</td>\n",
       "      <td>NaN</td>\n",
       "      <td>NaN</td>\n",
       "      <td>0</td>\n",
       "      <td>2</td>\n",
       "      <td>2006</td>\n",
       "      <td>WD</td>\n",
       "      <td>Abnorml</td>\n",
       "      <td>140000</td>\n",
       "    </tr>\n",
       "    <tr>\n",
       "      <th>4</th>\n",
       "      <td>5</td>\n",
       "      <td>60</td>\n",
       "      <td>RL</td>\n",
       "      <td>84.0</td>\n",
       "      <td>14260</td>\n",
       "      <td>Pave</td>\n",
       "      <td>NaN</td>\n",
       "      <td>IR1</td>\n",
       "      <td>Lvl</td>\n",
       "      <td>AllPub</td>\n",
       "      <td>...</td>\n",
       "      <td>0</td>\n",
       "      <td>NaN</td>\n",
       "      <td>NaN</td>\n",
       "      <td>NaN</td>\n",
       "      <td>0</td>\n",
       "      <td>12</td>\n",
       "      <td>2008</td>\n",
       "      <td>WD</td>\n",
       "      <td>Normal</td>\n",
       "      <td>250000</td>\n",
       "    </tr>\n",
       "  </tbody>\n",
       "</table>\n",
       "<p>5 rows × 81 columns</p>\n",
       "</div>"
      ],
      "text/plain": [
       "   Id  MSSubClass MSZoning  LotFrontage  LotArea Street Alley LotShape  \\\n",
       "0   1          60       RL         65.0     8450   Pave   NaN      Reg   \n",
       "1   2          20       RL         80.0     9600   Pave   NaN      Reg   \n",
       "2   3          60       RL         68.0    11250   Pave   NaN      IR1   \n",
       "3   4          70       RL         60.0     9550   Pave   NaN      IR1   \n",
       "4   5          60       RL         84.0    14260   Pave   NaN      IR1   \n",
       "\n",
       "  LandContour Utilities    ...     PoolArea PoolQC Fence MiscFeature MiscVal  \\\n",
       "0         Lvl    AllPub    ...            0    NaN   NaN         NaN       0   \n",
       "1         Lvl    AllPub    ...            0    NaN   NaN         NaN       0   \n",
       "2         Lvl    AllPub    ...            0    NaN   NaN         NaN       0   \n",
       "3         Lvl    AllPub    ...            0    NaN   NaN         NaN       0   \n",
       "4         Lvl    AllPub    ...            0    NaN   NaN         NaN       0   \n",
       "\n",
       "  MoSold YrSold  SaleType  SaleCondition  SalePrice  \n",
       "0      2   2008        WD         Normal     208500  \n",
       "1      5   2007        WD         Normal     181500  \n",
       "2      9   2008        WD         Normal     223500  \n",
       "3      2   2006        WD        Abnorml     140000  \n",
       "4     12   2008        WD         Normal     250000  \n",
       "\n",
       "[5 rows x 81 columns]"
      ]
     },
     "execution_count": 49,
     "metadata": {},
     "output_type": "execute_result"
    }
   ],
   "source": [
    "train.head()"
   ]
  },
  {
   "cell_type": "code",
   "execution_count": 10,
   "metadata": {},
   "outputs": [
    {
     "data": {
      "text/plain": [
       "(1460, 81)"
      ]
     },
     "execution_count": 10,
     "metadata": {},
     "output_type": "execute_result"
    }
   ],
   "source": [
    "train.shape"
   ]
  },
  {
   "cell_type": "code",
   "execution_count": 11,
   "metadata": {},
   "outputs": [
    {
     "data": {
      "text/plain": [
       "(1459, 80)"
      ]
     },
     "execution_count": 11,
     "metadata": {},
     "output_type": "execute_result"
    }
   ],
   "source": [
    "test.shape"
   ]
  },
  {
   "cell_type": "code",
   "execution_count": 65,
   "metadata": {},
   "outputs": [],
   "source": [
    "missing_cols = ['LotFrontage','FireplaceQu','PoolQC','Fence','MiscFeature']"
   ]
  },
  {
   "cell_type": "code",
   "execution_count": 8,
   "metadata": {},
   "outputs": [
    {
     "data": {
      "text/plain": [
       "Index([u'Id', u'MSSubClass', u'MSZoning', u'LotFrontage', u'LotArea',\n",
       "       u'Street', u'Alley', u'LotShape', u'LandContour', u'Utilities',\n",
       "       u'LotConfig', u'LandSlope', u'Neighborhood', u'Condition1',\n",
       "       u'Condition2', u'BldgType', u'HouseStyle', u'OverallQual',\n",
       "       u'OverallCond', u'YearBuilt', u'YearRemodAdd', u'RoofStyle',\n",
       "       u'RoofMatl', u'Exterior1st', u'Exterior2nd', u'MasVnrType',\n",
       "       u'MasVnrArea', u'ExterQual', u'ExterCond', u'Foundation', u'BsmtQual',\n",
       "       u'BsmtCond', u'BsmtExposure', u'BsmtFinType1', u'BsmtFinSF1',\n",
       "       u'BsmtFinType2', u'BsmtFinSF2', u'BsmtUnfSF', u'TotalBsmtSF',\n",
       "       u'Heating', u'HeatingQC', u'CentralAir', u'Electrical', u'1stFlrSF',\n",
       "       u'2ndFlrSF', u'LowQualFinSF', u'GrLivArea', u'BsmtFullBath',\n",
       "       u'BsmtHalfBath', u'FullBath', u'HalfBath', u'BedroomAbvGr',\n",
       "       u'KitchenAbvGr', u'KitchenQual', u'TotRmsAbvGrd', u'Functional',\n",
       "       u'Fireplaces', u'FireplaceQu', u'GarageType', u'GarageYrBlt',\n",
       "       u'GarageFinish', u'GarageCars', u'GarageArea', u'GarageQual',\n",
       "       u'GarageCond', u'PavedDrive', u'WoodDeckSF', u'OpenPorchSF',\n",
       "       u'EnclosedPorch', u'3SsnPorch', u'ScreenPorch', u'PoolArea', u'PoolQC',\n",
       "       u'Fence', u'MiscFeature', u'MiscVal', u'MoSold', u'YrSold', u'SaleType',\n",
       "       u'SaleCondition', u'SalePrice'],\n",
       "      dtype='object')"
      ]
     },
     "execution_count": 8,
     "metadata": {},
     "output_type": "execute_result"
    }
   ],
   "source": [
    "train.columns"
   ]
  },
  {
   "cell_type": "code",
   "execution_count": 29,
   "metadata": {},
   "outputs": [],
   "source": [
    "numeric_cols = [u'MSSubClass', u'LotArea', u'OverallQual',\n",
    "       u'OverallCond', u'YearBuilt', u'YearRemodAdd', u'MasVnrArea',\n",
    "       u'BsmtFinSF1', u'BsmtFinSF2', u'BsmtUnfSF', u'TotalBsmtSF', u'1stFlrSF',\n",
    "       u'2ndFlrSF', u'LowQualFinSF', u'GrLivArea', u'BsmtFullBath',\n",
    "       u'BsmtHalfBath', u'FullBath', u'HalfBath', u'BedroomAbvGr',\n",
    "       u'KitchenAbvGr', u'TotRmsAbvGrd', u'Fireplaces', u'GarageYrBlt',\n",
    "       u'GarageCars', u'GarageArea', u'WoodDeckSF', u'OpenPorchSF',\n",
    "       u'EnclosedPorch', u'3SsnPorch', u'ScreenPorch', u'PoolArea', u'MiscVal',\n",
    "       u'MoSold', u'YrSold']"
   ]
  },
  {
   "cell_type": "code",
   "execution_count": 34,
   "metadata": {},
   "outputs": [],
   "source": [
    "categorical_cols = ['Alley',\n",
    " 'BldgType',\n",
    " 'BsmtCond',\n",
    " 'BsmtExposure',\n",
    " 'BsmtFinType1',\n",
    " 'BsmtFinType2',\n",
    " 'BsmtQual',\n",
    " 'CentralAir',\n",
    " 'Condition1',\n",
    " 'Condition2',\n",
    " 'Electrical',\n",
    " 'ExterCond',\n",
    " 'ExterQual',\n",
    " 'Exterior1st',\n",
    " 'Exterior2nd',\n",
    " 'Foundation',\n",
    " 'Functional',\n",
    " 'GarageCond',\n",
    " 'GarageFinish',\n",
    " 'GarageQual',\n",
    " 'GarageType',\n",
    " 'Heating',\n",
    " 'HeatingQC',\n",
    " 'HouseStyle',\n",
    " 'KitchenQual',\n",
    " 'LandContour',\n",
    " 'LandSlope',\n",
    " 'LotConfig',\n",
    " 'LotShape',\n",
    " 'MSZoning',\n",
    " 'MasVnrType',\n",
    " 'Neighborhood',\n",
    " 'PavedDrive',\n",
    " 'RoofMatl',\n",
    " 'RoofStyle',\n",
    " 'SaleCondition',\n",
    " 'SaleType',\n",
    " 'Street',\n",
    " 'Utilities']"
   ]
  },
  {
   "cell_type": "code",
   "execution_count": 66,
   "metadata": {},
   "outputs": [],
   "source": [
    "from sklearn.base import TransformerMixin\n",
    "import pandas as pd\n",
    "import numpy as np"
   ]
  },
  {
   "cell_type": "code",
   "execution_count": 67,
   "metadata": {},
   "outputs": [],
   "source": [
    "class DFMissingNum(TransformerMixin):\n",
    "    '''\n",
    "    Replaces missing values by input value or method.Below are the methods available. \n",
    "    'mean': replace missing values using the mean.\n",
    "    'median': replace missing values using the median\n",
    "    'most_frequent': replace missing values using the mode\n",
    "    'backfill' or 'bfill': use NEXT valid observation to fill gap.\n",
    "    'pad' or 'ffill': propagate last valid observation forward to next valid.\n",
    "    Numeric value: Replaces with the input value\n",
    "    Ex: repalce = \"\"mean\"\" for replacing with mean, replace = 0 for replacing with the numeric 0\n",
    "    Note: No quotes for numeric values\n",
    "    '''\n",
    "    def __init__(self,replace):\n",
    "        self.replace = replace\n",
    "        self.imp = None\n",
    "        self.statistics_ = None        \n",
    "        \n",
    "    def fit(self,X,y=None): \n",
    "         \n",
    "        if type(self.replace) == dict:\n",
    "            for key, value in self.replace.iteritems():\n",
    "                if value in ['mean','median','most_frequent']:\n",
    "                    self.replace[key] = _Impute(value= value,S=X[key])\n",
    "            \n",
    "        elif self.replace in ['mean','median','most_frequent']:\n",
    "            self.imp = DFImputer(strategy=self.replace)\n",
    "            self.imp.fit(X)\n",
    "            self.statistics_ = pd.Series(self.imp.statistics_, index=X.columns)\n",
    "        return self    \n",
    "    \n",
    "    def transform(self,X):\n",
    "        if self.replace in ['mean','median','most_frequent']:\n",
    "            Ximp = self.imp.transform(X)\n",
    "            X_replaced = pd.DataFrame(Ximp, index=X.index, columns=X.columns)\n",
    "        \n",
    "        elif self.replace in ['backfill','bfill','pad','ffill']:\n",
    "            X_replaced = X.fillna(method=self.replace)\n",
    "        \n",
    "        elif type(self.replace) == dict:\n",
    "            X_replaced = X.copy()\n",
    "            for key, value in self.replace.iteritems():\n",
    "                if value in ['backfill','bfill','pad','ffill']:\n",
    "                    X_replaced[key] = X_replaced[key].fillna(method=value)\n",
    "                else:\n",
    "                    X_replaced[key] = X_replaced[key].fillna(value=value)\n",
    "        else:\n",
    "            X_replaced = X.fillna(value=self.replace)\n",
    "        return X_replaced"
   ]
  },
  {
   "cell_type": "code",
   "execution_count": 68,
   "metadata": {},
   "outputs": [],
   "source": [
    "class DFMissingStr(TransformerMixin):\n",
    "    '''\n",
    "    METHODS\n",
    "    most_frequent:\n",
    "    backfill/bfill:\n",
    "    pad/ffill:\n",
    "    '''\n",
    "    def __init__(self,replace):\n",
    "        self.replace = replace\n",
    "        self.statistics_ = None\n",
    "    def fit(self,X,y=None):\n",
    "        \n",
    "        if type(self.replace) == dict:\n",
    "            for key, value in self.replace.iteritems():\n",
    "                if value == 'most_frequent':\n",
    "                    self.replace[key] = X[key].mode()[0]\n",
    "        elif self.replace =='most_frequent':\n",
    "            self.statistics_= X.mode().to_dict()\n",
    "            for key,value in self.statistics_.items():\n",
    "                self.statistics_[key] = value.values()[0]\n",
    "\n",
    "        return self    \n",
    "    def transform(self,X):\n",
    "        if self.replace == 'most_frequent':\n",
    "            X_replaced= X.fillna(self.statistics_)\n",
    "        \n",
    "        elif self.replace in ['backfill','bfill','pad','ffill']:\n",
    "            X_replaced = X.fillna(method=self.replace)\n",
    "            \n",
    "        elif type(self.replace) == dict:\n",
    "            X_replaced = X.copy()\n",
    "            for key, value in self.replace.iteritems():\n",
    "                if value in ['backfill','bfill','pad','ffill']:\n",
    "                    X_replaced[key] = X_replaced[key].fillna(method=value)\n",
    "                else:\n",
    "                    X_replaced[key] = X_replaced[key].fillna(value=value)\n",
    "        else:\n",
    "            X_replaced = X.fillna(value=self.replace)\n",
    "        return X_replaced"
   ]
  },
  {
   "cell_type": "code",
   "execution_count": 69,
   "metadata": {},
   "outputs": [],
   "source": [
    "class DFOneHot(TransformerMixin):\n",
    "    '''\n",
    "    dummy_na: Unseeen values Boolean\n",
    "    reference - https://pandas.pydata.org/pandas-docs/stable/generated/pandas.get_dummies.html\n",
    "    '''\n",
    "    \n",
    "    def __init__(self,dummy_na=False):\n",
    "        self.dummy_na=dummy_na\n",
    "        self.categories_ = {}\n",
    "    \n",
    "    def fit(self, X, y=None):\n",
    "        for col in list(X):\n",
    "            self.categories_[col] = X[col].unique()\n",
    "        return self\n",
    "    \n",
    "    def transform(self,X):\n",
    "        X_new = X.copy()\n",
    "        for colname, levels in self.categories_.iteritems():\n",
    "            X_new[colname][~X_new[colname].isin(levels)] = np.NaN\n",
    "        X_dummy = pd.get_dummies(X_new,dummy_na=self.dummy_na)\n",
    "        \n",
    "        fit_colnames = []\n",
    "        for colname, levels in self.categories_.iteritems():\n",
    "            for level in levels:\n",
    "                fit_colnames.append(str(colname)+'_'+str(level))\n",
    "        \n",
    "        X_dummy = X_dummy.reindex(columns= fit_colnames, fill_value= 0)\n",
    "        \n",
    "        return X_dummy\n"
   ]
  },
  {
   "cell_type": "code",
   "execution_count": 72,
   "metadata": {},
   "outputs": [],
   "source": [
    "class ColumnExtractor(TransformerMixin):\n",
    "\n",
    "    def __init__(self, cols):\n",
    "        self.cols = cols\n",
    "\n",
    "    def fit(self, X, y=None):\n",
    "        # stateless transformer\n",
    "        return self\n",
    "\n",
    "    def transform(self, X):\n",
    "        # assumes X is a DataFrame\n",
    "        Xcols = pd.DataFrame(X[self.cols])\n",
    "        return Xcols"
   ]
  },
  {
   "cell_type": "code",
   "execution_count": 74,
   "metadata": {},
   "outputs": [],
   "source": [
    "class DFFeatureUnion(TransformerMixin):\n",
    "    # FeatureUnion but for pandas DataFrames\n",
    "\n",
    "    def __init__(self, transformer_list):\n",
    "        self.transformer_list = transformer_list\n",
    "        print \"Feature union successfully initiated.\"\n",
    "\n",
    "    def fit(self, X, y=None):\n",
    "        for (name, t) in self.transformer_list:\n",
    "            t.fit(X, y)\n",
    "\n",
    "        print \"Feature union - successful fit.\"\n",
    "        return self\n",
    "\n",
    "    def transform(self, X):\n",
    "        # assumes X is a DataFrame\n",
    "        Xts = [t.transform(X) for _, t in self.transformer_list]\n",
    "        Xunion = reduce(lambda X1, X2: pd.merge(X1, X2, left_index=True, right_index=True), Xts)\n",
    "        print \"Feature union - successful transform.\"\n",
    "        return Xunion"
   ]
  },
  {
   "cell_type": "code",
   "execution_count": 92,
   "metadata": {},
   "outputs": [],
   "source": [
    "from sklearn.preprocessing import Imputer\n",
    "class DFImputer(TransformerMixin):\n",
    "    # Imputer but for pandas DataFrames\n",
    "\n",
    "    def __init__(self, strategy='mean'):\n",
    "        self.strategy = strategy\n",
    "        self.imp = None\n",
    "        self.statistics_ = None\n",
    "\n",
    "    def fit(self, X, y=None):\n",
    "        self.imp = Imputer(strategy=self.strategy)\n",
    "        self.imp.fit(X)\n",
    "        self.statistics_ = pd.Series(self.imp.statistics_, index=X.columns)\n",
    "        return self\n",
    "\n",
    "    def transform(self, X):\n",
    "        # assumes X is a DataFrame\n",
    "        Ximp = self.imp.transform(X)\n",
    "        Xfilled = pd.DataFrame(Ximp, index=X.index, columns=X.columns)\n",
    "        return Xfilled\n"
   ]
  },
  {
   "cell_type": "code",
   "execution_count": 75,
   "metadata": {},
   "outputs": [],
   "source": [
    "from sklearn.pipeline import Pipeline"
   ]
  },
  {
   "cell_type": "code",
   "execution_count": 88,
   "metadata": {},
   "outputs": [
    {
     "name": "stdout",
     "output_type": "stream",
     "text": [
      "Feature union successfully initiated.\n"
     ]
    }
   ],
   "source": [
    "preprocess = Pipeline([(\"features\",DFFeatureUnion([\n",
    "    (\"numeric\",Pipeline([(\"num_sel\",ColumnExtractor(numeric_cols)),(\"num_impute\",DFMissingNum(replace='median'))])),\n",
    "    (\"categorical\",Pipeline([(\"cat_sel\",ColumnExtractor(categorical_cols)),(\"str_impute\",DFMissingStr(replace='most_frequent')),(\"one_hot\",DFOneHot())]))\n",
    "]))])"
   ]
  },
  {
   "cell_type": "code",
   "execution_count": 93,
   "metadata": {},
   "outputs": [
    {
     "name": "stdout",
     "output_type": "stream",
     "text": [
      "Feature union - successful fit.\n",
      "Feature union - successful transform.\n"
     ]
    }
   ],
   "source": [
    "processed_train = preprocess.fit_transform(train)"
   ]
  },
  {
   "cell_type": "code",
   "execution_count": 182,
   "metadata": {},
   "outputs": [
    {
     "name": "stdout",
     "output_type": "stream",
     "text": [
      "Feature union - successful transform.\n"
     ]
    }
   ],
   "source": [
    "processed_test = preprocess.transform(test)"
   ]
  },
  {
   "cell_type": "code",
   "execution_count": 94,
   "metadata": {},
   "outputs": [
    {
     "data": {
      "text/html": [
       "<div>\n",
       "<style scoped>\n",
       "    .dataframe tbody tr th:only-of-type {\n",
       "        vertical-align: middle;\n",
       "    }\n",
       "\n",
       "    .dataframe tbody tr th {\n",
       "        vertical-align: top;\n",
       "    }\n",
       "\n",
       "    .dataframe thead th {\n",
       "        text-align: right;\n",
       "    }\n",
       "</style>\n",
       "<table border=\"1\" class=\"dataframe\">\n",
       "  <thead>\n",
       "    <tr style=\"text-align: right;\">\n",
       "      <th></th>\n",
       "      <th>MSSubClass</th>\n",
       "      <th>LotFrontage</th>\n",
       "      <th>LotArea</th>\n",
       "      <th>OverallQual</th>\n",
       "      <th>OverallCond</th>\n",
       "      <th>YearBuilt</th>\n",
       "      <th>YearRemodAdd</th>\n",
       "      <th>MasVnrArea</th>\n",
       "      <th>BsmtFinSF1</th>\n",
       "      <th>BsmtFinSF2</th>\n",
       "      <th>...</th>\n",
       "      <th>HouseStyle_2.5Unf</th>\n",
       "      <th>HouseStyle_2.5Fin</th>\n",
       "      <th>ExterCond_TA</th>\n",
       "      <th>ExterCond_Gd</th>\n",
       "      <th>ExterCond_Fa</th>\n",
       "      <th>ExterCond_Po</th>\n",
       "      <th>ExterCond_Ex</th>\n",
       "      <th>PoolQC_Gd</th>\n",
       "      <th>PoolQC_Ex</th>\n",
       "      <th>PoolQC_Fa</th>\n",
       "    </tr>\n",
       "  </thead>\n",
       "  <tbody>\n",
       "    <tr>\n",
       "      <th>0</th>\n",
       "      <td>60.0</td>\n",
       "      <td>65.0</td>\n",
       "      <td>8450.0</td>\n",
       "      <td>7.0</td>\n",
       "      <td>5.0</td>\n",
       "      <td>2003.0</td>\n",
       "      <td>2003.0</td>\n",
       "      <td>196.0</td>\n",
       "      <td>706.0</td>\n",
       "      <td>0.0</td>\n",
       "      <td>...</td>\n",
       "      <td>0</td>\n",
       "      <td>0</td>\n",
       "      <td>1</td>\n",
       "      <td>0</td>\n",
       "      <td>0</td>\n",
       "      <td>0</td>\n",
       "      <td>0</td>\n",
       "      <td>1</td>\n",
       "      <td>0</td>\n",
       "      <td>0</td>\n",
       "    </tr>\n",
       "    <tr>\n",
       "      <th>1</th>\n",
       "      <td>20.0</td>\n",
       "      <td>80.0</td>\n",
       "      <td>9600.0</td>\n",
       "      <td>6.0</td>\n",
       "      <td>8.0</td>\n",
       "      <td>1976.0</td>\n",
       "      <td>1976.0</td>\n",
       "      <td>0.0</td>\n",
       "      <td>978.0</td>\n",
       "      <td>0.0</td>\n",
       "      <td>...</td>\n",
       "      <td>0</td>\n",
       "      <td>0</td>\n",
       "      <td>1</td>\n",
       "      <td>0</td>\n",
       "      <td>0</td>\n",
       "      <td>0</td>\n",
       "      <td>0</td>\n",
       "      <td>1</td>\n",
       "      <td>0</td>\n",
       "      <td>0</td>\n",
       "    </tr>\n",
       "    <tr>\n",
       "      <th>2</th>\n",
       "      <td>60.0</td>\n",
       "      <td>68.0</td>\n",
       "      <td>11250.0</td>\n",
       "      <td>7.0</td>\n",
       "      <td>5.0</td>\n",
       "      <td>2001.0</td>\n",
       "      <td>2002.0</td>\n",
       "      <td>162.0</td>\n",
       "      <td>486.0</td>\n",
       "      <td>0.0</td>\n",
       "      <td>...</td>\n",
       "      <td>0</td>\n",
       "      <td>0</td>\n",
       "      <td>1</td>\n",
       "      <td>0</td>\n",
       "      <td>0</td>\n",
       "      <td>0</td>\n",
       "      <td>0</td>\n",
       "      <td>1</td>\n",
       "      <td>0</td>\n",
       "      <td>0</td>\n",
       "    </tr>\n",
       "    <tr>\n",
       "      <th>3</th>\n",
       "      <td>70.0</td>\n",
       "      <td>60.0</td>\n",
       "      <td>9550.0</td>\n",
       "      <td>7.0</td>\n",
       "      <td>5.0</td>\n",
       "      <td>1915.0</td>\n",
       "      <td>1970.0</td>\n",
       "      <td>0.0</td>\n",
       "      <td>216.0</td>\n",
       "      <td>0.0</td>\n",
       "      <td>...</td>\n",
       "      <td>0</td>\n",
       "      <td>0</td>\n",
       "      <td>1</td>\n",
       "      <td>0</td>\n",
       "      <td>0</td>\n",
       "      <td>0</td>\n",
       "      <td>0</td>\n",
       "      <td>1</td>\n",
       "      <td>0</td>\n",
       "      <td>0</td>\n",
       "    </tr>\n",
       "    <tr>\n",
       "      <th>4</th>\n",
       "      <td>60.0</td>\n",
       "      <td>84.0</td>\n",
       "      <td>14260.0</td>\n",
       "      <td>8.0</td>\n",
       "      <td>5.0</td>\n",
       "      <td>2000.0</td>\n",
       "      <td>2000.0</td>\n",
       "      <td>350.0</td>\n",
       "      <td>655.0</td>\n",
       "      <td>0.0</td>\n",
       "      <td>...</td>\n",
       "      <td>0</td>\n",
       "      <td>0</td>\n",
       "      <td>1</td>\n",
       "      <td>0</td>\n",
       "      <td>0</td>\n",
       "      <td>0</td>\n",
       "      <td>0</td>\n",
       "      <td>1</td>\n",
       "      <td>0</td>\n",
       "      <td>0</td>\n",
       "    </tr>\n",
       "  </tbody>\n",
       "</table>\n",
       "<p>5 rows × 288 columns</p>\n",
       "</div>"
      ],
      "text/plain": [
       "   MSSubClass  LotFrontage  LotArea  OverallQual  OverallCond  YearBuilt  \\\n",
       "0        60.0         65.0   8450.0          7.0          5.0     2003.0   \n",
       "1        20.0         80.0   9600.0          6.0          8.0     1976.0   \n",
       "2        60.0         68.0  11250.0          7.0          5.0     2001.0   \n",
       "3        70.0         60.0   9550.0          7.0          5.0     1915.0   \n",
       "4        60.0         84.0  14260.0          8.0          5.0     2000.0   \n",
       "\n",
       "   YearRemodAdd  MasVnrArea  BsmtFinSF1  BsmtFinSF2    ...      \\\n",
       "0        2003.0       196.0       706.0         0.0    ...       \n",
       "1        1976.0         0.0       978.0         0.0    ...       \n",
       "2        2002.0       162.0       486.0         0.0    ...       \n",
       "3        1970.0         0.0       216.0         0.0    ...       \n",
       "4        2000.0       350.0       655.0         0.0    ...       \n",
       "\n",
       "   HouseStyle_2.5Unf  HouseStyle_2.5Fin  ExterCond_TA  ExterCond_Gd  \\\n",
       "0                  0                  0             1             0   \n",
       "1                  0                  0             1             0   \n",
       "2                  0                  0             1             0   \n",
       "3                  0                  0             1             0   \n",
       "4                  0                  0             1             0   \n",
       "\n",
       "   ExterCond_Fa  ExterCond_Po  ExterCond_Ex  PoolQC_Gd  PoolQC_Ex  PoolQC_Fa  \n",
       "0             0             0             0          1          0          0  \n",
       "1             0             0             0          1          0          0  \n",
       "2             0             0             0          1          0          0  \n",
       "3             0             0             0          1          0          0  \n",
       "4             0             0             0          1          0          0  \n",
       "\n",
       "[5 rows x 288 columns]"
      ]
     },
     "execution_count": 94,
     "metadata": {},
     "output_type": "execute_result"
    }
   ],
   "source": [
    "processed_train.head()"
   ]
  },
  {
   "cell_type": "markdown",
   "metadata": {},
   "source": [
    "# Decision Tree"
   ]
  },
  {
   "cell_type": "code",
   "execution_count": 103,
   "metadata": {},
   "outputs": [],
   "source": [
    "from sklearn.tree import DecisionTreeRegressor\n",
    "from sklearn.model_selection import cross_val_score"
   ]
  },
  {
   "cell_type": "code",
   "execution_count": 3,
   "metadata": {},
   "outputs": [],
   "source": [
    "tree_reg = DecisionTreeRegressor(max_depth=2,)"
   ]
  },
  {
   "cell_type": "code",
   "execution_count": 98,
   "metadata": {},
   "outputs": [],
   "source": [
    "X = processed_train.values"
   ]
  },
  {
   "cell_type": "code",
   "execution_count": 99,
   "metadata": {},
   "outputs": [],
   "source": [
    "y = train['SalePrice']"
   ]
  },
  {
   "cell_type": "code",
   "execution_count": 104,
   "metadata": {},
   "outputs": [
    {
     "data": {
      "text/plain": [
       "array([0.57357762, 0.61037294, 0.56169324, 0.55216761, 0.60286228])"
      ]
     },
     "execution_count": 104,
     "metadata": {},
     "output_type": "execute_result"
    }
   ],
   "source": [
    "cross_val_score(tree_reg, X, y, cv=5)"
   ]
  },
  {
   "cell_type": "markdown",
   "metadata": {},
   "source": [
    "# Random Forest"
   ]
  },
  {
   "cell_type": "code",
   "execution_count": 106,
   "metadata": {},
   "outputs": [],
   "source": [
    "from sklearn.ensemble import RandomForestRegressor\n",
    "rf_reg = RandomForestRegressor(max_depth=2, random_state=0)"
   ]
  },
  {
   "cell_type": "code",
   "execution_count": 107,
   "metadata": {},
   "outputs": [
    {
     "data": {
      "text/plain": [
       "array([0.65556959, 0.68986869, 0.68572684, 0.64820042, 0.65702549])"
      ]
     },
     "execution_count": 107,
     "metadata": {},
     "output_type": "execute_result"
    }
   ],
   "source": [
    "cross_val_score(rf_reg, X, y, cv=5)"
   ]
  },
  {
   "cell_type": "markdown",
   "metadata": {},
   "source": [
    "## hyper-parameter tuning - random search cv"
   ]
  },
  {
   "cell_type": "code",
   "execution_count": 118,
   "metadata": {},
   "outputs": [
    {
     "name": "stdout",
     "output_type": "stream",
     "text": [
      "Parameters currently in use:\n",
      "\n",
      "{'bootstrap': True,\n",
      " 'criterion': 'mse',\n",
      " 'max_depth': 2,\n",
      " 'max_features': 'auto',\n",
      " 'max_leaf_nodes': None,\n",
      " 'min_impurity_decrease': 0.0,\n",
      " 'min_impurity_split': None,\n",
      " 'min_samples_leaf': 1,\n",
      " 'min_samples_split': 2,\n",
      " 'min_weight_fraction_leaf': 0.0,\n",
      " 'n_estimators': 10,\n",
      " 'n_jobs': 1,\n",
      " 'oob_score': False,\n",
      " 'random_state': 0,\n",
      " 'verbose': 0,\n",
      " 'warm_start': False}\n"
     ]
    }
   ],
   "source": [
    "from pprint import pprint\n",
    "\n",
    "# Look at parameters used by our current forest\n",
    "print('Parameters currently in use:\\n')\n",
    "pprint(rf_reg.get_params())"
   ]
  },
  {
   "cell_type": "code",
   "execution_count": 119,
   "metadata": {},
   "outputs": [
    {
     "name": "stdout",
     "output_type": "stream",
     "text": [
      "{'bootstrap': [True, False],\n",
      " 'max_depth': [10, 20, 30, 40, 50, 60, 70, 80, 90, 100, 110, None],\n",
      " 'max_features': ['auto', 'sqrt'],\n",
      " 'min_samples_leaf': [1, 2, 4],\n",
      " 'min_samples_split': [2, 5, 10],\n",
      " 'n_estimators': [200, 400, 600, 800, 1000, 1200, 1400, 1600, 1800, 2000]}\n"
     ]
    }
   ],
   "source": [
    "from sklearn.model_selection import RandomizedSearchCV\n",
    "\n",
    "# Number of trees in random forest\n",
    "n_estimators = [int(x) for x in np.linspace(start = 200, stop = 2000, num = 10)]\n",
    "# Number of features to consider at every split\n",
    "max_features = ['auto', 'sqrt']\n",
    "# Maximum number of levels in tree\n",
    "max_depth = [int(x) for x in np.linspace(10, 110, num = 11)]\n",
    "max_depth.append(None)\n",
    "# Minimum number of samples required to split a node\n",
    "min_samples_split = [2, 5, 10]\n",
    "# Minimum number of samples required at each leaf node\n",
    "min_samples_leaf = [1, 2, 4]\n",
    "# Method of selecting samples for training each tree\n",
    "bootstrap = [True, False]\n",
    "\n",
    "# Create the random grid\n",
    "random_grid = {'n_estimators': n_estimators,\n",
    "               'max_features': max_features,\n",
    "               'max_depth': max_depth,\n",
    "               'min_samples_split': min_samples_split,\n",
    "               'min_samples_leaf': min_samples_leaf,\n",
    "               'bootstrap': bootstrap}\n",
    "\n",
    "pprint(random_grid)"
   ]
  },
  {
   "cell_type": "code",
   "execution_count": 120,
   "metadata": {
    "scrolled": true
   },
   "outputs": [
    {
     "name": "stdout",
     "output_type": "stream",
     "text": [
      "Fitting 3 folds for each of 100 candidates, totalling 300 fits\n",
      "[CV] bootstrap=True, min_samples_leaf=1, n_estimators=400, min_samples_split=5, max_features=sqrt, max_depth=30 \n",
      "[CV] bootstrap=True, min_samples_leaf=1, n_estimators=400, min_samples_split=5, max_features=sqrt, max_depth=30 \n",
      "[CV] bootstrap=True, min_samples_leaf=1, n_estimators=400, min_samples_split=5, max_features=sqrt, max_depth=30 \n",
      "[CV] bootstrap=True, min_samples_leaf=1, n_estimators=2000, min_samples_split=5, max_features=sqrt, max_depth=10 \n",
      "[CV]  bootstrap=True, min_samples_leaf=1, n_estimators=400, min_samples_split=5, max_features=sqrt, max_depth=30, total=   2.2s\n",
      "[CV] bootstrap=True, min_samples_leaf=1, n_estimators=2000, min_samples_split=5, max_features=sqrt, max_depth=10 \n",
      "[CV]  bootstrap=True, min_samples_leaf=1, n_estimators=400, min_samples_split=5, max_features=sqrt, max_depth=30, total=   2.3s\n",
      "[CV] bootstrap=True, min_samples_leaf=1, n_estimators=2000, min_samples_split=5, max_features=sqrt, max_depth=10 \n",
      "[CV]  bootstrap=True, min_samples_leaf=1, n_estimators=400, min_samples_split=5, max_features=sqrt, max_depth=30, total=   2.3s\n",
      "[CV] bootstrap=False, min_samples_leaf=2, n_estimators=1200, min_samples_split=5, max_features=sqrt, max_depth=10 \n",
      "[CV]  bootstrap=False, min_samples_leaf=2, n_estimators=1200, min_samples_split=5, max_features=sqrt, max_depth=10, total=   6.5s\n",
      "[CV] bootstrap=False, min_samples_leaf=2, n_estimators=1200, min_samples_split=5, max_features=sqrt, max_depth=10 \n",
      "[CV]  bootstrap=True, min_samples_leaf=1, n_estimators=2000, min_samples_split=5, max_features=sqrt, max_depth=10, total=   9.4s\n",
      "[CV] bootstrap=False, min_samples_leaf=2, n_estimators=1200, min_samples_split=5, max_features=sqrt, max_depth=10 \n",
      "[CV]  bootstrap=True, min_samples_leaf=1, n_estimators=2000, min_samples_split=5, max_features=sqrt, max_depth=10, total=   9.5s\n",
      "[CV] bootstrap=False, min_samples_leaf=4, n_estimators=2000, min_samples_split=2, max_features=auto, max_depth=30 \n",
      "[CV]  bootstrap=True, min_samples_leaf=1, n_estimators=2000, min_samples_split=5, max_features=sqrt, max_depth=10, total=   9.6s\n",
      "[CV] bootstrap=False, min_samples_leaf=4, n_estimators=2000, min_samples_split=2, max_features=auto, max_depth=30 \n",
      "[CV]  bootstrap=False, min_samples_leaf=2, n_estimators=1200, min_samples_split=5, max_features=sqrt, max_depth=10, total=   6.9s\n",
      "[CV] bootstrap=False, min_samples_leaf=4, n_estimators=2000, min_samples_split=2, max_features=auto, max_depth=30 \n",
      "[CV]  bootstrap=False, min_samples_leaf=2, n_estimators=1200, min_samples_split=5, max_features=sqrt, max_depth=10, total=   6.8s\n",
      "[CV] bootstrap=True, min_samples_leaf=4, n_estimators=1600, min_samples_split=2, max_features=sqrt, max_depth=10 \n",
      "[CV]  bootstrap=True, min_samples_leaf=4, n_estimators=1600, min_samples_split=2, max_features=sqrt, max_depth=10, total=   7.4s\n",
      "[CV] bootstrap=True, min_samples_leaf=4, n_estimators=1600, min_samples_split=2, max_features=sqrt, max_depth=10 \n",
      "[CV]  bootstrap=True, min_samples_leaf=4, n_estimators=1600, min_samples_split=2, max_features=sqrt, max_depth=10, total=   6.9s\n",
      "[CV] bootstrap=True, min_samples_leaf=4, n_estimators=1600, min_samples_split=2, max_features=sqrt, max_depth=10 \n",
      "[CV]  bootstrap=True, min_samples_leaf=4, n_estimators=1600, min_samples_split=2, max_features=sqrt, max_depth=10, total=   7.0s\n",
      "[CV] bootstrap=False, min_samples_leaf=4, n_estimators=800, min_samples_split=5, max_features=sqrt, max_depth=30 \n",
      "[CV]  bootstrap=False, min_samples_leaf=4, n_estimators=800, min_samples_split=5, max_features=sqrt, max_depth=30, total=   4.3s\n",
      "[CV] bootstrap=False, min_samples_leaf=4, n_estimators=800, min_samples_split=5, max_features=sqrt, max_depth=30 \n",
      "[CV]  bootstrap=False, min_samples_leaf=4, n_estimators=800, min_samples_split=5, max_features=sqrt, max_depth=30, total=   4.8s\n",
      "[CV] bootstrap=False, min_samples_leaf=4, n_estimators=800, min_samples_split=5, max_features=sqrt, max_depth=30 \n",
      "[CV]  bootstrap=False, min_samples_leaf=4, n_estimators=800, min_samples_split=5, max_features=sqrt, max_depth=30, total=   4.3s\n",
      "[CV] bootstrap=False, min_samples_leaf=2, n_estimators=1000, min_samples_split=5, max_features=sqrt, max_depth=100 \n",
      "[CV]  bootstrap=False, min_samples_leaf=2, n_estimators=1000, min_samples_split=5, max_features=sqrt, max_depth=100, total=   6.1s\n",
      "[CV] bootstrap=False, min_samples_leaf=2, n_estimators=1000, min_samples_split=5, max_features=sqrt, max_depth=100 \n",
      "[CV]  bootstrap=False, min_samples_leaf=2, n_estimators=1000, min_samples_split=5, max_features=sqrt, max_depth=100, total=   7.1s\n",
      "[CV] bootstrap=False, min_samples_leaf=2, n_estimators=1000, min_samples_split=5, max_features=sqrt, max_depth=100 \n",
      "[CV]  bootstrap=False, min_samples_leaf=2, n_estimators=1000, min_samples_split=5, max_features=sqrt, max_depth=100, total=   6.2s\n",
      "[CV] bootstrap=False, min_samples_leaf=1, n_estimators=600, min_samples_split=5, max_features=sqrt, max_depth=60 \n",
      "[CV]  bootstrap=False, min_samples_leaf=1, n_estimators=600, min_samples_split=5, max_features=sqrt, max_depth=60, total=   4.8s\n",
      "[CV] bootstrap=False, min_samples_leaf=1, n_estimators=600, min_samples_split=5, max_features=sqrt, max_depth=60 \n",
      "[CV]  bootstrap=False, min_samples_leaf=1, n_estimators=600, min_samples_split=5, max_features=sqrt, max_depth=60, total=   4.8s\n",
      "[CV] bootstrap=False, min_samples_leaf=1, n_estimators=600, min_samples_split=5, max_features=sqrt, max_depth=60 \n",
      "[CV]  bootstrap=False, min_samples_leaf=4, n_estimators=2000, min_samples_split=2, max_features=auto, max_depth=30, total= 1.2min\n",
      "[CV] bootstrap=False, min_samples_leaf=1, n_estimators=1000, min_samples_split=2, max_features=auto, max_depth=50 \n",
      "[CV]  bootstrap=False, min_samples_leaf=4, n_estimators=2000, min_samples_split=2, max_features=auto, max_depth=30, total= 1.2min\n",
      "[CV] bootstrap=False, min_samples_leaf=1, n_estimators=1000, min_samples_split=2, max_features=auto, max_depth=50 \n",
      "[CV]  bootstrap=False, min_samples_leaf=1, n_estimators=600, min_samples_split=5, max_features=sqrt, max_depth=60, total=   3.9s\n",
      "[CV] bootstrap=False, min_samples_leaf=1, n_estimators=1000, min_samples_split=2, max_features=auto, max_depth=50 \n",
      "[CV]  bootstrap=False, min_samples_leaf=4, n_estimators=2000, min_samples_split=2, max_features=auto, max_depth=30, total= 1.2min\n",
      "[CV] bootstrap=False, min_samples_leaf=4, n_estimators=1800, min_samples_split=5, max_features=auto, max_depth=10 \n",
      "[CV]  bootstrap=False, min_samples_leaf=1, n_estimators=1000, min_samples_split=2, max_features=auto, max_depth=50, total=  55.8s\n",
      "[CV] bootstrap=False, min_samples_leaf=4, n_estimators=1800, min_samples_split=5, max_features=auto, max_depth=10 \n",
      "[CV]  bootstrap=False, min_samples_leaf=1, n_estimators=1000, min_samples_split=2, max_features=auto, max_depth=50, total=  55.5s\n",
      "[CV] bootstrap=False, min_samples_leaf=4, n_estimators=1800, min_samples_split=5, max_features=auto, max_depth=10 \n",
      "[CV]  bootstrap=False, min_samples_leaf=1, n_estimators=1000, min_samples_split=2, max_features=auto, max_depth=50, total=  55.9s\n",
      "[CV] bootstrap=True, min_samples_leaf=4, n_estimators=400, min_samples_split=10, max_features=auto, max_depth=70 \n",
      "[CV]  bootstrap=False, min_samples_leaf=4, n_estimators=1800, min_samples_split=5, max_features=auto, max_depth=10, total= 1.0min\n",
      "[CV] bootstrap=True, min_samples_leaf=4, n_estimators=400, min_samples_split=10, max_features=auto, max_depth=70 \n",
      "[CV]  bootstrap=True, min_samples_leaf=4, n_estimators=400, min_samples_split=10, max_features=auto, max_depth=70, total=   8.4s\n",
      "[CV] bootstrap=True, min_samples_leaf=4, n_estimators=400, min_samples_split=10, max_features=auto, max_depth=70 \n",
      "[CV]  bootstrap=True, min_samples_leaf=4, n_estimators=400, min_samples_split=10, max_features=auto, max_depth=70, total=   8.6s\n",
      "[CV] bootstrap=False, min_samples_leaf=1, n_estimators=800, min_samples_split=5, max_features=sqrt, max_depth=90 \n",
      "[CV]  bootstrap=True, min_samples_leaf=4, n_estimators=400, min_samples_split=10, max_features=auto, max_depth=70, total=   8.8s\n",
      "[CV] bootstrap=False, min_samples_leaf=1, n_estimators=800, min_samples_split=5, max_features=sqrt, max_depth=90 \n",
      "[CV]  bootstrap=False, min_samples_leaf=1, n_estimators=800, min_samples_split=5, max_features=sqrt, max_depth=90, total=   5.6s\n"
     ]
    },
    {
     "name": "stdout",
     "output_type": "stream",
     "text": [
      "[CV] bootstrap=False, min_samples_leaf=1, n_estimators=800, min_samples_split=5, max_features=sqrt, max_depth=90 \n",
      "[CV]  bootstrap=False, min_samples_leaf=1, n_estimators=800, min_samples_split=5, max_features=sqrt, max_depth=90, total=   5.6s\n",
      "[CV] bootstrap=False, min_samples_leaf=1, n_estimators=2000, min_samples_split=10, max_features=sqrt, max_depth=10 \n"
     ]
    },
    {
     "name": "stderr",
     "output_type": "stream",
     "text": [
      "[Parallel(n_jobs=-1)]: Done  33 tasks      | elapsed:  2.8min\n"
     ]
    },
    {
     "name": "stdout",
     "output_type": "stream",
     "text": [
      "[CV]  bootstrap=False, min_samples_leaf=1, n_estimators=800, min_samples_split=5, max_features=sqrt, max_depth=90, total=   5.3s\n",
      "[CV] bootstrap=False, min_samples_leaf=1, n_estimators=2000, min_samples_split=10, max_features=sqrt, max_depth=10 \n",
      "[CV]  bootstrap=False, min_samples_leaf=1, n_estimators=2000, min_samples_split=10, max_features=sqrt, max_depth=10, total=  10.8s\n",
      "[CV] bootstrap=False, min_samples_leaf=1, n_estimators=2000, min_samples_split=10, max_features=sqrt, max_depth=10 \n",
      "[CV]  bootstrap=False, min_samples_leaf=1, n_estimators=2000, min_samples_split=10, max_features=sqrt, max_depth=10, total=  11.1s\n",
      "[CV] bootstrap=False, min_samples_leaf=2, n_estimators=1600, min_samples_split=5, max_features=sqrt, max_depth=10 \n",
      "[CV]  bootstrap=False, min_samples_leaf=1, n_estimators=2000, min_samples_split=10, max_features=sqrt, max_depth=10, total=  10.8s\n",
      "[CV] bootstrap=False, min_samples_leaf=2, n_estimators=1600, min_samples_split=5, max_features=sqrt, max_depth=10 \n",
      "[CV]  bootstrap=False, min_samples_leaf=2, n_estimators=1600, min_samples_split=5, max_features=sqrt, max_depth=10, total=   9.6s\n",
      "[CV] bootstrap=False, min_samples_leaf=2, n_estimators=1600, min_samples_split=5, max_features=sqrt, max_depth=10 \n",
      "[CV]  bootstrap=False, min_samples_leaf=2, n_estimators=1600, min_samples_split=5, max_features=sqrt, max_depth=10, total=   8.9s\n",
      "[CV] bootstrap=False, min_samples_leaf=2, n_estimators=800, min_samples_split=10, max_features=sqrt, max_depth=30 \n",
      "[CV]  bootstrap=False, min_samples_leaf=2, n_estimators=1600, min_samples_split=5, max_features=sqrt, max_depth=10, total=   8.5s\n",
      "[CV] bootstrap=False, min_samples_leaf=2, n_estimators=800, min_samples_split=10, max_features=sqrt, max_depth=30 \n",
      "[CV]  bootstrap=False, min_samples_leaf=2, n_estimators=800, min_samples_split=10, max_features=sqrt, max_depth=30, total=   4.7s\n",
      "[CV] bootstrap=False, min_samples_leaf=2, n_estimators=800, min_samples_split=10, max_features=sqrt, max_depth=30 \n",
      "[CV]  bootstrap=False, min_samples_leaf=4, n_estimators=1800, min_samples_split=5, max_features=auto, max_depth=10, total= 1.0min\n",
      "[CV] bootstrap=False, min_samples_leaf=4, n_estimators=1800, min_samples_split=2, max_features=auto, max_depth=50 \n",
      "[CV]  bootstrap=False, min_samples_leaf=4, n_estimators=1800, min_samples_split=5, max_features=auto, max_depth=10, total= 1.0min\n",
      "[CV] bootstrap=False, min_samples_leaf=4, n_estimators=1800, min_samples_split=2, max_features=auto, max_depth=50 \n",
      "[CV]  bootstrap=False, min_samples_leaf=2, n_estimators=800, min_samples_split=10, max_features=sqrt, max_depth=30, total=   4.4s\n",
      "[CV] bootstrap=False, min_samples_leaf=4, n_estimators=1800, min_samples_split=2, max_features=auto, max_depth=50 \n",
      "[CV]  bootstrap=False, min_samples_leaf=2, n_estimators=800, min_samples_split=10, max_features=sqrt, max_depth=30, total=   4.5s\n",
      "[CV] bootstrap=False, min_samples_leaf=2, n_estimators=600, min_samples_split=5, max_features=auto, max_depth=70 \n",
      "[CV]  bootstrap=False, min_samples_leaf=2, n_estimators=600, min_samples_split=5, max_features=auto, max_depth=70, total=  24.5s\n",
      "[CV] bootstrap=False, min_samples_leaf=2, n_estimators=600, min_samples_split=5, max_features=auto, max_depth=70 \n",
      "[CV]  bootstrap=False, min_samples_leaf=2, n_estimators=600, min_samples_split=5, max_features=auto, max_depth=70, total=  25.0s\n",
      "[CV] bootstrap=False, min_samples_leaf=2, n_estimators=600, min_samples_split=5, max_features=auto, max_depth=70 \n",
      "[CV]  bootstrap=False, min_samples_leaf=4, n_estimators=1800, min_samples_split=2, max_features=auto, max_depth=50, total= 1.0min\n",
      "[CV] bootstrap=True, min_samples_leaf=1, n_estimators=1000, min_samples_split=2, max_features=sqrt, max_depth=20 \n",
      "[CV]  bootstrap=False, min_samples_leaf=4, n_estimators=1800, min_samples_split=2, max_features=auto, max_depth=50, total= 1.0min\n",
      "[CV] bootstrap=True, min_samples_leaf=1, n_estimators=1000, min_samples_split=2, max_features=sqrt, max_depth=20 \n",
      "[CV]  bootstrap=False, min_samples_leaf=4, n_estimators=1800, min_samples_split=2, max_features=auto, max_depth=50, total= 1.0min\n",
      "[CV] bootstrap=True, min_samples_leaf=1, n_estimators=1000, min_samples_split=2, max_features=sqrt, max_depth=20 \n",
      "[CV]  bootstrap=True, min_samples_leaf=1, n_estimators=1000, min_samples_split=2, max_features=sqrt, max_depth=20, total=   5.9s\n",
      "[CV] bootstrap=False, min_samples_leaf=2, n_estimators=1800, min_samples_split=10, max_features=auto, max_depth=110 \n",
      "[CV]  bootstrap=True, min_samples_leaf=1, n_estimators=1000, min_samples_split=2, max_features=sqrt, max_depth=20, total=   5.8s\n",
      "[CV] bootstrap=False, min_samples_leaf=2, n_estimators=1800, min_samples_split=10, max_features=auto, max_depth=110 \n",
      "[CV]  bootstrap=True, min_samples_leaf=1, n_estimators=1000, min_samples_split=2, max_features=sqrt, max_depth=20, total=   5.8s\n",
      "[CV] bootstrap=False, min_samples_leaf=2, n_estimators=1800, min_samples_split=10, max_features=auto, max_depth=110 \n",
      "[CV]  bootstrap=False, min_samples_leaf=2, n_estimators=600, min_samples_split=5, max_features=auto, max_depth=70, total=  24.5s\n",
      "[CV] bootstrap=True, min_samples_leaf=1, n_estimators=600, min_samples_split=5, max_features=auto, max_depth=80 \n",
      "[CV]  bootstrap=True, min_samples_leaf=1, n_estimators=600, min_samples_split=5, max_features=auto, max_depth=80, total=  15.6s\n",
      "[CV] bootstrap=True, min_samples_leaf=1, n_estimators=600, min_samples_split=5, max_features=auto, max_depth=80 \n",
      "[CV]  bootstrap=True, min_samples_leaf=1, n_estimators=600, min_samples_split=5, max_features=auto, max_depth=80, total=  15.8s\n",
      "[CV] bootstrap=True, min_samples_leaf=1, n_estimators=600, min_samples_split=5, max_features=auto, max_depth=80 \n",
      "[CV]  bootstrap=True, min_samples_leaf=1, n_estimators=600, min_samples_split=5, max_features=auto, max_depth=80, total=  16.3s\n",
      "[CV] bootstrap=False, min_samples_leaf=1, n_estimators=1800, min_samples_split=10, max_features=sqrt, max_depth=30 \n",
      "[CV]  bootstrap=False, min_samples_leaf=2, n_estimators=1800, min_samples_split=10, max_features=auto, max_depth=110, total= 1.1min\n",
      "[CV] bootstrap=False, min_samples_leaf=1, n_estimators=1800, min_samples_split=10, max_features=sqrt, max_depth=30 \n",
      "[CV]  bootstrap=False, min_samples_leaf=2, n_estimators=1800, min_samples_split=10, max_features=auto, max_depth=110, total= 1.1min\n",
      "[CV] bootstrap=False, min_samples_leaf=1, n_estimators=1800, min_samples_split=10, max_features=sqrt, max_depth=30 \n",
      "[CV]  bootstrap=False, min_samples_leaf=2, n_estimators=1800, min_samples_split=10, max_features=auto, max_depth=110, total= 1.1min\n",
      "[CV] bootstrap=False, min_samples_leaf=1, n_estimators=1600, min_samples_split=5, max_features=sqrt, max_depth=70 \n",
      "[CV]  bootstrap=False, min_samples_leaf=1, n_estimators=1800, min_samples_split=10, max_features=sqrt, max_depth=30, total=  10.5s\n",
      "[CV] bootstrap=False, min_samples_leaf=1, n_estimators=1600, min_samples_split=5, max_features=sqrt, max_depth=70 \n",
      "[CV]  bootstrap=False, min_samples_leaf=1, n_estimators=1800, min_samples_split=10, max_features=sqrt, max_depth=30, total=  10.6s\n",
      "[CV] bootstrap=False, min_samples_leaf=1, n_estimators=1600, min_samples_split=5, max_features=sqrt, max_depth=70 \n",
      "[CV]  bootstrap=False, min_samples_leaf=1, n_estimators=1600, min_samples_split=5, max_features=sqrt, max_depth=70, total=  10.4s\n",
      "[CV] bootstrap=True, min_samples_leaf=4, n_estimators=1400, min_samples_split=5, max_features=sqrt, max_depth=80 \n",
      "[CV]  bootstrap=False, min_samples_leaf=1, n_estimators=1800, min_samples_split=10, max_features=sqrt, max_depth=30, total=  10.9s\n",
      "[CV] bootstrap=True, min_samples_leaf=4, n_estimators=1400, min_samples_split=5, max_features=sqrt, max_depth=80 \n",
      "[CV]  bootstrap=False, min_samples_leaf=1, n_estimators=1600, min_samples_split=5, max_features=sqrt, max_depth=70, total=  10.5s\n",
      "[CV] bootstrap=True, min_samples_leaf=4, n_estimators=1400, min_samples_split=5, max_features=sqrt, max_depth=80 \n",
      "[CV]  bootstrap=True, min_samples_leaf=4, n_estimators=1400, min_samples_split=5, max_features=sqrt, max_depth=80, total=   6.0s\n",
      "[CV] bootstrap=True, min_samples_leaf=2, n_estimators=1800, min_samples_split=2, max_features=auto, max_depth=None \n",
      "[CV]  bootstrap=True, min_samples_leaf=4, n_estimators=1400, min_samples_split=5, max_features=sqrt, max_depth=80, total=   6.0s\n"
     ]
    },
    {
     "name": "stdout",
     "output_type": "stream",
     "text": [
      "[CV] bootstrap=True, min_samples_leaf=2, n_estimators=1800, min_samples_split=2, max_features=auto, max_depth=None \n",
      "[CV]  bootstrap=True, min_samples_leaf=4, n_estimators=1400, min_samples_split=5, max_features=sqrt, max_depth=80, total=   6.3s\n",
      "[CV] bootstrap=True, min_samples_leaf=2, n_estimators=1800, min_samples_split=2, max_features=auto, max_depth=None \n",
      "[CV]  bootstrap=False, min_samples_leaf=1, n_estimators=1600, min_samples_split=5, max_features=sqrt, max_depth=70, total=  10.6s\n",
      "[CV] bootstrap=False, min_samples_leaf=1, n_estimators=1400, min_samples_split=5, max_features=sqrt, max_depth=80 \n",
      "[CV]  bootstrap=False, min_samples_leaf=1, n_estimators=1400, min_samples_split=5, max_features=sqrt, max_depth=80, total=   8.8s\n",
      "[CV] bootstrap=False, min_samples_leaf=1, n_estimators=1400, min_samples_split=5, max_features=sqrt, max_depth=80 \n",
      "[CV]  bootstrap=False, min_samples_leaf=1, n_estimators=1400, min_samples_split=5, max_features=sqrt, max_depth=80, total=   8.7s\n",
      "[CV] bootstrap=False, min_samples_leaf=1, n_estimators=1400, min_samples_split=5, max_features=sqrt, max_depth=80 \n",
      "[CV]  bootstrap=False, min_samples_leaf=1, n_estimators=1400, min_samples_split=5, max_features=sqrt, max_depth=80, total=   8.8s\n",
      "[CV] bootstrap=False, min_samples_leaf=1, n_estimators=400, min_samples_split=2, max_features=sqrt, max_depth=None \n",
      "[CV]  bootstrap=False, min_samples_leaf=1, n_estimators=400, min_samples_split=2, max_features=sqrt, max_depth=None, total=   3.1s\n",
      "[CV] bootstrap=False, min_samples_leaf=1, n_estimators=400, min_samples_split=2, max_features=sqrt, max_depth=None \n",
      "[CV]  bootstrap=False, min_samples_leaf=1, n_estimators=400, min_samples_split=2, max_features=sqrt, max_depth=None, total=   3.2s\n",
      "[CV] bootstrap=False, min_samples_leaf=1, n_estimators=400, min_samples_split=2, max_features=sqrt, max_depth=None \n",
      "[CV]  bootstrap=False, min_samples_leaf=1, n_estimators=400, min_samples_split=2, max_features=sqrt, max_depth=None, total=   3.0s\n",
      "[CV] bootstrap=False, min_samples_leaf=1, n_estimators=1400, min_samples_split=2, max_features=auto, max_depth=40 \n",
      "[CV]  bootstrap=True, min_samples_leaf=2, n_estimators=1800, min_samples_split=2, max_features=auto, max_depth=None, total=  46.7s\n",
      "[CV] bootstrap=False, min_samples_leaf=1, n_estimators=1400, min_samples_split=2, max_features=auto, max_depth=40 \n",
      "[CV]  bootstrap=True, min_samples_leaf=2, n_estimators=1800, min_samples_split=2, max_features=auto, max_depth=None, total=  46.8s\n",
      "[CV] bootstrap=False, min_samples_leaf=1, n_estimators=1400, min_samples_split=2, max_features=auto, max_depth=40 \n",
      "[CV]  bootstrap=True, min_samples_leaf=2, n_estimators=1800, min_samples_split=2, max_features=auto, max_depth=None, total=  46.7s\n",
      "[CV] bootstrap=True, min_samples_leaf=2, n_estimators=1000, min_samples_split=5, max_features=sqrt, max_depth=20 \n",
      "[CV]  bootstrap=True, min_samples_leaf=2, n_estimators=1000, min_samples_split=5, max_features=sqrt, max_depth=20, total=   4.6s\n",
      "[CV] bootstrap=True, min_samples_leaf=2, n_estimators=1000, min_samples_split=5, max_features=sqrt, max_depth=20 \n",
      "[CV]  bootstrap=True, min_samples_leaf=2, n_estimators=1000, min_samples_split=5, max_features=sqrt, max_depth=20, total=   4.7s\n",
      "[CV] bootstrap=True, min_samples_leaf=2, n_estimators=1000, min_samples_split=5, max_features=sqrt, max_depth=20 \n",
      "[CV]  bootstrap=True, min_samples_leaf=2, n_estimators=1000, min_samples_split=5, max_features=sqrt, max_depth=20, total=   5.1s\n",
      "[CV] bootstrap=False, min_samples_leaf=4, n_estimators=2000, min_samples_split=10, max_features=auto, max_depth=100 \n",
      "[CV]  bootstrap=False, min_samples_leaf=1, n_estimators=1400, min_samples_split=2, max_features=auto, max_depth=40, total= 1.4min\n",
      "[CV] bootstrap=False, min_samples_leaf=4, n_estimators=2000, min_samples_split=10, max_features=auto, max_depth=100 \n",
      "[CV]  bootstrap=False, min_samples_leaf=1, n_estimators=1400, min_samples_split=2, max_features=auto, max_depth=40, total= 1.4min\n",
      "[CV] bootstrap=False, min_samples_leaf=4, n_estimators=2000, min_samples_split=10, max_features=auto, max_depth=100 \n",
      "[CV]  bootstrap=False, min_samples_leaf=1, n_estimators=1400, min_samples_split=2, max_features=auto, max_depth=40, total= 1.4min\n",
      "[CV] bootstrap=True, min_samples_leaf=2, n_estimators=1200, min_samples_split=2, max_features=sqrt, max_depth=20 \n",
      "[CV]  bootstrap=True, min_samples_leaf=2, n_estimators=1200, min_samples_split=2, max_features=sqrt, max_depth=20, total=   7.5s\n",
      "[CV] bootstrap=True, min_samples_leaf=2, n_estimators=1200, min_samples_split=2, max_features=sqrt, max_depth=20 \n",
      "[CV]  bootstrap=False, min_samples_leaf=4, n_estimators=2000, min_samples_split=10, max_features=auto, max_depth=100, total= 1.3min\n",
      "[CV] bootstrap=True, min_samples_leaf=2, n_estimators=1200, min_samples_split=2, max_features=sqrt, max_depth=20 \n",
      "[CV]  bootstrap=True, min_samples_leaf=2, n_estimators=1200, min_samples_split=2, max_features=sqrt, max_depth=20, total=   7.8s\n",
      "[CV] bootstrap=False, min_samples_leaf=4, n_estimators=1200, min_samples_split=10, max_features=sqrt, max_depth=20 \n",
      "[CV]  bootstrap=True, min_samples_leaf=2, n_estimators=1200, min_samples_split=2, max_features=sqrt, max_depth=20, total=   7.8s\n",
      "[CV] bootstrap=False, min_samples_leaf=4, n_estimators=1200, min_samples_split=10, max_features=sqrt, max_depth=20 \n",
      "[CV]  bootstrap=False, min_samples_leaf=4, n_estimators=1200, min_samples_split=10, max_features=sqrt, max_depth=20, total=   9.4s\n",
      "[CV] bootstrap=False, min_samples_leaf=4, n_estimators=1200, min_samples_split=10, max_features=sqrt, max_depth=20 \n",
      "[CV]  bootstrap=False, min_samples_leaf=4, n_estimators=1200, min_samples_split=10, max_features=sqrt, max_depth=20, total=   8.1s\n",
      "[CV] bootstrap=False, min_samples_leaf=2, n_estimators=800, min_samples_split=2, max_features=sqrt, max_depth=50 \n",
      "[CV]  bootstrap=False, min_samples_leaf=2, n_estimators=800, min_samples_split=2, max_features=sqrt, max_depth=50, total=   6.1s\n",
      "[CV] bootstrap=False, min_samples_leaf=2, n_estimators=800, min_samples_split=2, max_features=sqrt, max_depth=50 \n",
      "[CV]  bootstrap=False, min_samples_leaf=4, n_estimators=1200, min_samples_split=10, max_features=sqrt, max_depth=20, total=   8.7s\n",
      "[CV] bootstrap=False, min_samples_leaf=2, n_estimators=800, min_samples_split=2, max_features=sqrt, max_depth=50 \n",
      "[CV]  bootstrap=False, min_samples_leaf=2, n_estimators=800, min_samples_split=2, max_features=sqrt, max_depth=50, total=   6.1s\n",
      "[CV] bootstrap=False, min_samples_leaf=1, n_estimators=800, min_samples_split=5, max_features=sqrt, max_depth=100 \n",
      "[CV]  bootstrap=False, min_samples_leaf=2, n_estimators=800, min_samples_split=2, max_features=sqrt, max_depth=50, total=   6.8s\n",
      "[CV] bootstrap=False, min_samples_leaf=1, n_estimators=800, min_samples_split=5, max_features=sqrt, max_depth=100 \n",
      "[CV]  bootstrap=False, min_samples_leaf=1, n_estimators=800, min_samples_split=5, max_features=sqrt, max_depth=100, total=   6.3s\n",
      "[CV] bootstrap=False, min_samples_leaf=1, n_estimators=800, min_samples_split=5, max_features=sqrt, max_depth=100 \n",
      "[CV]  bootstrap=False, min_samples_leaf=1, n_estimators=800, min_samples_split=5, max_features=sqrt, max_depth=100, total=   7.1s\n",
      "[CV] bootstrap=True, min_samples_leaf=4, n_estimators=800, min_samples_split=10, max_features=sqrt, max_depth=50 \n",
      "[CV]  bootstrap=True, min_samples_leaf=4, n_estimators=800, min_samples_split=10, max_features=sqrt, max_depth=50, total=   4.4s\n",
      "[CV] bootstrap=True, min_samples_leaf=4, n_estimators=800, min_samples_split=10, max_features=sqrt, max_depth=50 \n",
      "[CV]  bootstrap=False, min_samples_leaf=1, n_estimators=800, min_samples_split=5, max_features=sqrt, max_depth=100, total=   7.0s\n",
      "[CV] bootstrap=True, min_samples_leaf=4, n_estimators=800, min_samples_split=10, max_features=sqrt, max_depth=50 \n",
      "[CV]  bootstrap=True, min_samples_leaf=4, n_estimators=800, min_samples_split=10, max_features=sqrt, max_depth=50, total=   4.6s\n",
      "[CV] bootstrap=True, min_samples_leaf=4, n_estimators=1800, min_samples_split=2, max_features=sqrt, max_depth=90 \n",
      "[CV]  bootstrap=True, min_samples_leaf=4, n_estimators=800, min_samples_split=10, max_features=sqrt, max_depth=50, total=   4.6s\n",
      "[CV] bootstrap=True, min_samples_leaf=4, n_estimators=1800, min_samples_split=2, max_features=sqrt, max_depth=90 \n"
     ]
    },
    {
     "name": "stdout",
     "output_type": "stream",
     "text": [
      "[CV]  bootstrap=True, min_samples_leaf=4, n_estimators=1800, min_samples_split=2, max_features=sqrt, max_depth=90, total=  10.1s\n",
      "[CV] bootstrap=True, min_samples_leaf=4, n_estimators=1800, min_samples_split=2, max_features=sqrt, max_depth=90 \n",
      "[CV]  bootstrap=True, min_samples_leaf=4, n_estimators=1800, min_samples_split=2, max_features=sqrt, max_depth=90, total=  10.2s\n",
      "[CV] bootstrap=False, min_samples_leaf=2, n_estimators=800, min_samples_split=10, max_features=sqrt, max_depth=20 \n",
      "[CV]  bootstrap=False, min_samples_leaf=4, n_estimators=2000, min_samples_split=10, max_features=auto, max_depth=100, total= 1.4min\n",
      "[CV] bootstrap=False, min_samples_leaf=2, n_estimators=800, min_samples_split=10, max_features=sqrt, max_depth=20 \n",
      "[CV]  bootstrap=False, min_samples_leaf=2, n_estimators=800, min_samples_split=10, max_features=sqrt, max_depth=20, total=   5.4s\n",
      "[CV] bootstrap=False, min_samples_leaf=2, n_estimators=800, min_samples_split=10, max_features=sqrt, max_depth=20 \n",
      "[CV]  bootstrap=False, min_samples_leaf=4, n_estimators=2000, min_samples_split=10, max_features=auto, max_depth=100, total= 1.4min\n",
      "[CV] bootstrap=True, min_samples_leaf=2, n_estimators=1200, min_samples_split=5, max_features=sqrt, max_depth=20 \n",
      "[CV]  bootstrap=True, min_samples_leaf=4, n_estimators=1800, min_samples_split=2, max_features=sqrt, max_depth=90, total=  10.5s\n",
      "[CV] bootstrap=True, min_samples_leaf=2, n_estimators=1200, min_samples_split=5, max_features=sqrt, max_depth=20 \n",
      "[CV]  bootstrap=False, min_samples_leaf=2, n_estimators=800, min_samples_split=10, max_features=sqrt, max_depth=20, total=   5.9s\n",
      "[CV] bootstrap=True, min_samples_leaf=2, n_estimators=1200, min_samples_split=5, max_features=sqrt, max_depth=20 \n",
      "[CV]  bootstrap=False, min_samples_leaf=2, n_estimators=800, min_samples_split=10, max_features=sqrt, max_depth=20, total=   5.8s\n",
      "[CV] bootstrap=True, min_samples_leaf=1, n_estimators=800, min_samples_split=2, max_features=auto, max_depth=100 \n",
      "[CV]  bootstrap=True, min_samples_leaf=2, n_estimators=1200, min_samples_split=5, max_features=sqrt, max_depth=20, total=   7.3s\n",
      "[CV] bootstrap=True, min_samples_leaf=1, n_estimators=800, min_samples_split=2, max_features=auto, max_depth=100 \n",
      "[CV]  bootstrap=True, min_samples_leaf=2, n_estimators=1200, min_samples_split=5, max_features=sqrt, max_depth=20, total=   7.8s\n",
      "[CV] bootstrap=True, min_samples_leaf=1, n_estimators=800, min_samples_split=2, max_features=auto, max_depth=100 \n",
      "[CV]  bootstrap=True, min_samples_leaf=2, n_estimators=1200, min_samples_split=5, max_features=sqrt, max_depth=20, total=   7.5s\n",
      "[CV] bootstrap=True, min_samples_leaf=2, n_estimators=800, min_samples_split=5, max_features=auto, max_depth=None \n",
      "[CV]  bootstrap=True, min_samples_leaf=1, n_estimators=800, min_samples_split=2, max_features=auto, max_depth=100, total=  29.3s\n",
      "[CV] bootstrap=True, min_samples_leaf=2, n_estimators=800, min_samples_split=5, max_features=auto, max_depth=None \n",
      "[CV]  bootstrap=True, min_samples_leaf=2, n_estimators=800, min_samples_split=5, max_features=auto, max_depth=None, total=  21.8s\n",
      "[CV] bootstrap=True, min_samples_leaf=2, n_estimators=800, min_samples_split=5, max_features=auto, max_depth=None \n",
      "[CV]  bootstrap=True, min_samples_leaf=1, n_estimators=800, min_samples_split=2, max_features=auto, max_depth=100, total=  29.1s\n",
      "[CV] bootstrap=True, min_samples_leaf=2, n_estimators=1000, min_samples_split=2, max_features=sqrt, max_depth=60 \n",
      "[CV]  bootstrap=True, min_samples_leaf=1, n_estimators=800, min_samples_split=2, max_features=auto, max_depth=100, total=  31.0s\n",
      "[CV] bootstrap=True, min_samples_leaf=2, n_estimators=1000, min_samples_split=2, max_features=sqrt, max_depth=60 \n",
      "[CV]  bootstrap=True, min_samples_leaf=2, n_estimators=1000, min_samples_split=2, max_features=sqrt, max_depth=60, total=   6.0s\n",
      "[CV] bootstrap=True, min_samples_leaf=2, n_estimators=1000, min_samples_split=2, max_features=sqrt, max_depth=60 \n",
      "[CV]  bootstrap=True, min_samples_leaf=2, n_estimators=1000, min_samples_split=2, max_features=sqrt, max_depth=60, total=   5.9s\n",
      "[CV] bootstrap=True, min_samples_leaf=4, n_estimators=200, min_samples_split=5, max_features=auto, max_depth=10 \n",
      "[CV]  bootstrap=True, min_samples_leaf=2, n_estimators=1000, min_samples_split=2, max_features=sqrt, max_depth=60, total=   6.2s\n",
      "[CV] bootstrap=True, min_samples_leaf=4, n_estimators=200, min_samples_split=5, max_features=auto, max_depth=10 \n",
      "[CV]  bootstrap=True, min_samples_leaf=4, n_estimators=200, min_samples_split=5, max_features=auto, max_depth=10, total=   4.6s\n",
      "[CV] bootstrap=True, min_samples_leaf=4, n_estimators=200, min_samples_split=5, max_features=auto, max_depth=10 \n",
      "[CV]  bootstrap=True, min_samples_leaf=4, n_estimators=200, min_samples_split=5, max_features=auto, max_depth=10, total=   4.5s\n",
      "[CV] bootstrap=True, min_samples_leaf=2, n_estimators=600, min_samples_split=10, max_features=sqrt, max_depth=60 \n",
      "[CV]  bootstrap=True, min_samples_leaf=4, n_estimators=200, min_samples_split=5, max_features=auto, max_depth=10, total=   4.8s\n",
      "[CV] bootstrap=True, min_samples_leaf=2, n_estimators=600, min_samples_split=10, max_features=sqrt, max_depth=60 \n",
      "[CV]  bootstrap=True, min_samples_leaf=2, n_estimators=800, min_samples_split=5, max_features=auto, max_depth=None, total=  23.8s\n",
      "[CV] bootstrap=True, min_samples_leaf=2, n_estimators=600, min_samples_split=10, max_features=sqrt, max_depth=60 \n",
      "[CV]  bootstrap=True, min_samples_leaf=2, n_estimators=800, min_samples_split=5, max_features=auto, max_depth=None, total=  24.0s\n",
      "[CV] bootstrap=True, min_samples_leaf=4, n_estimators=800, min_samples_split=2, max_features=sqrt, max_depth=90 \n",
      "[CV]  bootstrap=True, min_samples_leaf=2, n_estimators=600, min_samples_split=10, max_features=sqrt, max_depth=60, total=   3.5s\n",
      "[CV] bootstrap=True, min_samples_leaf=4, n_estimators=800, min_samples_split=2, max_features=sqrt, max_depth=90 \n",
      "[CV]  bootstrap=True, min_samples_leaf=2, n_estimators=600, min_samples_split=10, max_features=sqrt, max_depth=60, total=   3.7s\n",
      "[CV] bootstrap=True, min_samples_leaf=4, n_estimators=800, min_samples_split=2, max_features=sqrt, max_depth=90 \n",
      "[CV]  bootstrap=True, min_samples_leaf=2, n_estimators=600, min_samples_split=10, max_features=sqrt, max_depth=60, total=   3.4s\n",
      "[CV] bootstrap=True, min_samples_leaf=4, n_estimators=400, min_samples_split=10, max_features=sqrt, max_depth=90 \n",
      "[CV]  bootstrap=True, min_samples_leaf=4, n_estimators=800, min_samples_split=2, max_features=sqrt, max_depth=90, total=   4.9s\n",
      "[CV] bootstrap=True, min_samples_leaf=4, n_estimators=400, min_samples_split=10, max_features=sqrt, max_depth=90 \n",
      "[CV]  bootstrap=True, min_samples_leaf=4, n_estimators=400, min_samples_split=10, max_features=sqrt, max_depth=90, total=   2.2s\n",
      "[CV] bootstrap=True, min_samples_leaf=4, n_estimators=400, min_samples_split=10, max_features=sqrt, max_depth=90 \n",
      "[CV]  bootstrap=True, min_samples_leaf=4, n_estimators=800, min_samples_split=2, max_features=sqrt, max_depth=90, total=   4.5s\n",
      "[CV] bootstrap=False, min_samples_leaf=2, n_estimators=200, min_samples_split=5, max_features=auto, max_depth=90 \n",
      "[CV]  bootstrap=True, min_samples_leaf=4, n_estimators=800, min_samples_split=2, max_features=sqrt, max_depth=90, total=   4.8s\n",
      "[CV] bootstrap=False, min_samples_leaf=2, n_estimators=200, min_samples_split=5, max_features=auto, max_depth=90 \n",
      "[CV]  bootstrap=True, min_samples_leaf=4, n_estimators=400, min_samples_split=10, max_features=sqrt, max_depth=90, total=   2.3s\n",
      "[CV] bootstrap=False, min_samples_leaf=2, n_estimators=200, min_samples_split=5, max_features=auto, max_depth=90 \n",
      "[CV]  bootstrap=True, min_samples_leaf=4, n_estimators=400, min_samples_split=10, max_features=sqrt, max_depth=90, total=   2.7s\n",
      "[CV] bootstrap=True, min_samples_leaf=1, n_estimators=1000, min_samples_split=2, max_features=sqrt, max_depth=110 \n",
      "[CV]  bootstrap=True, min_samples_leaf=1, n_estimators=1000, min_samples_split=2, max_features=sqrt, max_depth=110, total=   7.6s\n",
      "[CV] bootstrap=True, min_samples_leaf=1, n_estimators=1000, min_samples_split=2, max_features=sqrt, max_depth=110 \n",
      "[CV]  bootstrap=False, min_samples_leaf=2, n_estimators=200, min_samples_split=5, max_features=auto, max_depth=90, total=   9.5s\n",
      "[CV] bootstrap=True, min_samples_leaf=1, n_estimators=1000, min_samples_split=2, max_features=sqrt, max_depth=110 \n"
     ]
    },
    {
     "name": "stdout",
     "output_type": "stream",
     "text": [
      "[CV]  bootstrap=False, min_samples_leaf=2, n_estimators=200, min_samples_split=5, max_features=auto, max_depth=90, total=   9.7s\n",
      "[CV] bootstrap=True, min_samples_leaf=2, n_estimators=2000, min_samples_split=2, max_features=auto, max_depth=90 \n",
      "[CV]  bootstrap=False, min_samples_leaf=2, n_estimators=200, min_samples_split=5, max_features=auto, max_depth=90, total=   9.5s\n",
      "[CV] bootstrap=True, min_samples_leaf=2, n_estimators=2000, min_samples_split=2, max_features=auto, max_depth=90 \n",
      "[CV]  bootstrap=True, min_samples_leaf=1, n_estimators=1000, min_samples_split=2, max_features=sqrt, max_depth=110, total=   7.1s\n",
      "[CV] bootstrap=True, min_samples_leaf=2, n_estimators=2000, min_samples_split=2, max_features=auto, max_depth=90 \n",
      "[CV]  bootstrap=True, min_samples_leaf=1, n_estimators=1000, min_samples_split=2, max_features=sqrt, max_depth=110, total=   7.6s\n",
      "[CV] bootstrap=False, min_samples_leaf=4, n_estimators=400, min_samples_split=10, max_features=sqrt, max_depth=80 \n",
      "[CV]  bootstrap=False, min_samples_leaf=4, n_estimators=400, min_samples_split=10, max_features=sqrt, max_depth=80, total=   2.5s\n",
      "[CV] bootstrap=False, min_samples_leaf=4, n_estimators=400, min_samples_split=10, max_features=sqrt, max_depth=80 \n",
      "[CV]  bootstrap=False, min_samples_leaf=4, n_estimators=400, min_samples_split=10, max_features=sqrt, max_depth=80, total=   2.6s\n",
      "[CV] bootstrap=False, min_samples_leaf=4, n_estimators=400, min_samples_split=10, max_features=sqrt, max_depth=80 \n",
      "[CV]  bootstrap=False, min_samples_leaf=4, n_estimators=400, min_samples_split=10, max_features=sqrt, max_depth=80, total=   2.7s\n",
      "[CV] bootstrap=False, min_samples_leaf=4, n_estimators=1200, min_samples_split=2, max_features=sqrt, max_depth=70 \n",
      "[CV]  bootstrap=False, min_samples_leaf=4, n_estimators=1200, min_samples_split=2, max_features=sqrt, max_depth=70, total=   8.0s\n",
      "[CV] bootstrap=False, min_samples_leaf=4, n_estimators=1200, min_samples_split=2, max_features=sqrt, max_depth=70 \n",
      "[CV]  bootstrap=False, min_samples_leaf=4, n_estimators=1200, min_samples_split=2, max_features=sqrt, max_depth=70, total=   7.9s\n",
      "[CV] bootstrap=False, min_samples_leaf=4, n_estimators=1200, min_samples_split=2, max_features=sqrt, max_depth=70 \n",
      "[CV]  bootstrap=False, min_samples_leaf=4, n_estimators=1200, min_samples_split=2, max_features=sqrt, max_depth=70, total=   7.9s\n",
      "[CV] bootstrap=False, min_samples_leaf=2, n_estimators=600, min_samples_split=2, max_features=sqrt, max_depth=110 \n",
      "[CV]  bootstrap=False, min_samples_leaf=2, n_estimators=600, min_samples_split=2, max_features=sqrt, max_depth=110, total=   4.1s\n",
      "[CV] bootstrap=False, min_samples_leaf=2, n_estimators=600, min_samples_split=2, max_features=sqrt, max_depth=110 \n",
      "[CV]  bootstrap=False, min_samples_leaf=2, n_estimators=600, min_samples_split=2, max_features=sqrt, max_depth=110, total=   4.2s\n",
      "[CV] bootstrap=False, min_samples_leaf=2, n_estimators=600, min_samples_split=2, max_features=sqrt, max_depth=110 \n",
      "[CV]  bootstrap=False, min_samples_leaf=2, n_estimators=600, min_samples_split=2, max_features=sqrt, max_depth=110, total=   4.3s\n",
      "[CV] bootstrap=False, min_samples_leaf=1, n_estimators=1800, min_samples_split=2, max_features=auto, max_depth=20 \n",
      "[CV]  bootstrap=True, min_samples_leaf=2, n_estimators=2000, min_samples_split=2, max_features=auto, max_depth=90, total= 1.0min\n",
      "[CV] bootstrap=False, min_samples_leaf=1, n_estimators=1800, min_samples_split=2, max_features=auto, max_depth=20 \n",
      "[CV]  bootstrap=True, min_samples_leaf=2, n_estimators=2000, min_samples_split=2, max_features=auto, max_depth=90, total= 1.0min\n",
      "[CV] bootstrap=False, min_samples_leaf=1, n_estimators=1800, min_samples_split=2, max_features=auto, max_depth=20 \n",
      "[CV]  bootstrap=True, min_samples_leaf=2, n_estimators=2000, min_samples_split=2, max_features=auto, max_depth=90, total= 1.0min\n",
      "[CV] bootstrap=False, min_samples_leaf=2, n_estimators=2000, min_samples_split=10, max_features=auto, max_depth=50 \n",
      "[CV]  bootstrap=False, min_samples_leaf=2, n_estimators=2000, min_samples_split=10, max_features=auto, max_depth=50, total= 1.3min\n",
      "[CV] bootstrap=False, min_samples_leaf=2, n_estimators=2000, min_samples_split=10, max_features=auto, max_depth=50 \n",
      "[CV]  bootstrap=False, min_samples_leaf=1, n_estimators=1800, min_samples_split=2, max_features=auto, max_depth=20, total= 1.7min\n",
      "[CV] bootstrap=False, min_samples_leaf=2, n_estimators=2000, min_samples_split=10, max_features=auto, max_depth=50 \n",
      "[CV]  bootstrap=False, min_samples_leaf=1, n_estimators=1800, min_samples_split=2, max_features=auto, max_depth=20, total= 1.8min\n",
      "[CV] bootstrap=False, min_samples_leaf=4, n_estimators=1000, min_samples_split=10, max_features=auto, max_depth=50 \n",
      "[CV]  bootstrap=False, min_samples_leaf=1, n_estimators=1800, min_samples_split=2, max_features=auto, max_depth=20, total= 1.8min\n",
      "[CV] bootstrap=False, min_samples_leaf=4, n_estimators=1000, min_samples_split=10, max_features=auto, max_depth=50 \n"
     ]
    },
    {
     "name": "stderr",
     "output_type": "stream",
     "text": [
      "[Parallel(n_jobs=-1)]: Done 154 tasks      | elapsed: 13.6min\n"
     ]
    },
    {
     "name": "stdout",
     "output_type": "stream",
     "text": [
      "[CV]  bootstrap=False, min_samples_leaf=4, n_estimators=1000, min_samples_split=10, max_features=auto, max_depth=50, total=  40.6s\n",
      "[CV] bootstrap=False, min_samples_leaf=4, n_estimators=1000, min_samples_split=10, max_features=auto, max_depth=50 \n",
      "[CV]  bootstrap=False, min_samples_leaf=4, n_estimators=1000, min_samples_split=10, max_features=auto, max_depth=50, total=  40.6s\n",
      "[CV] bootstrap=False, min_samples_leaf=4, n_estimators=1000, min_samples_split=5, max_features=auto, max_depth=30 \n",
      "[CV]  bootstrap=False, min_samples_leaf=2, n_estimators=2000, min_samples_split=10, max_features=auto, max_depth=50, total= 1.5min\n",
      "[CV] bootstrap=False, min_samples_leaf=4, n_estimators=1000, min_samples_split=5, max_features=auto, max_depth=30 \n",
      "[CV]  bootstrap=False, min_samples_leaf=4, n_estimators=1000, min_samples_split=10, max_features=auto, max_depth=50, total=  40.1s\n",
      "[CV] bootstrap=False, min_samples_leaf=4, n_estimators=1000, min_samples_split=5, max_features=auto, max_depth=30 \n",
      "[CV]  bootstrap=False, min_samples_leaf=2, n_estimators=2000, min_samples_split=10, max_features=auto, max_depth=50, total= 1.5min\n",
      "[CV] bootstrap=False, min_samples_leaf=2, n_estimators=1400, min_samples_split=5, max_features=sqrt, max_depth=None \n",
      "[CV]  bootstrap=False, min_samples_leaf=4, n_estimators=1000, min_samples_split=5, max_features=auto, max_depth=30, total=  42.5s\n",
      "[CV] bootstrap=False, min_samples_leaf=2, n_estimators=1400, min_samples_split=5, max_features=sqrt, max_depth=None \n",
      "[CV]  bootstrap=False, min_samples_leaf=2, n_estimators=1400, min_samples_split=5, max_features=sqrt, max_depth=None, total=  11.1s\n",
      "[CV] bootstrap=False, min_samples_leaf=2, n_estimators=1400, min_samples_split=5, max_features=sqrt, max_depth=None \n",
      "[CV]  bootstrap=False, min_samples_leaf=2, n_estimators=1400, min_samples_split=5, max_features=sqrt, max_depth=None, total=  10.6s\n",
      "[CV] bootstrap=False, min_samples_leaf=4, n_estimators=600, min_samples_split=2, max_features=sqrt, max_depth=60 \n",
      "[CV]  bootstrap=False, min_samples_leaf=4, n_estimators=600, min_samples_split=2, max_features=sqrt, max_depth=60, total=   4.1s\n",
      "[CV] bootstrap=False, min_samples_leaf=4, n_estimators=600, min_samples_split=2, max_features=sqrt, max_depth=60 \n",
      "[CV]  bootstrap=False, min_samples_leaf=4, n_estimators=600, min_samples_split=2, max_features=sqrt, max_depth=60, total=   4.2s\n",
      "[CV] bootstrap=False, min_samples_leaf=4, n_estimators=600, min_samples_split=2, max_features=sqrt, max_depth=60 \n",
      "[CV]  bootstrap=False, min_samples_leaf=4, n_estimators=1000, min_samples_split=5, max_features=auto, max_depth=30, total=  41.5s\n",
      "[CV] bootstrap=True, min_samples_leaf=1, n_estimators=1600, min_samples_split=5, max_features=auto, max_depth=10 \n",
      "[CV]  bootstrap=False, min_samples_leaf=2, n_estimators=1400, min_samples_split=5, max_features=sqrt, max_depth=None, total=  11.7s\n",
      "[CV] bootstrap=True, min_samples_leaf=1, n_estimators=1600, min_samples_split=5, max_features=auto, max_depth=10 \n",
      "[CV]  bootstrap=False, min_samples_leaf=4, n_estimators=600, min_samples_split=2, max_features=sqrt, max_depth=60, total=   4.0s\n",
      "[CV] bootstrap=True, min_samples_leaf=1, n_estimators=1600, min_samples_split=5, max_features=auto, max_depth=10 \n",
      "[CV]  bootstrap=False, min_samples_leaf=4, n_estimators=1000, min_samples_split=5, max_features=auto, max_depth=30, total=  47.5s\n",
      "[CV] bootstrap=True, min_samples_leaf=2, n_estimators=1800, min_samples_split=2, max_features=auto, max_depth=80 \n",
      "[CV]  bootstrap=True, min_samples_leaf=1, n_estimators=1600, min_samples_split=5, max_features=auto, max_depth=10, total=  50.3s\n",
      "[CV] bootstrap=True, min_samples_leaf=2, n_estimators=1800, min_samples_split=2, max_features=auto, max_depth=80 \n",
      "[CV]  bootstrap=True, min_samples_leaf=1, n_estimators=1600, min_samples_split=5, max_features=auto, max_depth=10, total=  50.0s\n",
      "[CV] bootstrap=True, min_samples_leaf=2, n_estimators=1800, min_samples_split=2, max_features=auto, max_depth=80 \n",
      "[CV]  bootstrap=True, min_samples_leaf=1, n_estimators=1600, min_samples_split=5, max_features=auto, max_depth=10, total=  50.0s\n",
      "[CV] bootstrap=True, min_samples_leaf=1, n_estimators=1400, min_samples_split=2, max_features=auto, max_depth=100 \n",
      "[CV]  bootstrap=True, min_samples_leaf=2, n_estimators=1800, min_samples_split=2, max_features=auto, max_depth=80, total=  57.7s\n",
      "[CV] bootstrap=True, min_samples_leaf=1, n_estimators=1400, min_samples_split=2, max_features=auto, max_depth=100 \n",
      "[CV]  bootstrap=True, min_samples_leaf=2, n_estimators=1800, min_samples_split=2, max_features=auto, max_depth=80, total=  51.7s\n",
      "[CV] bootstrap=True, min_samples_leaf=1, n_estimators=1400, min_samples_split=2, max_features=auto, max_depth=100 \n",
      "[CV]  bootstrap=True, min_samples_leaf=2, n_estimators=1800, min_samples_split=2, max_features=auto, max_depth=80, total=  52.6s\n",
      "[CV] bootstrap=True, min_samples_leaf=2, n_estimators=1400, min_samples_split=10, max_features=sqrt, max_depth=80 \n",
      "[CV]  bootstrap=True, min_samples_leaf=1, n_estimators=1400, min_samples_split=2, max_features=auto, max_depth=100, total=  50.5s\n",
      "[CV] bootstrap=True, min_samples_leaf=2, n_estimators=1400, min_samples_split=10, max_features=sqrt, max_depth=80 \n",
      "[CV]  bootstrap=True, min_samples_leaf=2, n_estimators=1400, min_samples_split=10, max_features=sqrt, max_depth=80, total=   6.2s\n",
      "[CV] bootstrap=True, min_samples_leaf=2, n_estimators=1400, min_samples_split=10, max_features=sqrt, max_depth=80 \n",
      "[CV]  bootstrap=True, min_samples_leaf=2, n_estimators=1400, min_samples_split=10, max_features=sqrt, max_depth=80, total=   6.1s\n",
      "[CV] bootstrap=True, min_samples_leaf=1, n_estimators=200, min_samples_split=2, max_features=sqrt, max_depth=50 \n",
      "[CV]  bootstrap=True, min_samples_leaf=1, n_estimators=200, min_samples_split=2, max_features=sqrt, max_depth=50, total=   1.2s\n",
      "[CV] bootstrap=True, min_samples_leaf=1, n_estimators=200, min_samples_split=2, max_features=sqrt, max_depth=50 \n",
      "[CV]  bootstrap=True, min_samples_leaf=1, n_estimators=200, min_samples_split=2, max_features=sqrt, max_depth=50, total=   1.1s\n",
      "[CV] bootstrap=True, min_samples_leaf=1, n_estimators=200, min_samples_split=2, max_features=sqrt, max_depth=50 \n",
      "[CV]  bootstrap=True, min_samples_leaf=1, n_estimators=200, min_samples_split=2, max_features=sqrt, max_depth=50, total=   1.2s\n",
      "[CV] bootstrap=True, min_samples_leaf=4, n_estimators=400, min_samples_split=2, max_features=sqrt, max_depth=10 \n",
      "[CV]  bootstrap=True, min_samples_leaf=4, n_estimators=400, min_samples_split=2, max_features=sqrt, max_depth=10, total=   1.7s\n",
      "[CV] bootstrap=True, min_samples_leaf=4, n_estimators=400, min_samples_split=2, max_features=sqrt, max_depth=10 \n",
      "[CV]  bootstrap=True, min_samples_leaf=2, n_estimators=1400, min_samples_split=10, max_features=sqrt, max_depth=80, total=   6.3s\n",
      "[CV] bootstrap=True, min_samples_leaf=4, n_estimators=400, min_samples_split=2, max_features=sqrt, max_depth=10 \n",
      "[CV]  bootstrap=True, min_samples_leaf=4, n_estimators=400, min_samples_split=2, max_features=sqrt, max_depth=10, total=   1.6s\n",
      "[CV] bootstrap=False, min_samples_leaf=4, n_estimators=1000, min_samples_split=10, max_features=auto, max_depth=80 \n",
      "[CV]  bootstrap=True, min_samples_leaf=4, n_estimators=400, min_samples_split=2, max_features=sqrt, max_depth=10, total=   1.7s\n",
      "[CV] bootstrap=False, min_samples_leaf=4, n_estimators=1000, min_samples_split=10, max_features=auto, max_depth=80 \n",
      "[CV]  bootstrap=True, min_samples_leaf=1, n_estimators=1400, min_samples_split=2, max_features=auto, max_depth=100, total=  45.2s\n",
      "[CV] bootstrap=False, min_samples_leaf=4, n_estimators=1000, min_samples_split=10, max_features=auto, max_depth=80 \n",
      "[CV]  bootstrap=True, min_samples_leaf=1, n_estimators=1400, min_samples_split=2, max_features=auto, max_depth=100, total=  45.2s\n",
      "[CV] bootstrap=False, min_samples_leaf=2, n_estimators=1200, min_samples_split=10, max_features=auto, max_depth=None \n",
      "[CV]  bootstrap=False, min_samples_leaf=4, n_estimators=1000, min_samples_split=10, max_features=auto, max_depth=80, total=  33.6s\n",
      "[CV] bootstrap=False, min_samples_leaf=2, n_estimators=1200, min_samples_split=10, max_features=auto, max_depth=None \n",
      "[CV]  bootstrap=False, min_samples_leaf=4, n_estimators=1000, min_samples_split=10, max_features=auto, max_depth=80, total=  33.9s\n"
     ]
    },
    {
     "name": "stdout",
     "output_type": "stream",
     "text": [
      "[CV] bootstrap=False, min_samples_leaf=2, n_estimators=1200, min_samples_split=10, max_features=auto, max_depth=None \n",
      "[CV]  bootstrap=False, min_samples_leaf=4, n_estimators=1000, min_samples_split=10, max_features=auto, max_depth=80, total=  33.2s\n",
      "[CV] bootstrap=True, min_samples_leaf=1, n_estimators=1600, min_samples_split=10, max_features=sqrt, max_depth=20 \n",
      "[CV]  bootstrap=True, min_samples_leaf=1, n_estimators=1600, min_samples_split=10, max_features=sqrt, max_depth=20, total=   7.7s\n",
      "[CV] bootstrap=True, min_samples_leaf=1, n_estimators=1600, min_samples_split=10, max_features=sqrt, max_depth=20 \n",
      "[CV]  bootstrap=True, min_samples_leaf=1, n_estimators=1600, min_samples_split=10, max_features=sqrt, max_depth=20, total=   8.9s\n",
      "[CV] bootstrap=True, min_samples_leaf=1, n_estimators=1600, min_samples_split=10, max_features=sqrt, max_depth=20 \n",
      "[CV]  bootstrap=True, min_samples_leaf=1, n_estimators=1600, min_samples_split=10, max_features=sqrt, max_depth=20, total=   8.5s\n",
      "[CV] bootstrap=True, min_samples_leaf=2, n_estimators=1600, min_samples_split=10, max_features=auto, max_depth=None \n",
      "[CV]  bootstrap=False, min_samples_leaf=2, n_estimators=1200, min_samples_split=10, max_features=auto, max_depth=None, total=  47.1s\n",
      "[CV] bootstrap=True, min_samples_leaf=2, n_estimators=1600, min_samples_split=10, max_features=auto, max_depth=None \n",
      "[CV]  bootstrap=False, min_samples_leaf=2, n_estimators=1200, min_samples_split=10, max_features=auto, max_depth=None, total=  46.7s\n",
      "[CV] bootstrap=True, min_samples_leaf=2, n_estimators=1600, min_samples_split=10, max_features=auto, max_depth=None \n",
      "[CV]  bootstrap=False, min_samples_leaf=2, n_estimators=1200, min_samples_split=10, max_features=auto, max_depth=None, total=  46.9s\n",
      "[CV] bootstrap=False, min_samples_leaf=4, n_estimators=1800, min_samples_split=2, max_features=auto, max_depth=10 \n",
      "[CV]  bootstrap=True, min_samples_leaf=2, n_estimators=1600, min_samples_split=10, max_features=auto, max_depth=None, total=  38.5s\n",
      "[CV] bootstrap=False, min_samples_leaf=4, n_estimators=1800, min_samples_split=2, max_features=auto, max_depth=10 \n",
      "[CV]  bootstrap=True, min_samples_leaf=2, n_estimators=1600, min_samples_split=10, max_features=auto, max_depth=None, total=  40.0s\n",
      "[CV] bootstrap=False, min_samples_leaf=4, n_estimators=1800, min_samples_split=2, max_features=auto, max_depth=10 \n",
      "[CV]  bootstrap=True, min_samples_leaf=2, n_estimators=1600, min_samples_split=10, max_features=auto, max_depth=None, total=  38.4s\n",
      "[CV] bootstrap=True, min_samples_leaf=2, n_estimators=1400, min_samples_split=2, max_features=auto, max_depth=70 \n",
      "[CV]  bootstrap=False, min_samples_leaf=4, n_estimators=1800, min_samples_split=2, max_features=auto, max_depth=10, total= 1.1min\n",
      "[CV] bootstrap=True, min_samples_leaf=2, n_estimators=1400, min_samples_split=2, max_features=auto, max_depth=70 \n",
      "[CV]  bootstrap=True, min_samples_leaf=2, n_estimators=1400, min_samples_split=2, max_features=auto, max_depth=70, total=  40.0s\n",
      "[CV] bootstrap=True, min_samples_leaf=2, n_estimators=1400, min_samples_split=2, max_features=auto, max_depth=70 \n",
      "[CV]  bootstrap=False, min_samples_leaf=4, n_estimators=1800, min_samples_split=2, max_features=auto, max_depth=10, total= 1.1min\n",
      "[CV] bootstrap=False, min_samples_leaf=1, n_estimators=1000, min_samples_split=10, max_features=sqrt, max_depth=80 \n",
      "[CV]  bootstrap=False, min_samples_leaf=1, n_estimators=1000, min_samples_split=10, max_features=sqrt, max_depth=80, total=   5.7s\n",
      "[CV] bootstrap=False, min_samples_leaf=1, n_estimators=1000, min_samples_split=10, max_features=sqrt, max_depth=80 \n",
      "[CV]  bootstrap=False, min_samples_leaf=4, n_estimators=1800, min_samples_split=2, max_features=auto, max_depth=10, total= 1.1min\n",
      "[CV] bootstrap=False, min_samples_leaf=1, n_estimators=1000, min_samples_split=10, max_features=sqrt, max_depth=80 \n",
      "[CV]  bootstrap=True, min_samples_leaf=2, n_estimators=1400, min_samples_split=2, max_features=auto, max_depth=70, total=  38.6s\n",
      "[CV] bootstrap=False, min_samples_leaf=2, n_estimators=2000, min_samples_split=10, max_features=auto, max_depth=60 \n",
      "[CV]  bootstrap=False, min_samples_leaf=1, n_estimators=1000, min_samples_split=10, max_features=sqrt, max_depth=80, total=   6.5s\n",
      "[CV] bootstrap=False, min_samples_leaf=2, n_estimators=2000, min_samples_split=10, max_features=auto, max_depth=60 \n",
      "[CV]  bootstrap=False, min_samples_leaf=1, n_estimators=1000, min_samples_split=10, max_features=sqrt, max_depth=80, total=   7.0s\n",
      "[CV] bootstrap=False, min_samples_leaf=2, n_estimators=2000, min_samples_split=10, max_features=auto, max_depth=60 \n",
      "[CV]  bootstrap=True, min_samples_leaf=2, n_estimators=1400, min_samples_split=2, max_features=auto, max_depth=70, total=  39.6s\n",
      "[CV] bootstrap=False, min_samples_leaf=4, n_estimators=1400, min_samples_split=2, max_features=sqrt, max_depth=80 \n",
      "[CV]  bootstrap=False, min_samples_leaf=4, n_estimators=1400, min_samples_split=2, max_features=sqrt, max_depth=80, total=   7.9s\n",
      "[CV] bootstrap=False, min_samples_leaf=4, n_estimators=1400, min_samples_split=2, max_features=sqrt, max_depth=80 \n",
      "[CV]  bootstrap=False, min_samples_leaf=4, n_estimators=1400, min_samples_split=2, max_features=sqrt, max_depth=80, total=   8.8s\n",
      "[CV] bootstrap=False, min_samples_leaf=4, n_estimators=1400, min_samples_split=2, max_features=sqrt, max_depth=80 \n",
      "[CV]  bootstrap=False, min_samples_leaf=4, n_estimators=1400, min_samples_split=2, max_features=sqrt, max_depth=80, total=   9.5s\n",
      "[CV] bootstrap=False, min_samples_leaf=4, n_estimators=800, min_samples_split=2, max_features=sqrt, max_depth=20 \n",
      "[CV]  bootstrap=False, min_samples_leaf=4, n_estimators=800, min_samples_split=2, max_features=sqrt, max_depth=20, total=   5.0s\n",
      "[CV] bootstrap=False, min_samples_leaf=4, n_estimators=800, min_samples_split=2, max_features=sqrt, max_depth=20 \n",
      "[CV]  bootstrap=False, min_samples_leaf=4, n_estimators=800, min_samples_split=2, max_features=sqrt, max_depth=20, total=   6.1s\n",
      "[CV] bootstrap=False, min_samples_leaf=4, n_estimators=800, min_samples_split=2, max_features=sqrt, max_depth=20 \n",
      "[CV]  bootstrap=False, min_samples_leaf=4, n_estimators=800, min_samples_split=2, max_features=sqrt, max_depth=20, total=   4.9s\n",
      "[CV] bootstrap=True, min_samples_leaf=2, n_estimators=1800, min_samples_split=5, max_features=sqrt, max_depth=60 \n",
      "[CV]  bootstrap=True, min_samples_leaf=2, n_estimators=1800, min_samples_split=5, max_features=sqrt, max_depth=60, total=  11.6s\n",
      "[CV] bootstrap=True, min_samples_leaf=2, n_estimators=1800, min_samples_split=5, max_features=sqrt, max_depth=60 \n",
      "[CV]  bootstrap=True, min_samples_leaf=2, n_estimators=1800, min_samples_split=5, max_features=sqrt, max_depth=60, total=  10.7s\n",
      "[CV] bootstrap=True, min_samples_leaf=2, n_estimators=1800, min_samples_split=5, max_features=sqrt, max_depth=60 \n",
      "[CV]  bootstrap=False, min_samples_leaf=2, n_estimators=2000, min_samples_split=10, max_features=auto, max_depth=60, total= 1.4min\n",
      "[CV] bootstrap=False, min_samples_leaf=1, n_estimators=400, min_samples_split=5, max_features=auto, max_depth=90 \n",
      "[CV]  bootstrap=False, min_samples_leaf=2, n_estimators=2000, min_samples_split=10, max_features=auto, max_depth=60, total= 1.4min\n",
      "[CV] bootstrap=False, min_samples_leaf=1, n_estimators=400, min_samples_split=5, max_features=auto, max_depth=90 \n",
      "[CV]  bootstrap=False, min_samples_leaf=2, n_estimators=2000, min_samples_split=10, max_features=auto, max_depth=60, total= 1.4min\n",
      "[CV] bootstrap=False, min_samples_leaf=1, n_estimators=400, min_samples_split=5, max_features=auto, max_depth=90 \n",
      "[CV]  bootstrap=True, min_samples_leaf=2, n_estimators=1800, min_samples_split=5, max_features=sqrt, max_depth=60, total=  10.1s\n",
      "[CV] bootstrap=True, min_samples_leaf=1, n_estimators=1600, min_samples_split=5, max_features=auto, max_depth=90 \n",
      "[CV]  bootstrap=False, min_samples_leaf=1, n_estimators=400, min_samples_split=5, max_features=auto, max_depth=90, total=  23.4s\n",
      "[CV] bootstrap=True, min_samples_leaf=1, n_estimators=1600, min_samples_split=5, max_features=auto, max_depth=90 \n",
      "[CV]  bootstrap=False, min_samples_leaf=1, n_estimators=400, min_samples_split=5, max_features=auto, max_depth=90, total=  24.0s\n",
      "[CV] bootstrap=True, min_samples_leaf=1, n_estimators=1600, min_samples_split=5, max_features=auto, max_depth=90 \n"
     ]
    },
    {
     "name": "stdout",
     "output_type": "stream",
     "text": [
      "[CV]  bootstrap=False, min_samples_leaf=1, n_estimators=400, min_samples_split=5, max_features=auto, max_depth=90, total=  23.6s\n",
      "[CV] bootstrap=False, min_samples_leaf=2, n_estimators=400, min_samples_split=10, max_features=sqrt, max_depth=90 \n",
      "[CV]  bootstrap=False, min_samples_leaf=2, n_estimators=400, min_samples_split=10, max_features=sqrt, max_depth=90, total=   2.7s\n",
      "[CV] bootstrap=False, min_samples_leaf=2, n_estimators=400, min_samples_split=10, max_features=sqrt, max_depth=90 \n",
      "[CV]  bootstrap=False, min_samples_leaf=2, n_estimators=400, min_samples_split=10, max_features=sqrt, max_depth=90, total=   2.2s\n",
      "[CV] bootstrap=False, min_samples_leaf=2, n_estimators=400, min_samples_split=10, max_features=sqrt, max_depth=90 \n",
      "[CV]  bootstrap=False, min_samples_leaf=2, n_estimators=400, min_samples_split=10, max_features=sqrt, max_depth=90, total=   2.2s\n",
      "[CV] bootstrap=True, min_samples_leaf=1, n_estimators=1600, min_samples_split=10, max_features=sqrt, max_depth=None \n",
      "[CV]  bootstrap=True, min_samples_leaf=1, n_estimators=1600, min_samples_split=10, max_features=sqrt, max_depth=None, total=   9.8s\n",
      "[CV] bootstrap=True, min_samples_leaf=1, n_estimators=1600, min_samples_split=10, max_features=sqrt, max_depth=None \n",
      "[CV]  bootstrap=True, min_samples_leaf=1, n_estimators=1600, min_samples_split=10, max_features=sqrt, max_depth=None, total=   9.8s\n",
      "[CV] bootstrap=True, min_samples_leaf=1, n_estimators=1600, min_samples_split=10, max_features=sqrt, max_depth=None \n",
      "[CV]  bootstrap=True, min_samples_leaf=1, n_estimators=1600, min_samples_split=5, max_features=auto, max_depth=90, total=  54.0s\n",
      "[CV] bootstrap=True, min_samples_leaf=1, n_estimators=2000, min_samples_split=5, max_features=sqrt, max_depth=100 \n",
      "[CV]  bootstrap=True, min_samples_leaf=1, n_estimators=1600, min_samples_split=10, max_features=sqrt, max_depth=None, total=   9.3s\n",
      "[CV] bootstrap=True, min_samples_leaf=1, n_estimators=2000, min_samples_split=5, max_features=sqrt, max_depth=100 \n",
      "[CV]  bootstrap=True, min_samples_leaf=1, n_estimators=2000, min_samples_split=5, max_features=sqrt, max_depth=100, total=  14.2s\n",
      "[CV] bootstrap=True, min_samples_leaf=1, n_estimators=2000, min_samples_split=5, max_features=sqrt, max_depth=100 \n",
      "[CV]  bootstrap=True, min_samples_leaf=1, n_estimators=1600, min_samples_split=5, max_features=auto, max_depth=90, total=  52.5s\n",
      "[CV] bootstrap=True, min_samples_leaf=2, n_estimators=1000, min_samples_split=5, max_features=sqrt, max_depth=10 \n",
      "[CV]  bootstrap=True, min_samples_leaf=1, n_estimators=1600, min_samples_split=5, max_features=auto, max_depth=90, total=  54.6s\n",
      "[CV] bootstrap=True, min_samples_leaf=2, n_estimators=1000, min_samples_split=5, max_features=sqrt, max_depth=10 \n",
      "[CV]  bootstrap=True, min_samples_leaf=1, n_estimators=2000, min_samples_split=5, max_features=sqrt, max_depth=100, total=  14.5s\n",
      "[CV] bootstrap=True, min_samples_leaf=2, n_estimators=1000, min_samples_split=5, max_features=sqrt, max_depth=10 \n",
      "[CV]  bootstrap=True, min_samples_leaf=2, n_estimators=1000, min_samples_split=5, max_features=sqrt, max_depth=10, total=   6.6s\n",
      "[CV] bootstrap=True, min_samples_leaf=4, n_estimators=200, min_samples_split=5, max_features=auto, max_depth=80 \n",
      "[CV]  bootstrap=True, min_samples_leaf=2, n_estimators=1000, min_samples_split=5, max_features=sqrt, max_depth=10, total=   7.2s\n",
      "[CV] bootstrap=True, min_samples_leaf=4, n_estimators=200, min_samples_split=5, max_features=auto, max_depth=80 \n",
      "[CV]  bootstrap=True, min_samples_leaf=2, n_estimators=1000, min_samples_split=5, max_features=sqrt, max_depth=10, total=   7.0s\n",
      "[CV] bootstrap=True, min_samples_leaf=4, n_estimators=200, min_samples_split=5, max_features=auto, max_depth=80 \n",
      "[CV]  bootstrap=True, min_samples_leaf=1, n_estimators=2000, min_samples_split=5, max_features=sqrt, max_depth=100, total=  14.7s\n",
      "[CV] bootstrap=False, min_samples_leaf=4, n_estimators=2000, min_samples_split=2, max_features=auto, max_depth=60 \n",
      "[CV]  bootstrap=True, min_samples_leaf=4, n_estimators=200, min_samples_split=5, max_features=auto, max_depth=80, total=   5.2s\n",
      "[CV] bootstrap=False, min_samples_leaf=4, n_estimators=2000, min_samples_split=2, max_features=auto, max_depth=60 \n",
      "[CV]  bootstrap=True, min_samples_leaf=4, n_estimators=200, min_samples_split=5, max_features=auto, max_depth=80, total=   5.0s\n",
      "[CV] bootstrap=False, min_samples_leaf=4, n_estimators=2000, min_samples_split=2, max_features=auto, max_depth=60 \n",
      "[CV]  bootstrap=True, min_samples_leaf=4, n_estimators=200, min_samples_split=5, max_features=auto, max_depth=80, total=   4.9s\n",
      "[CV] bootstrap=True, min_samples_leaf=2, n_estimators=600, min_samples_split=10, max_features=auto, max_depth=100 \n",
      "[CV]  bootstrap=True, min_samples_leaf=2, n_estimators=600, min_samples_split=10, max_features=auto, max_depth=100, total=  14.3s\n",
      "[CV] bootstrap=True, min_samples_leaf=2, n_estimators=600, min_samples_split=10, max_features=auto, max_depth=100 \n",
      "[CV]  bootstrap=True, min_samples_leaf=2, n_estimators=600, min_samples_split=10, max_features=auto, max_depth=100, total=  16.8s\n",
      "[CV] bootstrap=True, min_samples_leaf=2, n_estimators=600, min_samples_split=10, max_features=auto, max_depth=100 \n",
      "[CV]  bootstrap=True, min_samples_leaf=2, n_estimators=600, min_samples_split=10, max_features=auto, max_depth=100, total=  16.3s\n",
      "[CV] bootstrap=True, min_samples_leaf=4, n_estimators=1000, min_samples_split=5, max_features=auto, max_depth=100 \n",
      "[CV]  bootstrap=True, min_samples_leaf=4, n_estimators=1000, min_samples_split=5, max_features=auto, max_depth=100, total=  26.7s\n",
      "[CV] bootstrap=True, min_samples_leaf=4, n_estimators=1000, min_samples_split=5, max_features=auto, max_depth=100 \n",
      "[CV]  bootstrap=False, min_samples_leaf=4, n_estimators=2000, min_samples_split=2, max_features=auto, max_depth=60, total= 1.4min\n",
      "[CV] bootstrap=True, min_samples_leaf=4, n_estimators=1000, min_samples_split=5, max_features=auto, max_depth=100 \n",
      "[CV]  bootstrap=False, min_samples_leaf=4, n_estimators=2000, min_samples_split=2, max_features=auto, max_depth=60, total= 1.4min\n",
      "[CV] bootstrap=False, min_samples_leaf=2, n_estimators=800, min_samples_split=10, max_features=auto, max_depth=None \n",
      "[CV]  bootstrap=False, min_samples_leaf=4, n_estimators=2000, min_samples_split=2, max_features=auto, max_depth=60, total= 1.4min\n",
      "[CV] bootstrap=False, min_samples_leaf=2, n_estimators=800, min_samples_split=10, max_features=auto, max_depth=None \n",
      "[CV]  bootstrap=True, min_samples_leaf=4, n_estimators=1000, min_samples_split=5, max_features=auto, max_depth=100, total=  28.4s\n",
      "[CV] bootstrap=False, min_samples_leaf=2, n_estimators=800, min_samples_split=10, max_features=auto, max_depth=None \n",
      "[CV]  bootstrap=True, min_samples_leaf=4, n_estimators=1000, min_samples_split=5, max_features=auto, max_depth=100, total=  26.0s\n",
      "[CV] bootstrap=False, min_samples_leaf=4, n_estimators=800, min_samples_split=5, max_features=sqrt, max_depth=70 \n",
      "[CV]  bootstrap=False, min_samples_leaf=4, n_estimators=800, min_samples_split=5, max_features=sqrt, max_depth=70, total=   6.8s\n",
      "[CV] bootstrap=False, min_samples_leaf=4, n_estimators=800, min_samples_split=5, max_features=sqrt, max_depth=70 \n",
      "[CV]  bootstrap=False, min_samples_leaf=2, n_estimators=800, min_samples_split=10, max_features=auto, max_depth=None, total=  37.2s\n",
      "[CV] bootstrap=False, min_samples_leaf=4, n_estimators=800, min_samples_split=5, max_features=sqrt, max_depth=70 \n",
      "[CV]  bootstrap=False, min_samples_leaf=4, n_estimators=800, min_samples_split=5, max_features=sqrt, max_depth=70, total=   5.9s\n",
      "[CV] bootstrap=False, min_samples_leaf=1, n_estimators=600, min_samples_split=10, max_features=sqrt, max_depth=40 \n",
      "[CV]  bootstrap=False, min_samples_leaf=2, n_estimators=800, min_samples_split=10, max_features=auto, max_depth=None, total=  38.2s\n",
      "[CV] bootstrap=False, min_samples_leaf=1, n_estimators=600, min_samples_split=10, max_features=sqrt, max_depth=40 \n",
      "[CV]  bootstrap=False, min_samples_leaf=4, n_estimators=800, min_samples_split=5, max_features=sqrt, max_depth=70, total=   5.6s\n",
      "[CV] bootstrap=False, min_samples_leaf=1, n_estimators=600, min_samples_split=10, max_features=sqrt, max_depth=40 \n",
      "[CV]  bootstrap=False, min_samples_leaf=1, n_estimators=600, min_samples_split=10, max_features=sqrt, max_depth=40, total=   4.7s\n"
     ]
    },
    {
     "name": "stdout",
     "output_type": "stream",
     "text": [
      "[CV] bootstrap=True, min_samples_leaf=1, n_estimators=400, min_samples_split=5, max_features=sqrt, max_depth=100 \n",
      "[CV]  bootstrap=True, min_samples_leaf=1, n_estimators=400, min_samples_split=5, max_features=sqrt, max_depth=100, total=   2.7s\n",
      "[CV] bootstrap=True, min_samples_leaf=1, n_estimators=400, min_samples_split=5, max_features=sqrt, max_depth=100 \n",
      "[CV]  bootstrap=False, min_samples_leaf=1, n_estimators=600, min_samples_split=10, max_features=sqrt, max_depth=40, total=   4.5s\n",
      "[CV] bootstrap=True, min_samples_leaf=1, n_estimators=400, min_samples_split=5, max_features=sqrt, max_depth=100 \n",
      "[CV]  bootstrap=False, min_samples_leaf=1, n_estimators=600, min_samples_split=10, max_features=sqrt, max_depth=40, total=   4.6s\n",
      "[CV] bootstrap=True, min_samples_leaf=4, n_estimators=1600, min_samples_split=2, max_features=sqrt, max_depth=80 \n",
      "[CV]  bootstrap=True, min_samples_leaf=1, n_estimators=400, min_samples_split=5, max_features=sqrt, max_depth=100, total=   3.4s\n",
      "[CV] bootstrap=True, min_samples_leaf=4, n_estimators=1600, min_samples_split=2, max_features=sqrt, max_depth=80 \n",
      "[CV]  bootstrap=True, min_samples_leaf=1, n_estimators=400, min_samples_split=5, max_features=sqrt, max_depth=100, total=   2.5s\n",
      "[CV] bootstrap=True, min_samples_leaf=4, n_estimators=1600, min_samples_split=2, max_features=sqrt, max_depth=80 \n",
      "[CV]  bootstrap=True, min_samples_leaf=4, n_estimators=1600, min_samples_split=2, max_features=sqrt, max_depth=80, total=   9.1s\n",
      "[CV] bootstrap=True, min_samples_leaf=4, n_estimators=800, min_samples_split=10, max_features=sqrt, max_depth=100 \n",
      "[CV]  bootstrap=True, min_samples_leaf=4, n_estimators=1600, min_samples_split=2, max_features=sqrt, max_depth=80, total=   9.2s\n",
      "[CV] bootstrap=True, min_samples_leaf=4, n_estimators=800, min_samples_split=10, max_features=sqrt, max_depth=100 \n",
      "[CV]  bootstrap=True, min_samples_leaf=4, n_estimators=1600, min_samples_split=2, max_features=sqrt, max_depth=80, total=  11.0s\n",
      "[CV] bootstrap=True, min_samples_leaf=4, n_estimators=800, min_samples_split=10, max_features=sqrt, max_depth=100 \n",
      "[CV]  bootstrap=False, min_samples_leaf=2, n_estimators=800, min_samples_split=10, max_features=auto, max_depth=None, total=  39.1s\n",
      "[CV] bootstrap=True, min_samples_leaf=2, n_estimators=1000, min_samples_split=10, max_features=sqrt, max_depth=10 \n",
      "[CV]  bootstrap=True, min_samples_leaf=4, n_estimators=800, min_samples_split=10, max_features=sqrt, max_depth=100, total=   4.8s\n",
      "[CV] bootstrap=True, min_samples_leaf=2, n_estimators=1000, min_samples_split=10, max_features=sqrt, max_depth=10 \n",
      "[CV]  bootstrap=True, min_samples_leaf=4, n_estimators=800, min_samples_split=10, max_features=sqrt, max_depth=100, total=   5.2s\n",
      "[CV] bootstrap=True, min_samples_leaf=2, n_estimators=1000, min_samples_split=10, max_features=sqrt, max_depth=10 \n",
      "[CV]  bootstrap=True, min_samples_leaf=4, n_estimators=800, min_samples_split=10, max_features=sqrt, max_depth=100, total=   4.9s\n",
      "[CV] bootstrap=True, min_samples_leaf=1, n_estimators=600, min_samples_split=10, max_features=sqrt, max_depth=110 \n",
      "[CV]  bootstrap=True, min_samples_leaf=2, n_estimators=1000, min_samples_split=10, max_features=sqrt, max_depth=10, total=   5.3s\n",
      "[CV] bootstrap=True, min_samples_leaf=1, n_estimators=600, min_samples_split=10, max_features=sqrt, max_depth=110 \n",
      "[CV]  bootstrap=True, min_samples_leaf=2, n_estimators=1000, min_samples_split=10, max_features=sqrt, max_depth=10, total=   6.0s\n",
      "[CV] bootstrap=True, min_samples_leaf=1, n_estimators=600, min_samples_split=10, max_features=sqrt, max_depth=110 \n",
      "[CV]  bootstrap=True, min_samples_leaf=1, n_estimators=600, min_samples_split=10, max_features=sqrt, max_depth=110, total=   3.8s\n",
      "[CV] bootstrap=False, min_samples_leaf=4, n_estimators=2000, min_samples_split=5, max_features=sqrt, max_depth=None \n",
      "[CV]  bootstrap=True, min_samples_leaf=1, n_estimators=600, min_samples_split=10, max_features=sqrt, max_depth=110, total=   4.1s\n",
      "[CV] bootstrap=False, min_samples_leaf=4, n_estimators=2000, min_samples_split=5, max_features=sqrt, max_depth=None \n",
      "[CV]  bootstrap=True, min_samples_leaf=2, n_estimators=1000, min_samples_split=10, max_features=sqrt, max_depth=10, total=   6.4s\n",
      "[CV] bootstrap=False, min_samples_leaf=4, n_estimators=2000, min_samples_split=5, max_features=sqrt, max_depth=None \n",
      "[CV]  bootstrap=True, min_samples_leaf=1, n_estimators=600, min_samples_split=10, max_features=sqrt, max_depth=110, total=   3.9s\n",
      "[CV] bootstrap=True, min_samples_leaf=1, n_estimators=800, min_samples_split=5, max_features=sqrt, max_depth=40 \n",
      "[CV]  bootstrap=True, min_samples_leaf=1, n_estimators=800, min_samples_split=5, max_features=sqrt, max_depth=40, total=   5.8s\n",
      "[CV] bootstrap=True, min_samples_leaf=1, n_estimators=800, min_samples_split=5, max_features=sqrt, max_depth=40 \n",
      "[CV]  bootstrap=True, min_samples_leaf=1, n_estimators=800, min_samples_split=5, max_features=sqrt, max_depth=40, total=   6.7s\n",
      "[CV] bootstrap=True, min_samples_leaf=1, n_estimators=800, min_samples_split=5, max_features=sqrt, max_depth=40 \n",
      "[CV]  bootstrap=False, min_samples_leaf=4, n_estimators=2000, min_samples_split=5, max_features=sqrt, max_depth=None, total=  15.4s\n",
      "[CV] bootstrap=True, min_samples_leaf=4, n_estimators=600, min_samples_split=2, max_features=auto, max_depth=40 \n",
      "[CV]  bootstrap=False, min_samples_leaf=4, n_estimators=2000, min_samples_split=5, max_features=sqrt, max_depth=None, total=  15.4s\n",
      "[CV] bootstrap=True, min_samples_leaf=4, n_estimators=600, min_samples_split=2, max_features=auto, max_depth=40 \n",
      "[CV]  bootstrap=False, min_samples_leaf=4, n_estimators=2000, min_samples_split=5, max_features=sqrt, max_depth=None, total=  15.8s\n",
      "[CV] bootstrap=True, min_samples_leaf=4, n_estimators=600, min_samples_split=2, max_features=auto, max_depth=40 \n",
      "[CV]  bootstrap=True, min_samples_leaf=1, n_estimators=800, min_samples_split=5, max_features=sqrt, max_depth=40, total=   5.6s\n",
      "[CV] bootstrap=False, min_samples_leaf=4, n_estimators=600, min_samples_split=2, max_features=sqrt, max_depth=30 \n",
      "[CV]  bootstrap=False, min_samples_leaf=4, n_estimators=600, min_samples_split=2, max_features=sqrt, max_depth=30, total=   3.4s\n",
      "[CV] bootstrap=False, min_samples_leaf=4, n_estimators=600, min_samples_split=2, max_features=sqrt, max_depth=30 \n",
      "[CV]  bootstrap=False, min_samples_leaf=4, n_estimators=600, min_samples_split=2, max_features=sqrt, max_depth=30, total=   3.3s\n",
      "[CV] bootstrap=False, min_samples_leaf=4, n_estimators=600, min_samples_split=2, max_features=sqrt, max_depth=30 \n",
      "[CV]  bootstrap=True, min_samples_leaf=4, n_estimators=600, min_samples_split=2, max_features=auto, max_depth=40, total=  14.3s\n",
      "[CV] bootstrap=False, min_samples_leaf=2, n_estimators=400, min_samples_split=10, max_features=auto, max_depth=40 \n",
      "[CV]  bootstrap=False, min_samples_leaf=4, n_estimators=600, min_samples_split=2, max_features=sqrt, max_depth=30, total=   3.3s\n",
      "[CV] bootstrap=False, min_samples_leaf=2, n_estimators=400, min_samples_split=10, max_features=auto, max_depth=40 \n",
      "[CV]  bootstrap=True, min_samples_leaf=4, n_estimators=600, min_samples_split=2, max_features=auto, max_depth=40, total=  14.0s\n",
      "[CV] bootstrap=False, min_samples_leaf=2, n_estimators=400, min_samples_split=10, max_features=auto, max_depth=40 \n",
      "[CV]  bootstrap=True, min_samples_leaf=4, n_estimators=600, min_samples_split=2, max_features=auto, max_depth=40, total=  14.0s\n",
      "[CV] bootstrap=False, min_samples_leaf=1, n_estimators=1000, min_samples_split=2, max_features=auto, max_depth=10 \n",
      "[CV]  bootstrap=False, min_samples_leaf=2, n_estimators=400, min_samples_split=10, max_features=auto, max_depth=40, total=  15.6s\n",
      "[CV] bootstrap=False, min_samples_leaf=1, n_estimators=1000, min_samples_split=2, max_features=auto, max_depth=10 \n",
      "[CV]  bootstrap=False, min_samples_leaf=2, n_estimators=400, min_samples_split=10, max_features=auto, max_depth=40, total=  16.0s\n",
      "[CV] bootstrap=False, min_samples_leaf=1, n_estimators=1000, min_samples_split=2, max_features=auto, max_depth=10 \n",
      "[CV]  bootstrap=False, min_samples_leaf=2, n_estimators=400, min_samples_split=10, max_features=auto, max_depth=40, total=  16.0s\n",
      "[CV] bootstrap=False, min_samples_leaf=4, n_estimators=200, min_samples_split=5, max_features=auto, max_depth=100 \n",
      "[CV]  bootstrap=False, min_samples_leaf=4, n_estimators=200, min_samples_split=5, max_features=auto, max_depth=100, total=   8.2s\n"
     ]
    },
    {
     "name": "stdout",
     "output_type": "stream",
     "text": [
      "[CV] bootstrap=False, min_samples_leaf=4, n_estimators=200, min_samples_split=5, max_features=auto, max_depth=100 \n",
      "[CV]  bootstrap=False, min_samples_leaf=4, n_estimators=200, min_samples_split=5, max_features=auto, max_depth=100, total=   7.6s\n",
      "[CV] bootstrap=False, min_samples_leaf=4, n_estimators=200, min_samples_split=5, max_features=auto, max_depth=100 \n",
      "[CV]  bootstrap=False, min_samples_leaf=4, n_estimators=200, min_samples_split=5, max_features=auto, max_depth=100, total=   7.8s\n",
      "[CV] bootstrap=True, min_samples_leaf=2, n_estimators=2000, min_samples_split=2, max_features=sqrt, max_depth=20 \n",
      "[CV]  bootstrap=False, min_samples_leaf=1, n_estimators=1000, min_samples_split=2, max_features=auto, max_depth=10, total=  43.4s\n",
      "[CV] bootstrap=True, min_samples_leaf=2, n_estimators=2000, min_samples_split=2, max_features=sqrt, max_depth=20 \n",
      "[CV]  bootstrap=True, min_samples_leaf=2, n_estimators=2000, min_samples_split=2, max_features=sqrt, max_depth=20, total=  14.7s\n",
      "[CV] bootstrap=True, min_samples_leaf=2, n_estimators=2000, min_samples_split=2, max_features=sqrt, max_depth=20 \n",
      "[CV]  bootstrap=True, min_samples_leaf=2, n_estimators=2000, min_samples_split=2, max_features=sqrt, max_depth=20, total=  13.6s\n",
      "[CV] bootstrap=True, min_samples_leaf=2, n_estimators=2000, min_samples_split=10, max_features=auto, max_depth=40 \n",
      "[CV]  bootstrap=False, min_samples_leaf=1, n_estimators=1000, min_samples_split=2, max_features=auto, max_depth=10, total=  43.9s\n",
      "[CV] bootstrap=True, min_samples_leaf=2, n_estimators=2000, min_samples_split=10, max_features=auto, max_depth=40 \n",
      "[CV]  bootstrap=False, min_samples_leaf=1, n_estimators=1000, min_samples_split=2, max_features=auto, max_depth=10, total=  47.2s\n",
      "[CV] bootstrap=True, min_samples_leaf=2, n_estimators=2000, min_samples_split=10, max_features=auto, max_depth=40 \n",
      "[CV]  bootstrap=True, min_samples_leaf=2, n_estimators=2000, min_samples_split=2, max_features=sqrt, max_depth=20, total=  14.1s\n",
      "[CV]  bootstrap=True, min_samples_leaf=2, n_estimators=2000, min_samples_split=10, max_features=auto, max_depth=40, total=  43.4s\n",
      "[CV]  bootstrap=True, min_samples_leaf=2, n_estimators=2000, min_samples_split=10, max_features=auto, max_depth=40, total=  47.3s\n",
      "[CV]  bootstrap=True, min_samples_leaf=2, n_estimators=2000, min_samples_split=10, max_features=auto, max_depth=40, total=  43.7s\n"
     ]
    },
    {
     "name": "stderr",
     "output_type": "stream",
     "text": [
      "[Parallel(n_jobs=-1)]: Done 300 out of 300 | elapsed: 28.2min finished\n"
     ]
    },
    {
     "data": {
      "text/plain": [
       "RandomizedSearchCV(cv=3, error_score='raise',\n",
       "          estimator=RandomForestRegressor(bootstrap=True, criterion='mse', max_depth=None,\n",
       "           max_features='auto', max_leaf_nodes=None,\n",
       "           min_impurity_decrease=0.0, min_impurity_split=None,\n",
       "           min_samples_leaf=1, min_samples_split=2,\n",
       "           min_weight_fraction_leaf=0.0, n_estimators=10, n_jobs=1,\n",
       "           oob_score=False, random_state=None, verbose=0, warm_start=False),\n",
       "          fit_params=None, iid=True, n_iter=100, n_jobs=-1,\n",
       "          param_distributions={'bootstrap': [True, False], 'min_samples_leaf': [1, 2, 4], 'n_estimators': [200, 400, 600, 800, 1000, 1200, 1400, 1600, 1800, 2000], 'min_samples_split': [2, 5, 10], 'max_features': ['auto', 'sqrt'], 'max_depth': [10, 20, 30, 40, 50, 60, 70, 80, 90, 100, 110, None]},\n",
       "          pre_dispatch='2*n_jobs', random_state=42, refit=True,\n",
       "          return_train_score='warn', scoring=None, verbose=2)"
      ]
     },
     "execution_count": 120,
     "metadata": {},
     "output_type": "execute_result"
    }
   ],
   "source": [
    "# Use the random grid to search for best hyperparameters\n",
    "# First create the base model to tune\n",
    "rf = RandomForestRegressor()\n",
    "# Random search of parameters, using 3 fold cross validation, \n",
    "# search across 100 different combinations, and use all available cores\n",
    "rf_random = RandomizedSearchCV(estimator = rf, param_distributions = random_grid, n_iter = 100, cv = 3, verbose=2, random_state=42, n_jobs = -1)\n",
    "\n",
    "# Fit the random search model\n",
    "rf_random.fit(X, y)"
   ]
  },
  {
   "cell_type": "code",
   "execution_count": 121,
   "metadata": {},
   "outputs": [
    {
     "data": {
      "text/plain": [
       "{'bootstrap': False,\n",
       " 'max_depth': 70,\n",
       " 'max_features': 'sqrt',\n",
       " 'min_samples_leaf': 1,\n",
       " 'min_samples_split': 5,\n",
       " 'n_estimators': 1600}"
      ]
     },
     "execution_count": 121,
     "metadata": {},
     "output_type": "execute_result"
    }
   ],
   "source": [
    "rf_random.best_params_"
   ]
  },
  {
   "cell_type": "code",
   "execution_count": 128,
   "metadata": {},
   "outputs": [
    {
     "data": {
      "text/plain": [
       "0.8605163488916315"
      ]
     },
     "execution_count": 128,
     "metadata": {},
     "output_type": "execute_result"
    }
   ],
   "source": [
    "rf_random.best_score_"
   ]
  },
  {
   "cell_type": "code",
   "execution_count": 124,
   "metadata": {},
   "outputs": [],
   "source": [
    "rf_reg = RandomForestRegressor(**rf_random.best_params_)"
   ]
  },
  {
   "cell_type": "code",
   "execution_count": 125,
   "metadata": {},
   "outputs": [
    {
     "data": {
      "text/plain": [
       "array([0.89666219, 0.84750148, 0.84804658, 0.88823143, 0.83230723])"
      ]
     },
     "execution_count": 125,
     "metadata": {},
     "output_type": "execute_result"
    }
   ],
   "source": [
    "cross_val_score(rf_reg, X, y, cv=5)"
   ]
  },
  {
   "cell_type": "markdown",
   "metadata": {},
   "source": [
    "# Boosted trees (XGBoost)"
   ]
  },
  {
   "cell_type": "code",
   "execution_count": 113,
   "metadata": {},
   "outputs": [],
   "source": [
    "from xgboost import XGBRegressor"
   ]
  },
  {
   "cell_type": "code",
   "execution_count": 114,
   "metadata": {},
   "outputs": [],
   "source": [
    "xgb_reg = XGBRegressor()"
   ]
  },
  {
   "cell_type": "code",
   "execution_count": 115,
   "metadata": {},
   "outputs": [
    {
     "data": {
      "text/plain": [
       "array([0.89815046, 0.85510074, 0.88272666, 0.86578092, 0.89358486])"
      ]
     },
     "execution_count": 115,
     "metadata": {},
     "output_type": "execute_result"
    }
   ],
   "source": [
    "cross_val_score(xgb_reg, X, y, cv=5)"
   ]
  },
  {
   "cell_type": "markdown",
   "metadata": {},
   "source": [
    "## hyper-parameter tuning - grid search cv"
   ]
  },
  {
   "cell_type": "code",
   "execution_count": 130,
   "metadata": {},
   "outputs": [
    {
     "name": "stdout",
     "output_type": "stream",
     "text": [
      "Parameters currently in use:\n",
      "\n",
      "{'base_score': 0.5,\n",
      " 'booster': 'gbtree',\n",
      " 'colsample_bylevel': 1,\n",
      " 'colsample_bytree': 1,\n",
      " 'gamma': 0,\n",
      " 'learning_rate': 0.1,\n",
      " 'max_delta_step': 0,\n",
      " 'max_depth': 3,\n",
      " 'min_child_weight': 1,\n",
      " 'missing': None,\n",
      " 'n_estimators': 100,\n",
      " 'n_jobs': 1,\n",
      " 'nthread': None,\n",
      " 'objective': 'reg:linear',\n",
      " 'random_state': 0,\n",
      " 'reg_alpha': 0,\n",
      " 'reg_lambda': 1,\n",
      " 'scale_pos_weight': 1,\n",
      " 'seed': None,\n",
      " 'silent': True,\n",
      " 'subsample': 1}\n"
     ]
    }
   ],
   "source": [
    "from pprint import pprint\n",
    "\n",
    "# Look at parameters used by our current forest\n",
    "print('Parameters currently in use:\\n')\n",
    "pprint(xgb_reg.get_params())"
   ]
  },
  {
   "cell_type": "code",
   "execution_count": 142,
   "metadata": {},
   "outputs": [],
   "source": [
    "from sklearn.model_selection import GridSearchCV\n",
    "from sklearn.model_selection import StratifiedKFold\n",
    "import matplotlib\n",
    "matplotlib.use('Agg')\n",
    "from matplotlib import pyplot"
   ]
  },
  {
   "cell_type": "code",
   "execution_count": 150,
   "metadata": {},
   "outputs": [
    {
     "name": "stdout",
     "output_type": "stream",
     "text": [
      "[2, 4, 6, 8]\n",
      "Fitting 10 folds for each of 16 candidates, totalling 160 fits\n"
     ]
    },
    {
     "name": "stderr",
     "output_type": "stream",
     "text": [
      "[Parallel(n_jobs=-1)]: Done  42 tasks      | elapsed:   10.1s\n",
      "[Parallel(n_jobs=-1)]: Done 160 out of 160 | elapsed:  1.5min finished\n"
     ]
    },
    {
     "name": "stdout",
     "output_type": "stream",
     "text": [
      "Best: 0.783432 using {'n_estimators': 200, 'max_depth': 2}\n",
      "0.709266 (0.258779) with: {'n_estimators': 50, 'max_depth': 2}\n",
      "0.759835 (0.234506) with: {'n_estimators': 100, 'max_depth': 2}\n",
      "0.773760 (0.239416) with: {'n_estimators': 150, 'max_depth': 2}\n",
      "0.783432 (0.239189) with: {'n_estimators': 200, 'max_depth': 2}\n",
      "0.759739 (0.254433) with: {'n_estimators': 50, 'max_depth': 4}\n",
      "0.772115 (0.264259) with: {'n_estimators': 100, 'max_depth': 4}\n",
      "0.773551 (0.269285) with: {'n_estimators': 150, 'max_depth': 4}\n",
      "0.775028 (0.272369) with: {'n_estimators': 200, 'max_depth': 4}\n",
      "0.752214 (0.266743) with: {'n_estimators': 50, 'max_depth': 6}\n",
      "0.760061 (0.271006) with: {'n_estimators': 100, 'max_depth': 6}\n",
      "0.761447 (0.269853) with: {'n_estimators': 150, 'max_depth': 6}\n",
      "0.762032 (0.269565) with: {'n_estimators': 200, 'max_depth': 6}\n",
      "0.751514 (0.240933) with: {'n_estimators': 50, 'max_depth': 8}\n",
      "0.758653 (0.240528) with: {'n_estimators': 100, 'max_depth': 8}\n",
      "0.759741 (0.236886) with: {'n_estimators': 150, 'max_depth': 8}\n",
      "0.760328 (0.234213) with: {'n_estimators': 200, 'max_depth': 8}\n"
     ]
    }
   ],
   "source": [
    "# grid search\n",
    "model = XGBRegressor()\n",
    "n_estimators = [50, 100, 150, 200]\n",
    "max_depth = [2, 4, 6, 8]\n",
    "print(max_depth)\n",
    "param_grid = dict(max_depth=max_depth, n_estimators=n_estimators)\n",
    "kfold = StratifiedKFold(n_splits=10, shuffle=True, random_state=7)\n",
    "grid_search = GridSearchCV(model, param_grid, n_jobs=-1, cv=kfold, verbose=1)\n",
    "grid_result = grid_search.fit(X, y)\n",
    "# summarize results\n",
    "print(\"Best: %f using %s\" % (grid_result.best_score_, grid_result.best_params_))\n",
    "means = grid_result.cv_results_['mean_test_score']\n",
    "stds = grid_result.cv_results_['std_test_score']\n",
    "params = grid_result.cv_results_['params']\n",
    "for mean, stdev, param in zip(means, stds, params):\n",
    "\tprint(\"%f (%f) with: %r\" % (mean, stdev, param))"
   ]
  },
  {
   "cell_type": "code",
   "execution_count": 151,
   "metadata": {},
   "outputs": [
    {
     "data": {
      "text/plain": [
       "{'max_depth': 2, 'n_estimators': 200}"
      ]
     },
     "execution_count": 151,
     "metadata": {},
     "output_type": "execute_result"
    }
   ],
   "source": [
    "grid_result.best_params_"
   ]
  },
  {
   "cell_type": "code",
   "execution_count": 152,
   "metadata": {},
   "outputs": [
    {
     "data": {
      "text/plain": [
       "0.7834320950381478"
      ]
     },
     "execution_count": 152,
     "metadata": {},
     "output_type": "execute_result"
    }
   ],
   "source": [
    "grid_result.best_score_"
   ]
  },
  {
   "cell_type": "code",
   "execution_count": 153,
   "metadata": {},
   "outputs": [
    {
     "data": {
      "text/plain": [
       "array([0.90296104, 0.85337292, 0.88907835, 0.87132205, 0.89870928])"
      ]
     },
     "execution_count": 153,
     "metadata": {},
     "output_type": "execute_result"
    }
   ],
   "source": [
    "xgb_reg = XGBRegressor(max_depth=3, n_estimators=200)\n",
    "cross_val_score(xgb_reg, X, y, cv=5)"
   ]
  },
  {
   "cell_type": "markdown",
   "metadata": {},
   "source": [
    "# Scoring"
   ]
  },
  {
   "cell_type": "code",
   "execution_count": 157,
   "metadata": {},
   "outputs": [
    {
     "data": {
      "text/plain": [
       "XGBRegressor(base_score=0.5, booster='gbtree', colsample_bylevel=1,\n",
       "       colsample_bytree=1, gamma=0, learning_rate=0.1, max_delta_step=0,\n",
       "       max_depth=3, min_child_weight=1, missing=None, n_estimators=200,\n",
       "       n_jobs=1, nthread=None, objective='reg:linear', random_state=0,\n",
       "       reg_alpha=0, reg_lambda=1, scale_pos_weight=1, seed=None,\n",
       "       silent=True, subsample=1)"
      ]
     },
     "execution_count": 157,
     "metadata": {},
     "output_type": "execute_result"
    }
   ],
   "source": [
    "xgb_reg.fit(X,y)"
   ]
  },
  {
   "cell_type": "code",
   "execution_count": 184,
   "metadata": {},
   "outputs": [],
   "source": [
    "predictions = xgb_reg.predict(processed_test.values)"
   ]
  },
  {
   "cell_type": "code",
   "execution_count": 185,
   "metadata": {},
   "outputs": [
    {
     "data": {
      "text/plain": [
       "1459"
      ]
     },
     "execution_count": 185,
     "metadata": {},
     "output_type": "execute_result"
    }
   ],
   "source": [
    "len(predictions)"
   ]
  },
  {
   "cell_type": "code",
   "execution_count": 186,
   "metadata": {},
   "outputs": [
    {
     "data": {
      "text/plain": [
       "1459"
      ]
     },
     "execution_count": 186,
     "metadata": {},
     "output_type": "execute_result"
    }
   ],
   "source": [
    "len(range(1461,2920))"
   ]
  },
  {
   "cell_type": "code",
   "execution_count": 191,
   "metadata": {},
   "outputs": [],
   "source": [
    "import pandas as pd\n",
    "df_out = pd.DataFrame(data={'Id':range(1461,2920),'SalePrice':predictions})"
   ]
  },
  {
   "cell_type": "code",
   "execution_count": 192,
   "metadata": {},
   "outputs": [
    {
     "data": {
      "text/html": [
       "<div>\n",
       "<style scoped>\n",
       "    .dataframe tbody tr th:only-of-type {\n",
       "        vertical-align: middle;\n",
       "    }\n",
       "\n",
       "    .dataframe tbody tr th {\n",
       "        vertical-align: top;\n",
       "    }\n",
       "\n",
       "    .dataframe thead th {\n",
       "        text-align: right;\n",
       "    }\n",
       "</style>\n",
       "<table border=\"1\" class=\"dataframe\">\n",
       "  <thead>\n",
       "    <tr style=\"text-align: right;\">\n",
       "      <th></th>\n",
       "      <th>Id</th>\n",
       "      <th>SalePrice</th>\n",
       "    </tr>\n",
       "  </thead>\n",
       "  <tbody>\n",
       "    <tr>\n",
       "      <th>0</th>\n",
       "      <td>1461</td>\n",
       "      <td>119338.375000</td>\n",
       "    </tr>\n",
       "    <tr>\n",
       "      <th>1</th>\n",
       "      <td>1462</td>\n",
       "      <td>157816.750000</td>\n",
       "    </tr>\n",
       "    <tr>\n",
       "      <th>2</th>\n",
       "      <td>1463</td>\n",
       "      <td>176400.234375</td>\n",
       "    </tr>\n",
       "    <tr>\n",
       "      <th>3</th>\n",
       "      <td>1464</td>\n",
       "      <td>186328.593750</td>\n",
       "    </tr>\n",
       "    <tr>\n",
       "      <th>4</th>\n",
       "      <td>1465</td>\n",
       "      <td>189387.750000</td>\n",
       "    </tr>\n",
       "  </tbody>\n",
       "</table>\n",
       "</div>"
      ],
      "text/plain": [
       "     Id      SalePrice\n",
       "0  1461  119338.375000\n",
       "1  1462  157816.750000\n",
       "2  1463  176400.234375\n",
       "3  1464  186328.593750\n",
       "4  1465  189387.750000"
      ]
     },
     "execution_count": 192,
     "metadata": {},
     "output_type": "execute_result"
    }
   ],
   "source": [
    "df_out.head()"
   ]
  },
  {
   "cell_type": "code",
   "execution_count": 193,
   "metadata": {},
   "outputs": [],
   "source": [
    "df_out.to_csv('predictions.csv', index= False)"
   ]
  }
 ],
 "metadata": {
  "kernelspec": {
   "display_name": "Python 2",
   "language": "python",
   "name": "python2"
  },
  "language_info": {
   "codemirror_mode": {
    "name": "ipython",
    "version": 2
   },
   "file_extension": ".py",
   "mimetype": "text/x-python",
   "name": "python",
   "nbconvert_exporter": "python",
   "pygments_lexer": "ipython2",
   "version": "2.7.15rc1"
  }
 },
 "nbformat": 4,
 "nbformat_minor": 2
}
