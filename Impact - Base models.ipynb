{
 "cells": [
  {
   "cell_type": "markdown",
   "metadata": {},
   "source": [
    "# Pre-processing"
   ]
  },
  {
   "cell_type": "code",
   "execution_count": 1,
   "metadata": {},
   "outputs": [],
   "source": [
    "import pandas as pd"
   ]
  },
  {
   "cell_type": "code",
   "execution_count": 2,
   "metadata": {},
   "outputs": [],
   "source": [
    "in_data = pd.read_csv(\"../data/combined_dataset_0406.xlsx - combined_dataset_0406.csv\")"
   ]
  },
  {
   "cell_type": "code",
   "execution_count": 10,
   "metadata": {},
   "outputs": [],
   "source": [
    "in_data = in_data[['enterprise_name',\n",
    "'size',\n",
    "'business_started_year',\n",
    "'market_type',\n",
    "'road_type',\n",
    "'type',\n",
    "'investment.amount',\n",
    "'stock_value',\n",
    "'New.Monthly.Sales',\n",
    "'Total.Population.of.Village',\n",
    "'District.Head.Quarter...Distance.in.km.',\n",
    "'Nearest.Statutory.Town..Distance.in.km.',\n",
    "'Agriculture',\n",
    "'Light.and.Fuel',\n",
    "'Credit/Deposit',\n",
    "'MICA',\n",
    "'Avg.Demand.x',\n",
    "'Avg.Demand.y']]"
   ]
  },
  {
   "cell_type": "code",
   "execution_count": 11,
   "metadata": {},
   "outputs": [
    {
     "name": "stdout",
     "output_type": "stream",
     "text": [
      "enterprise_name                                   1\n",
      "size                                              1\n",
      "business_started_year                      0.975817\n",
      "market_type                                0.956954\n",
      "road_type                                         1\n",
      "type                                       0.930422\n",
      "investment.amount                          0.935742\n",
      "stock_value                                0.998273\n",
      "New.Monthly.Sales                                 1\n",
      "Total.Population.of.Village                0.912527\n",
      "District.Head.Quarter...Distance.in.km.    0.912527\n",
      "Nearest.Statutory.Town..Distance.in.km.    0.912527\n",
      "Agriculture                                0.999931\n",
      "Light.and.Fuel                             0.999931\n",
      "Credit/Deposit                             0.978581\n",
      "MICA                                       0.999931\n",
      "Avg.Demand.x                               0.758239\n",
      "Avg.Demand.y                               0.415049\n",
      "Name: count, dtype: object\n"
     ]
    }
   ],
   "source": [
    "# available data\n",
    "with pd.option_context(\"display.max_rows\", 1000): \n",
    "    print(in_data.describe(include='all').loc['count']/in_data.shape[0])"
   ]
  },
  {
   "cell_type": "code",
   "execution_count": 12,
   "metadata": {},
   "outputs": [
    {
     "data": {
      "text/html": [
       "<div>\n",
       "<style scoped>\n",
       "    .dataframe tbody tr th:only-of-type {\n",
       "        vertical-align: middle;\n",
       "    }\n",
       "\n",
       "    .dataframe tbody tr th {\n",
       "        vertical-align: top;\n",
       "    }\n",
       "\n",
       "    .dataframe thead th {\n",
       "        text-align: right;\n",
       "    }\n",
       "</style>\n",
       "<table border=\"1\" class=\"dataframe\">\n",
       "  <thead>\n",
       "    <tr style=\"text-align: right;\">\n",
       "      <th></th>\n",
       "      <th>enterprise_name</th>\n",
       "      <th>size</th>\n",
       "      <th>business_started_year</th>\n",
       "      <th>market_type</th>\n",
       "      <th>road_type</th>\n",
       "      <th>type</th>\n",
       "      <th>investment.amount</th>\n",
       "      <th>stock_value</th>\n",
       "      <th>New.Monthly.Sales</th>\n",
       "      <th>Total.Population.of.Village</th>\n",
       "      <th>District.Head.Quarter...Distance.in.km.</th>\n",
       "      <th>Nearest.Statutory.Town..Distance.in.km.</th>\n",
       "      <th>Agriculture</th>\n",
       "      <th>Light.and.Fuel</th>\n",
       "      <th>Credit/Deposit</th>\n",
       "      <th>MICA</th>\n",
       "      <th>Avg.Demand.x</th>\n",
       "      <th>Avg.Demand.y</th>\n",
       "    </tr>\n",
       "  </thead>\n",
       "  <tbody>\n",
       "    <tr>\n",
       "      <th>0</th>\n",
       "      <td>Agarbattitrading</td>\n",
       "      <td>medium</td>\n",
       "      <td>4.38</td>\n",
       "      <td>Stand Alone</td>\n",
       "      <td>Major Road</td>\n",
       "      <td>fixed</td>\n",
       "      <td>248892.70880</td>\n",
       "      <td>NaN</td>\n",
       "      <td>90909.09091</td>\n",
       "      <td>1563.746032</td>\n",
       "      <td>121.190476</td>\n",
       "      <td>55.460317</td>\n",
       "      <td>5.0859</td>\n",
       "      <td>3.0462</td>\n",
       "      <td>0.578707</td>\n",
       "      <td>53.77</td>\n",
       "      <td>661.658158</td>\n",
       "      <td>NaN</td>\n",
       "    </tr>\n",
       "    <tr>\n",
       "      <th>1</th>\n",
       "      <td>Aluminiumworks</td>\n",
       "      <td>small</td>\n",
       "      <td>23.39</td>\n",
       "      <td>Small Market</td>\n",
       "      <td>Village Road</td>\n",
       "      <td>fixed</td>\n",
       "      <td>15971.74247</td>\n",
       "      <td>NaN</td>\n",
       "      <td>24000.00000</td>\n",
       "      <td>643.015625</td>\n",
       "      <td>126.500000</td>\n",
       "      <td>124.859375</td>\n",
       "      <td>2.5333</td>\n",
       "      <td>1.6213</td>\n",
       "      <td>NaN</td>\n",
       "      <td>41.59</td>\n",
       "      <td>779.906283</td>\n",
       "      <td>NaN</td>\n",
       "    </tr>\n",
       "    <tr>\n",
       "      <th>2</th>\n",
       "      <td>Automobileancillary</td>\n",
       "      <td>medium</td>\n",
       "      <td>8.25</td>\n",
       "      <td>Stand Alone</td>\n",
       "      <td>National Highway</td>\n",
       "      <td>fixed</td>\n",
       "      <td>NaN</td>\n",
       "      <td>100000.0</td>\n",
       "      <td>80000.00000</td>\n",
       "      <td>1134.244444</td>\n",
       "      <td>23.600000</td>\n",
       "      <td>23.600000</td>\n",
       "      <td>20.6134</td>\n",
       "      <td>1.4150</td>\n",
       "      <td>0.787072</td>\n",
       "      <td>19.59</td>\n",
       "      <td>1318.973605</td>\n",
       "      <td>NaN</td>\n",
       "    </tr>\n",
       "    <tr>\n",
       "      <th>3</th>\n",
       "      <td>Automobileancillary</td>\n",
       "      <td>medium</td>\n",
       "      <td>22.25</td>\n",
       "      <td>Small Market</td>\n",
       "      <td>Major Road</td>\n",
       "      <td>fixed</td>\n",
       "      <td>NaN</td>\n",
       "      <td>700000.0</td>\n",
       "      <td>90000.00000</td>\n",
       "      <td>1134.244444</td>\n",
       "      <td>23.600000</td>\n",
       "      <td>23.600000</td>\n",
       "      <td>20.6134</td>\n",
       "      <td>1.4150</td>\n",
       "      <td>0.787072</td>\n",
       "      <td>19.59</td>\n",
       "      <td>1318.973605</td>\n",
       "      <td>NaN</td>\n",
       "    </tr>\n",
       "    <tr>\n",
       "      <th>4</th>\n",
       "      <td>Automobileancillary</td>\n",
       "      <td>small</td>\n",
       "      <td>20.25</td>\n",
       "      <td>Small Market</td>\n",
       "      <td>Village Road</td>\n",
       "      <td>fixed</td>\n",
       "      <td>NaN</td>\n",
       "      <td>3000.0</td>\n",
       "      <td>10000.00000</td>\n",
       "      <td>1382.215686</td>\n",
       "      <td>51.941176</td>\n",
       "      <td>14.333333</td>\n",
       "      <td>20.6134</td>\n",
       "      <td>1.4150</td>\n",
       "      <td>0.787072</td>\n",
       "      <td>19.59</td>\n",
       "      <td>NaN</td>\n",
       "      <td>NaN</td>\n",
       "    </tr>\n",
       "  </tbody>\n",
       "</table>\n",
       "</div>"
      ],
      "text/plain": [
       "       enterprise_name    size  business_started_year   market_type  \\\n",
       "0     Agarbattitrading  medium                   4.38   Stand Alone   \n",
       "1       Aluminiumworks   small                  23.39  Small Market   \n",
       "2  Automobileancillary  medium                   8.25   Stand Alone   \n",
       "3  Automobileancillary  medium                  22.25  Small Market   \n",
       "4  Automobileancillary   small                  20.25  Small Market   \n",
       "\n",
       "          road_type   type  investment.amount  stock_value  New.Monthly.Sales  \\\n",
       "0        Major Road  fixed       248892.70880          NaN        90909.09091   \n",
       "1      Village Road  fixed        15971.74247          NaN        24000.00000   \n",
       "2  National Highway  fixed                NaN     100000.0        80000.00000   \n",
       "3        Major Road  fixed                NaN     700000.0        90000.00000   \n",
       "4      Village Road  fixed                NaN       3000.0        10000.00000   \n",
       "\n",
       "   Total.Population.of.Village  District.Head.Quarter...Distance.in.km.  \\\n",
       "0                  1563.746032                               121.190476   \n",
       "1                   643.015625                               126.500000   \n",
       "2                  1134.244444                                23.600000   \n",
       "3                  1134.244444                                23.600000   \n",
       "4                  1382.215686                                51.941176   \n",
       "\n",
       "   Nearest.Statutory.Town..Distance.in.km.  Agriculture  Light.and.Fuel  \\\n",
       "0                                55.460317       5.0859          3.0462   \n",
       "1                               124.859375       2.5333          1.6213   \n",
       "2                                23.600000      20.6134          1.4150   \n",
       "3                                23.600000      20.6134          1.4150   \n",
       "4                                14.333333      20.6134          1.4150   \n",
       "\n",
       "   Credit/Deposit   MICA  Avg.Demand.x  Avg.Demand.y  \n",
       "0        0.578707  53.77    661.658158           NaN  \n",
       "1             NaN  41.59    779.906283           NaN  \n",
       "2        0.787072  19.59   1318.973605           NaN  \n",
       "3        0.787072  19.59   1318.973605           NaN  \n",
       "4        0.787072  19.59           NaN           NaN  "
      ]
     },
     "execution_count": 12,
     "metadata": {},
     "output_type": "execute_result"
    }
   ],
   "source": [
    "in_data.head()"
   ]
  },
  {
   "cell_type": "code",
   "execution_count": 15,
   "metadata": {},
   "outputs": [],
   "source": [
    "import numpy as np\n",
    "\n",
    "msk = np.random.rand(len(in_data)) < 0.8\n",
    "\n",
    "train = in_data[msk]\n",
    "\n",
    "test = in_data[~msk]"
   ]
  },
  {
   "cell_type": "code",
   "execution_count": 16,
   "metadata": {},
   "outputs": [
    {
     "data": {
      "text/html": [
       "<div>\n",
       "<style scoped>\n",
       "    .dataframe tbody tr th:only-of-type {\n",
       "        vertical-align: middle;\n",
       "    }\n",
       "\n",
       "    .dataframe tbody tr th {\n",
       "        vertical-align: top;\n",
       "    }\n",
       "\n",
       "    .dataframe thead th {\n",
       "        text-align: right;\n",
       "    }\n",
       "</style>\n",
       "<table border=\"1\" class=\"dataframe\">\n",
       "  <thead>\n",
       "    <tr style=\"text-align: right;\">\n",
       "      <th></th>\n",
       "      <th>enterprise_name</th>\n",
       "      <th>size</th>\n",
       "      <th>business_started_year</th>\n",
       "      <th>market_type</th>\n",
       "      <th>road_type</th>\n",
       "      <th>type</th>\n",
       "      <th>investment.amount</th>\n",
       "      <th>stock_value</th>\n",
       "      <th>New.Monthly.Sales</th>\n",
       "      <th>Total.Population.of.Village</th>\n",
       "      <th>District.Head.Quarter...Distance.in.km.</th>\n",
       "      <th>Nearest.Statutory.Town..Distance.in.km.</th>\n",
       "      <th>Agriculture</th>\n",
       "      <th>Light.and.Fuel</th>\n",
       "      <th>Credit/Deposit</th>\n",
       "      <th>MICA</th>\n",
       "      <th>Avg.Demand.x</th>\n",
       "      <th>Avg.Demand.y</th>\n",
       "    </tr>\n",
       "  </thead>\n",
       "  <tbody>\n",
       "    <tr>\n",
       "      <th>0</th>\n",
       "      <td>Agarbattitrading</td>\n",
       "      <td>medium</td>\n",
       "      <td>4.38</td>\n",
       "      <td>Stand Alone</td>\n",
       "      <td>Major Road</td>\n",
       "      <td>fixed</td>\n",
       "      <td>248892.70880</td>\n",
       "      <td>NaN</td>\n",
       "      <td>90909.09091</td>\n",
       "      <td>1563.746032</td>\n",
       "      <td>121.190476</td>\n",
       "      <td>55.460317</td>\n",
       "      <td>5.0859</td>\n",
       "      <td>3.0462</td>\n",
       "      <td>0.578707</td>\n",
       "      <td>53.77</td>\n",
       "      <td>661.658158</td>\n",
       "      <td>NaN</td>\n",
       "    </tr>\n",
       "    <tr>\n",
       "      <th>1</th>\n",
       "      <td>Aluminiumworks</td>\n",
       "      <td>small</td>\n",
       "      <td>23.39</td>\n",
       "      <td>Small Market</td>\n",
       "      <td>Village Road</td>\n",
       "      <td>fixed</td>\n",
       "      <td>15971.74247</td>\n",
       "      <td>NaN</td>\n",
       "      <td>24000.00000</td>\n",
       "      <td>643.015625</td>\n",
       "      <td>126.500000</td>\n",
       "      <td>124.859375</td>\n",
       "      <td>2.5333</td>\n",
       "      <td>1.6213</td>\n",
       "      <td>NaN</td>\n",
       "      <td>41.59</td>\n",
       "      <td>779.906283</td>\n",
       "      <td>NaN</td>\n",
       "    </tr>\n",
       "    <tr>\n",
       "      <th>3</th>\n",
       "      <td>Automobileancillary</td>\n",
       "      <td>medium</td>\n",
       "      <td>22.25</td>\n",
       "      <td>Small Market</td>\n",
       "      <td>Major Road</td>\n",
       "      <td>fixed</td>\n",
       "      <td>NaN</td>\n",
       "      <td>700000.0</td>\n",
       "      <td>90000.00000</td>\n",
       "      <td>1134.244444</td>\n",
       "      <td>23.600000</td>\n",
       "      <td>23.600000</td>\n",
       "      <td>20.6134</td>\n",
       "      <td>1.4150</td>\n",
       "      <td>0.787072</td>\n",
       "      <td>19.59</td>\n",
       "      <td>1318.973605</td>\n",
       "      <td>NaN</td>\n",
       "    </tr>\n",
       "    <tr>\n",
       "      <th>4</th>\n",
       "      <td>Automobileancillary</td>\n",
       "      <td>small</td>\n",
       "      <td>20.25</td>\n",
       "      <td>Small Market</td>\n",
       "      <td>Village Road</td>\n",
       "      <td>fixed</td>\n",
       "      <td>NaN</td>\n",
       "      <td>3000.0</td>\n",
       "      <td>10000.00000</td>\n",
       "      <td>1382.215686</td>\n",
       "      <td>51.941176</td>\n",
       "      <td>14.333333</td>\n",
       "      <td>20.6134</td>\n",
       "      <td>1.4150</td>\n",
       "      <td>0.787072</td>\n",
       "      <td>19.59</td>\n",
       "      <td>NaN</td>\n",
       "      <td>NaN</td>\n",
       "    </tr>\n",
       "    <tr>\n",
       "      <th>5</th>\n",
       "      <td>Automobileancillary</td>\n",
       "      <td>small</td>\n",
       "      <td>10.08</td>\n",
       "      <td>Large Market</td>\n",
       "      <td>Major Road</td>\n",
       "      <td>fixed</td>\n",
       "      <td>NaN</td>\n",
       "      <td>100000.0</td>\n",
       "      <td>15000.00000</td>\n",
       "      <td>4951.214286</td>\n",
       "      <td>95.714286</td>\n",
       "      <td>22.428571</td>\n",
       "      <td>43.9511</td>\n",
       "      <td>2.1173</td>\n",
       "      <td>1.358157</td>\n",
       "      <td>35.00</td>\n",
       "      <td>NaN</td>\n",
       "      <td>NaN</td>\n",
       "    </tr>\n",
       "  </tbody>\n",
       "</table>\n",
       "</div>"
      ],
      "text/plain": [
       "       enterprise_name    size  business_started_year   market_type  \\\n",
       "0     Agarbattitrading  medium                   4.38   Stand Alone   \n",
       "1       Aluminiumworks   small                  23.39  Small Market   \n",
       "3  Automobileancillary  medium                  22.25  Small Market   \n",
       "4  Automobileancillary   small                  20.25  Small Market   \n",
       "5  Automobileancillary   small                  10.08  Large Market   \n",
       "\n",
       "      road_type   type  investment.amount  stock_value  New.Monthly.Sales  \\\n",
       "0    Major Road  fixed       248892.70880          NaN        90909.09091   \n",
       "1  Village Road  fixed        15971.74247          NaN        24000.00000   \n",
       "3    Major Road  fixed                NaN     700000.0        90000.00000   \n",
       "4  Village Road  fixed                NaN       3000.0        10000.00000   \n",
       "5    Major Road  fixed                NaN     100000.0        15000.00000   \n",
       "\n",
       "   Total.Population.of.Village  District.Head.Quarter...Distance.in.km.  \\\n",
       "0                  1563.746032                               121.190476   \n",
       "1                   643.015625                               126.500000   \n",
       "3                  1134.244444                                23.600000   \n",
       "4                  1382.215686                                51.941176   \n",
       "5                  4951.214286                                95.714286   \n",
       "\n",
       "   Nearest.Statutory.Town..Distance.in.km.  Agriculture  Light.and.Fuel  \\\n",
       "0                                55.460317       5.0859          3.0462   \n",
       "1                               124.859375       2.5333          1.6213   \n",
       "3                                23.600000      20.6134          1.4150   \n",
       "4                                14.333333      20.6134          1.4150   \n",
       "5                                22.428571      43.9511          2.1173   \n",
       "\n",
       "   Credit/Deposit   MICA  Avg.Demand.x  Avg.Demand.y  \n",
       "0        0.578707  53.77    661.658158           NaN  \n",
       "1             NaN  41.59    779.906283           NaN  \n",
       "3        0.787072  19.59   1318.973605           NaN  \n",
       "4        0.787072  19.59           NaN           NaN  \n",
       "5        1.358157  35.00           NaN           NaN  "
      ]
     },
     "execution_count": 16,
     "metadata": {},
     "output_type": "execute_result"
    }
   ],
   "source": [
    "train.head()"
   ]
  },
  {
   "cell_type": "code",
   "execution_count": 17,
   "metadata": {},
   "outputs": [
    {
     "data": {
      "text/plain": [
       "(11675, 18)"
      ]
     },
     "execution_count": 17,
     "metadata": {},
     "output_type": "execute_result"
    }
   ],
   "source": [
    "train.shape"
   ]
  },
  {
   "cell_type": "code",
   "execution_count": 18,
   "metadata": {},
   "outputs": [
    {
     "data": {
      "text/plain": [
       "(2798, 18)"
      ]
     },
     "execution_count": 18,
     "metadata": {},
     "output_type": "execute_result"
    }
   ],
   "source": [
    "test.shape"
   ]
  },
  {
   "cell_type": "code",
   "execution_count": 19,
   "metadata": {},
   "outputs": [
    {
     "data": {
      "text/plain": [
       "Index([u'enterprise_name', u'size', u'business_started_year', u'market_type',\n",
       "       u'road_type', u'type', u'investment.amount', u'stock_value',\n",
       "       u'New.Monthly.Sales', u'Total.Population.of.Village',\n",
       "       u'District.Head.Quarter...Distance.in.km.',\n",
       "       u'Nearest.Statutory.Town..Distance.in.km.', u'Agriculture',\n",
       "       u'Light.and.Fuel', u'Credit/Deposit', u'MICA', u'Avg.Demand.x',\n",
       "       u'Avg.Demand.y'],\n",
       "      dtype='object')"
      ]
     },
     "execution_count": 19,
     "metadata": {},
     "output_type": "execute_result"
    }
   ],
   "source": [
    "train.columns"
   ]
  },
  {
   "cell_type": "code",
   "execution_count": 28,
   "metadata": {},
   "outputs": [
    {
     "data": {
      "text/plain": [
       "{'enterprise_name', 'market_type', 'road_type', 'size', 'type'}"
      ]
     },
     "execution_count": 28,
     "metadata": {},
     "output_type": "execute_result"
    }
   ],
   "source": [
    "set(train.columns)- set(train._get_numeric_data().columns)"
   ]
  },
  {
   "cell_type": "code",
   "execution_count": 27,
   "metadata": {},
   "outputs": [],
   "source": [
    "numeric_cols = [u'business_started_year', u'investment.amount', u'stock_value', u'Total.Population.of.Village',\n",
    "       u'District.Head.Quarter...Distance.in.km.',\n",
    "       u'Nearest.Statutory.Town..Distance.in.km.', u'Agriculture',\n",
    "       u'Light.and.Fuel', u'Credit/Deposit', u'MICA', u'Avg.Demand.x',\n",
    "       u'Avg.Demand.y']"
   ]
  },
  {
   "cell_type": "code",
   "execution_count": 29,
   "metadata": {},
   "outputs": [],
   "source": [
    "categorical_cols = ['enterprise_name', 'market_type', 'road_type', 'size', 'type']"
   ]
  },
  {
   "cell_type": "code",
   "execution_count": 30,
   "metadata": {},
   "outputs": [],
   "source": [
    "from sklearn.base import TransformerMixin\n",
    "import pandas as pd\n",
    "import numpy as np"
   ]
  },
  {
   "cell_type": "code",
   "execution_count": 31,
   "metadata": {},
   "outputs": [],
   "source": [
    "class DFMissingNum(TransformerMixin):\n",
    "    '''\n",
    "    Replaces missing values by input value or method.Below are the methods available. \n",
    "    'mean': replace missing values using the mean.\n",
    "    'median': replace missing values using the median\n",
    "    'most_frequent': replace missing values using the mode\n",
    "    'backfill' or 'bfill': use NEXT valid observation to fill gap.\n",
    "    'pad' or 'ffill': propagate last valid observation forward to next valid.\n",
    "    Numeric value: Replaces with the input value\n",
    "    Ex: repalce = \"\"mean\"\" for replacing with mean, replace = 0 for replacing with the numeric 0\n",
    "    Note: No quotes for numeric values\n",
    "    '''\n",
    "    def __init__(self,replace):\n",
    "        self.replace = replace\n",
    "        self.imp = None\n",
    "        self.statistics_ = None        \n",
    "        \n",
    "    def fit(self,X,y=None): \n",
    "         \n",
    "        if type(self.replace) == dict:\n",
    "            for key, value in self.replace.iteritems():\n",
    "                if value in ['mean','median','most_frequent']:\n",
    "                    self.replace[key] = _Impute(value= value,S=X[key])\n",
    "            \n",
    "        elif self.replace in ['mean','median','most_frequent']:\n",
    "            self.imp = DFImputer(strategy=self.replace)\n",
    "            self.imp.fit(X)\n",
    "            self.statistics_ = pd.Series(self.imp.statistics_, index=X.columns)\n",
    "        return self    \n",
    "    \n",
    "    def transform(self,X):\n",
    "        if self.replace in ['mean','median','most_frequent']:\n",
    "            Ximp = self.imp.transform(X)\n",
    "            X_replaced = pd.DataFrame(Ximp, index=X.index, columns=X.columns)\n",
    "        \n",
    "        elif self.replace in ['backfill','bfill','pad','ffill']:\n",
    "            X_replaced = X.fillna(method=self.replace)\n",
    "        \n",
    "        elif type(self.replace) == dict:\n",
    "            X_replaced = X.copy()\n",
    "            for key, value in self.replace.iteritems():\n",
    "                if value in ['backfill','bfill','pad','ffill']:\n",
    "                    X_replaced[key] = X_replaced[key].fillna(method=value)\n",
    "                else:\n",
    "                    X_replaced[key] = X_replaced[key].fillna(value=value)\n",
    "        else:\n",
    "            X_replaced = X.fillna(value=self.replace)\n",
    "        return X_replaced"
   ]
  },
  {
   "cell_type": "code",
   "execution_count": 32,
   "metadata": {},
   "outputs": [],
   "source": [
    "class DFMissingStr(TransformerMixin):\n",
    "    '''\n",
    "    METHODS\n",
    "    most_frequent:\n",
    "    backfill/bfill:\n",
    "    pad/ffill:\n",
    "    '''\n",
    "    def __init__(self,replace):\n",
    "        self.replace = replace\n",
    "        self.statistics_ = None\n",
    "    def fit(self,X,y=None):\n",
    "        \n",
    "        if type(self.replace) == dict:\n",
    "            for key, value in self.replace.iteritems():\n",
    "                if value == 'most_frequent':\n",
    "                    self.replace[key] = X[key].mode()[0]\n",
    "        elif self.replace =='most_frequent':\n",
    "            self.statistics_= X.mode().to_dict()\n",
    "            for key,value in self.statistics_.items():\n",
    "                self.statistics_[key] = value.values()[0]\n",
    "\n",
    "        return self    \n",
    "    def transform(self,X):\n",
    "        if self.replace == 'most_frequent':\n",
    "            X_replaced= X.fillna(self.statistics_)\n",
    "        \n",
    "        elif self.replace in ['backfill','bfill','pad','ffill']:\n",
    "            X_replaced = X.fillna(method=self.replace)\n",
    "            \n",
    "        elif type(self.replace) == dict:\n",
    "            X_replaced = X.copy()\n",
    "            for key, value in self.replace.iteritems():\n",
    "                if value in ['backfill','bfill','pad','ffill']:\n",
    "                    X_replaced[key] = X_replaced[key].fillna(method=value)\n",
    "                else:\n",
    "                    X_replaced[key] = X_replaced[key].fillna(value=value)\n",
    "        else:\n",
    "            X_replaced = X.fillna(value=self.replace)\n",
    "        return X_replaced"
   ]
  },
  {
   "cell_type": "code",
   "execution_count": 33,
   "metadata": {},
   "outputs": [],
   "source": [
    "class DFOneHot(TransformerMixin):\n",
    "    '''\n",
    "    dummy_na: Unseeen values Boolean\n",
    "    reference - https://pandas.pydata.org/pandas-docs/stable/generated/pandas.get_dummies.html\n",
    "    '''\n",
    "    \n",
    "    def __init__(self,dummy_na=False):\n",
    "        self.dummy_na=dummy_na\n",
    "        self.categories_ = {}\n",
    "    \n",
    "    def fit(self, X, y=None):\n",
    "        for col in list(X):\n",
    "            self.categories_[col] = X[col].unique()\n",
    "        return self\n",
    "    \n",
    "    def transform(self,X):\n",
    "        X_new = X.copy()\n",
    "        for colname, levels in self.categories_.iteritems():\n",
    "            X_new[colname][~X_new[colname].isin(levels)] = np.NaN\n",
    "        X_dummy = pd.get_dummies(X_new,dummy_na=self.dummy_na)\n",
    "        \n",
    "        fit_colnames = []\n",
    "        for colname, levels in self.categories_.iteritems():\n",
    "            for level in levels:\n",
    "                fit_colnames.append(str(colname)+'_'+str(level))\n",
    "        \n",
    "        X_dummy = X_dummy.reindex(columns= fit_colnames, fill_value= 0)\n",
    "        \n",
    "        return X_dummy\n"
   ]
  },
  {
   "cell_type": "code",
   "execution_count": 34,
   "metadata": {},
   "outputs": [],
   "source": [
    "class ColumnExtractor(TransformerMixin):\n",
    "\n",
    "    def __init__(self, cols):\n",
    "        self.cols = cols\n",
    "\n",
    "    def fit(self, X, y=None):\n",
    "        # stateless transformer\n",
    "        return self\n",
    "\n",
    "    def transform(self, X):\n",
    "        # assumes X is a DataFrame\n",
    "        Xcols = pd.DataFrame(X[self.cols])\n",
    "        return Xcols"
   ]
  },
  {
   "cell_type": "code",
   "execution_count": 35,
   "metadata": {},
   "outputs": [],
   "source": [
    "class DFFeatureUnion(TransformerMixin):\n",
    "    # FeatureUnion but for pandas DataFrames\n",
    "\n",
    "    def __init__(self, transformer_list):\n",
    "        self.transformer_list = transformer_list\n",
    "        print \"Feature union successfully initiated.\"\n",
    "\n",
    "    def fit(self, X, y=None):\n",
    "        for (name, t) in self.transformer_list:\n",
    "            t.fit(X, y)\n",
    "\n",
    "        print \"Feature union - successful fit.\"\n",
    "        return self\n",
    "\n",
    "    def transform(self, X):\n",
    "        # assumes X is a DataFrame\n",
    "        Xts = [t.transform(X) for _, t in self.transformer_list]\n",
    "        Xunion = reduce(lambda X1, X2: pd.merge(X1, X2, left_index=True, right_index=True), Xts)\n",
    "        print \"Feature union - successful transform.\"\n",
    "        return Xunion"
   ]
  },
  {
   "cell_type": "code",
   "execution_count": 36,
   "metadata": {},
   "outputs": [],
   "source": [
    "from sklearn.preprocessing import Imputer\n",
    "class DFImputer(TransformerMixin):\n",
    "    # Imputer but for pandas DataFrames\n",
    "\n",
    "    def __init__(self, strategy='mean'):\n",
    "        self.strategy = strategy\n",
    "        self.imp = None\n",
    "        self.statistics_ = None\n",
    "\n",
    "    def fit(self, X, y=None):\n",
    "        self.imp = Imputer(strategy=self.strategy)\n",
    "        self.imp.fit(X)\n",
    "        self.statistics_ = pd.Series(self.imp.statistics_, index=X.columns)\n",
    "        return self\n",
    "\n",
    "    def transform(self, X):\n",
    "        # assumes X is a DataFrame\n",
    "        Ximp = self.imp.transform(X)\n",
    "        Xfilled = pd.DataFrame(Ximp, index=X.index, columns=X.columns)\n",
    "        return Xfilled\n"
   ]
  },
  {
   "cell_type": "code",
   "execution_count": 37,
   "metadata": {},
   "outputs": [],
   "source": [
    "from sklearn.pipeline import Pipeline"
   ]
  },
  {
   "cell_type": "code",
   "execution_count": 38,
   "metadata": {},
   "outputs": [
    {
     "name": "stdout",
     "output_type": "stream",
     "text": [
      "Feature union successfully initiated.\n"
     ]
    }
   ],
   "source": [
    "preprocess = Pipeline([(\"features\",DFFeatureUnion([\n",
    "    (\"numeric\",Pipeline([(\"num_sel\",ColumnExtractor(numeric_cols)),(\"num_impute\",DFMissingNum(replace='median'))])),\n",
    "    (\"categorical\",Pipeline([(\"cat_sel\",ColumnExtractor(categorical_cols)),(\"str_impute\",DFMissingStr(replace='most_frequent')),(\"one_hot\",DFOneHot())]))\n",
    "]))])"
   ]
  },
  {
   "cell_type": "code",
   "execution_count": 39,
   "metadata": {},
   "outputs": [
    {
     "name": "stdout",
     "output_type": "stream",
     "text": [
      "Feature union - successful fit.\n",
      "Feature union - successful transform.\n"
     ]
    }
   ],
   "source": [
    "processed_train = preprocess.fit_transform(train)"
   ]
  },
  {
   "cell_type": "code",
   "execution_count": 40,
   "metadata": {},
   "outputs": [
    {
     "name": "stdout",
     "output_type": "stream",
     "text": [
      "Feature union - successful transform.\n"
     ]
    }
   ],
   "source": [
    "processed_test = preprocess.transform(test)"
   ]
  },
  {
   "cell_type": "code",
   "execution_count": 41,
   "metadata": {},
   "outputs": [
    {
     "data": {
      "text/html": [
       "<div>\n",
       "<style scoped>\n",
       "    .dataframe tbody tr th:only-of-type {\n",
       "        vertical-align: middle;\n",
       "    }\n",
       "\n",
       "    .dataframe tbody tr th {\n",
       "        vertical-align: top;\n",
       "    }\n",
       "\n",
       "    .dataframe thead th {\n",
       "        text-align: right;\n",
       "    }\n",
       "</style>\n",
       "<table border=\"1\" class=\"dataframe\">\n",
       "  <thead>\n",
       "    <tr style=\"text-align: right;\">\n",
       "      <th></th>\n",
       "      <th>business_started_year</th>\n",
       "      <th>investment.amount</th>\n",
       "      <th>stock_value</th>\n",
       "      <th>Total.Population.of.Village</th>\n",
       "      <th>District.Head.Quarter...Distance.in.km.</th>\n",
       "      <th>Nearest.Statutory.Town..Distance.in.km.</th>\n",
       "      <th>Agriculture</th>\n",
       "      <th>Light.and.Fuel</th>\n",
       "      <th>Credit/Deposit</th>\n",
       "      <th>MICA</th>\n",
       "      <th>...</th>\n",
       "      <th>enterprise_name_Stationaryshop</th>\n",
       "      <th>enterprise_name_Studio</th>\n",
       "      <th>enterprise_name_Sweetstrading</th>\n",
       "      <th>enterprise_name_Tenthouse</th>\n",
       "      <th>enterprise_name_UtensilsVesselstrading</th>\n",
       "      <th>enterprise_name_Garmentsmanufacturing</th>\n",
       "      <th>enterprise_name_zariworkLadysboutique</th>\n",
       "      <th>size_medium</th>\n",
       "      <th>size_small</th>\n",
       "      <th>size_large</th>\n",
       "    </tr>\n",
       "  </thead>\n",
       "  <tbody>\n",
       "    <tr>\n",
       "      <th>0</th>\n",
       "      <td>4.38</td>\n",
       "      <td>248892.70880</td>\n",
       "      <td>15000.0</td>\n",
       "      <td>1563.746032</td>\n",
       "      <td>121.190476</td>\n",
       "      <td>55.460317</td>\n",
       "      <td>5.0859</td>\n",
       "      <td>3.0462</td>\n",
       "      <td>0.578707</td>\n",
       "      <td>53.77</td>\n",
       "      <td>...</td>\n",
       "      <td>0</td>\n",
       "      <td>0</td>\n",
       "      <td>0</td>\n",
       "      <td>0</td>\n",
       "      <td>0</td>\n",
       "      <td>0</td>\n",
       "      <td>0</td>\n",
       "      <td>1</td>\n",
       "      <td>0</td>\n",
       "      <td>0</td>\n",
       "    </tr>\n",
       "    <tr>\n",
       "      <th>1</th>\n",
       "      <td>23.39</td>\n",
       "      <td>15971.74247</td>\n",
       "      <td>15000.0</td>\n",
       "      <td>643.015625</td>\n",
       "      <td>126.500000</td>\n",
       "      <td>124.859375</td>\n",
       "      <td>2.5333</td>\n",
       "      <td>1.6213</td>\n",
       "      <td>0.520817</td>\n",
       "      <td>41.59</td>\n",
       "      <td>...</td>\n",
       "      <td>0</td>\n",
       "      <td>0</td>\n",
       "      <td>0</td>\n",
       "      <td>0</td>\n",
       "      <td>0</td>\n",
       "      <td>0</td>\n",
       "      <td>0</td>\n",
       "      <td>0</td>\n",
       "      <td>1</td>\n",
       "      <td>0</td>\n",
       "    </tr>\n",
       "    <tr>\n",
       "      <th>3</th>\n",
       "      <td>22.25</td>\n",
       "      <td>16981.56798</td>\n",
       "      <td>700000.0</td>\n",
       "      <td>1134.244444</td>\n",
       "      <td>23.600000</td>\n",
       "      <td>23.600000</td>\n",
       "      <td>20.6134</td>\n",
       "      <td>1.4150</td>\n",
       "      <td>0.787072</td>\n",
       "      <td>19.59</td>\n",
       "      <td>...</td>\n",
       "      <td>0</td>\n",
       "      <td>0</td>\n",
       "      <td>0</td>\n",
       "      <td>0</td>\n",
       "      <td>0</td>\n",
       "      <td>0</td>\n",
       "      <td>0</td>\n",
       "      <td>1</td>\n",
       "      <td>0</td>\n",
       "      <td>0</td>\n",
       "    </tr>\n",
       "    <tr>\n",
       "      <th>4</th>\n",
       "      <td>20.25</td>\n",
       "      <td>16981.56798</td>\n",
       "      <td>3000.0</td>\n",
       "      <td>1382.215686</td>\n",
       "      <td>51.941176</td>\n",
       "      <td>14.333333</td>\n",
       "      <td>20.6134</td>\n",
       "      <td>1.4150</td>\n",
       "      <td>0.787072</td>\n",
       "      <td>19.59</td>\n",
       "      <td>...</td>\n",
       "      <td>0</td>\n",
       "      <td>0</td>\n",
       "      <td>0</td>\n",
       "      <td>0</td>\n",
       "      <td>0</td>\n",
       "      <td>0</td>\n",
       "      <td>0</td>\n",
       "      <td>0</td>\n",
       "      <td>1</td>\n",
       "      <td>0</td>\n",
       "    </tr>\n",
       "    <tr>\n",
       "      <th>5</th>\n",
       "      <td>10.08</td>\n",
       "      <td>16981.56798</td>\n",
       "      <td>100000.0</td>\n",
       "      <td>4951.214286</td>\n",
       "      <td>95.714286</td>\n",
       "      <td>22.428571</td>\n",
       "      <td>43.9511</td>\n",
       "      <td>2.1173</td>\n",
       "      <td>1.358157</td>\n",
       "      <td>35.00</td>\n",
       "      <td>...</td>\n",
       "      <td>0</td>\n",
       "      <td>0</td>\n",
       "      <td>0</td>\n",
       "      <td>0</td>\n",
       "      <td>0</td>\n",
       "      <td>0</td>\n",
       "      <td>0</td>\n",
       "      <td>0</td>\n",
       "      <td>1</td>\n",
       "      <td>0</td>\n",
       "    </tr>\n",
       "  </tbody>\n",
       "</table>\n",
       "<p>5 rows × 72 columns</p>\n",
       "</div>"
      ],
      "text/plain": [
       "   business_started_year  investment.amount  stock_value  \\\n",
       "0                   4.38       248892.70880      15000.0   \n",
       "1                  23.39        15971.74247      15000.0   \n",
       "3                  22.25        16981.56798     700000.0   \n",
       "4                  20.25        16981.56798       3000.0   \n",
       "5                  10.08        16981.56798     100000.0   \n",
       "\n",
       "   Total.Population.of.Village  District.Head.Quarter...Distance.in.km.  \\\n",
       "0                  1563.746032                               121.190476   \n",
       "1                   643.015625                               126.500000   \n",
       "3                  1134.244444                                23.600000   \n",
       "4                  1382.215686                                51.941176   \n",
       "5                  4951.214286                                95.714286   \n",
       "\n",
       "   Nearest.Statutory.Town..Distance.in.km.  Agriculture  Light.and.Fuel  \\\n",
       "0                                55.460317       5.0859          3.0462   \n",
       "1                               124.859375       2.5333          1.6213   \n",
       "3                                23.600000      20.6134          1.4150   \n",
       "4                                14.333333      20.6134          1.4150   \n",
       "5                                22.428571      43.9511          2.1173   \n",
       "\n",
       "   Credit/Deposit   MICA     ...      enterprise_name_Stationaryshop  \\\n",
       "0        0.578707  53.77     ...                                   0   \n",
       "1        0.520817  41.59     ...                                   0   \n",
       "3        0.787072  19.59     ...                                   0   \n",
       "4        0.787072  19.59     ...                                   0   \n",
       "5        1.358157  35.00     ...                                   0   \n",
       "\n",
       "   enterprise_name_Studio  enterprise_name_Sweetstrading  \\\n",
       "0                       0                              0   \n",
       "1                       0                              0   \n",
       "3                       0                              0   \n",
       "4                       0                              0   \n",
       "5                       0                              0   \n",
       "\n",
       "   enterprise_name_Tenthouse  enterprise_name_UtensilsVesselstrading  \\\n",
       "0                          0                                       0   \n",
       "1                          0                                       0   \n",
       "3                          0                                       0   \n",
       "4                          0                                       0   \n",
       "5                          0                                       0   \n",
       "\n",
       "   enterprise_name_Garmentsmanufacturing  \\\n",
       "0                                      0   \n",
       "1                                      0   \n",
       "3                                      0   \n",
       "4                                      0   \n",
       "5                                      0   \n",
       "\n",
       "   enterprise_name_zariworkLadysboutique  size_medium  size_small  size_large  \n",
       "0                                      0            1           0           0  \n",
       "1                                      0            0           1           0  \n",
       "3                                      0            1           0           0  \n",
       "4                                      0            0           1           0  \n",
       "5                                      0            0           1           0  \n",
       "\n",
       "[5 rows x 72 columns]"
      ]
     },
     "execution_count": 41,
     "metadata": {},
     "output_type": "execute_result"
    }
   ],
   "source": [
    "processed_train.head()"
   ]
  },
  {
   "cell_type": "markdown",
   "metadata": {},
   "source": [
    "# Decision Tree"
   ]
  },
  {
   "cell_type": "code",
   "execution_count": 42,
   "metadata": {},
   "outputs": [],
   "source": [
    "from sklearn.tree import DecisionTreeRegressor\n",
    "from sklearn.model_selection import cross_val_score"
   ]
  },
  {
   "cell_type": "code",
   "execution_count": 43,
   "metadata": {},
   "outputs": [],
   "source": [
    "tree_reg = DecisionTreeRegressor(max_depth=2,)"
   ]
  },
  {
   "cell_type": "code",
   "execution_count": 44,
   "metadata": {},
   "outputs": [],
   "source": [
    "X = processed_train.values"
   ]
  },
  {
   "cell_type": "code",
   "execution_count": 46,
   "metadata": {},
   "outputs": [],
   "source": [
    "y = train['New.Monthly.Sales']"
   ]
  },
  {
   "cell_type": "code",
   "execution_count": 93,
   "metadata": {},
   "outputs": [
    {
     "name": "stdout",
     "output_type": "stream",
     "text": [
      "MSE: -4427905408.38 (+/- 5783733834.32)\n"
     ]
    }
   ],
   "source": [
    "scores = cross_val_score(tree_reg, X, y, scoring='neg_mean_squared_error', cv=10)\n",
    "print(\"MSE: %0.2f (+/- %0.2f)\" % (scores.mean(), scores.std() * 2))"
   ]
  },
  {
   "cell_type": "code",
   "execution_count": 111,
   "metadata": {},
   "outputs": [
    {
     "name": "stdout",
     "output_type": "stream",
     "text": [
      "RMSE: 66542.5082814\n"
     ]
    }
   ],
   "source": [
    "print('RMSE: {}').format(sqrt(4427905408.38))"
   ]
  },
  {
   "cell_type": "markdown",
   "metadata": {},
   "source": [
    "# Random Forest"
   ]
  },
  {
   "cell_type": "code",
   "execution_count": 97,
   "metadata": {},
   "outputs": [],
   "source": [
    "from sklearn.ensemble import RandomForestRegressor\n",
    "rf_reg0 = RandomForestRegressor(max_depth=2, random_state=0)"
   ]
  },
  {
   "cell_type": "code",
   "execution_count": 98,
   "metadata": {},
   "outputs": [
    {
     "name": "stdout",
     "output_type": "stream",
     "text": [
      "MSE: -4125410436.85 (+/- 5875102951.68)\n"
     ]
    }
   ],
   "source": [
    "scores = cross_val_score(rf_reg0, X, y, scoring='neg_mean_squared_error', cv=10)\n",
    "print(\"MSE: %0.2f (+/- %0.2f)\" % (scores.mean(), scores.std() * 2))"
   ]
  },
  {
   "cell_type": "code",
   "execution_count": 112,
   "metadata": {},
   "outputs": [
    {
     "name": "stdout",
     "output_type": "stream",
     "text": [
      "RMSE: 64229.3580538\n"
     ]
    }
   ],
   "source": [
    "print('RMSE: {}').format(sqrt(4125410436))"
   ]
  },
  {
   "cell_type": "markdown",
   "metadata": {},
   "source": [
    "## hyper-parameter tuning - random search cv"
   ]
  },
  {
   "cell_type": "code",
   "execution_count": 50,
   "metadata": {},
   "outputs": [
    {
     "name": "stdout",
     "output_type": "stream",
     "text": [
      "Parameters currently in use:\n",
      "\n",
      "{'bootstrap': True,\n",
      " 'criterion': 'mse',\n",
      " 'max_depth': 2,\n",
      " 'max_features': 'auto',\n",
      " 'max_leaf_nodes': None,\n",
      " 'min_impurity_decrease': 0.0,\n",
      " 'min_impurity_split': None,\n",
      " 'min_samples_leaf': 1,\n",
      " 'min_samples_split': 2,\n",
      " 'min_weight_fraction_leaf': 0.0,\n",
      " 'n_estimators': 10,\n",
      " 'n_jobs': 1,\n",
      " 'oob_score': False,\n",
      " 'random_state': 0,\n",
      " 'verbose': 0,\n",
      " 'warm_start': False}\n"
     ]
    }
   ],
   "source": [
    "from pprint import pprint\n",
    "\n",
    "# Look at parameters used by our current forest\n",
    "print('Parameters currently in use:\\n')\n",
    "pprint(rf_reg.get_params())"
   ]
  },
  {
   "cell_type": "code",
   "execution_count": 51,
   "metadata": {},
   "outputs": [
    {
     "name": "stdout",
     "output_type": "stream",
     "text": [
      "{'bootstrap': [True, False],\n",
      " 'max_depth': [10, 20, 30, 40, 50, 60, 70, 80, 90, 100, 110, None],\n",
      " 'max_features': ['auto', 'sqrt'],\n",
      " 'min_samples_leaf': [1, 2, 4],\n",
      " 'min_samples_split': [2, 5, 10],\n",
      " 'n_estimators': [200, 400, 600, 800, 1000, 1200, 1400, 1600, 1800, 2000]}\n"
     ]
    }
   ],
   "source": [
    "from sklearn.model_selection import RandomizedSearchCV\n",
    "\n",
    "# Number of trees in random forest\n",
    "n_estimators = [int(x) for x in np.linspace(start = 200, stop = 2000, num = 10)]\n",
    "# Number of features to consider at every split\n",
    "max_features = ['auto', 'sqrt']\n",
    "# Maximum number of levels in tree\n",
    "max_depth = [int(x) for x in np.linspace(10, 110, num = 11)]\n",
    "max_depth.append(None)\n",
    "# Minimum number of samples required to split a node\n",
    "min_samples_split = [2, 5, 10]\n",
    "# Minimum number of samples required at each leaf node\n",
    "min_samples_leaf = [1, 2, 4]\n",
    "# Method of selecting samples for training each tree\n",
    "bootstrap = [True, False]\n",
    "\n",
    "# Create the random grid\n",
    "random_grid = {'n_estimators': n_estimators,\n",
    "               'max_features': max_features,\n",
    "               'max_depth': max_depth,\n",
    "               'min_samples_split': min_samples_split,\n",
    "               'min_samples_leaf': min_samples_leaf,\n",
    "               'bootstrap': bootstrap}\n",
    "\n",
    "pprint(random_grid)"
   ]
  },
  {
   "cell_type": "code",
   "execution_count": 52,
   "metadata": {
    "scrolled": true
   },
   "outputs": [
    {
     "name": "stdout",
     "output_type": "stream",
     "text": [
      "Fitting 3 folds for each of 100 candidates, totalling 300 fits\n"
     ]
    },
    {
     "name": "stderr",
     "output_type": "stream",
     "text": [
      "[Parallel(n_jobs=-1)]: Done  42 tasks      | elapsed: 15.7min\n",
      "[Parallel(n_jobs=-1)]: Done 192 tasks      | elapsed: 91.5min\n",
      "[Parallel(n_jobs=-1)]: Done 300 out of 300 | elapsed: 126.5min finished\n"
     ]
    },
    {
     "data": {
      "text/plain": [
       "RandomizedSearchCV(cv=3, error_score='raise',\n",
       "          estimator=RandomForestRegressor(bootstrap=True, criterion='mse', max_depth=None,\n",
       "           max_features='auto', max_leaf_nodes=None,\n",
       "           min_impurity_decrease=0.0, min_impurity_split=None,\n",
       "           min_samples_leaf=1, min_samples_split=2,\n",
       "           min_weight_fraction_leaf=0.0, n_estimators=10, n_jobs=1,\n",
       "           oob_score=False, random_state=None, verbose=0, warm_start=False),\n",
       "          fit_params=None, iid=True, n_iter=100, n_jobs=-1,\n",
       "          param_distributions={'bootstrap': [True, False], 'min_samples_leaf': [1, 2, 4], 'n_estimators': [200, 400, 600, 800, 1000, 1200, 1400, 1600, 1800, 2000], 'min_samples_split': [2, 5, 10], 'max_features': ['auto', 'sqrt'], 'max_depth': [10, 20, 30, 40, 50, 60, 70, 80, 90, 100, 110, None]},\n",
       "          pre_dispatch='2*n_jobs', random_state=42, refit=True,\n",
       "          return_train_score='warn', scoring=None, verbose=1)"
      ]
     },
     "execution_count": 52,
     "metadata": {},
     "output_type": "execute_result"
    }
   ],
   "source": [
    "# Use the random grid to search for best hyperparameters\n",
    "# First create the base model to tune\n",
    "rf = RandomForestRegressor()\n",
    "# Random search of parameters, using 3 fold cross validation, \n",
    "# search across 100 different combinations, and use all available cores\n",
    "rf_random = RandomizedSearchCV(estimator = rf, param_distributions = random_grid, n_iter = 100, cv = 3, verbose=1, random_state=42, n_jobs = -1)\n",
    "\n",
    "# Fit the random search model\n",
    "rf_random.fit(X, y)"
   ]
  },
  {
   "cell_type": "code",
   "execution_count": 53,
   "metadata": {},
   "outputs": [
    {
     "data": {
      "text/plain": [
       "{'bootstrap': True,\n",
       " 'max_depth': 40,\n",
       " 'max_features': 'auto',\n",
       " 'min_samples_leaf': 4,\n",
       " 'min_samples_split': 2,\n",
       " 'n_estimators': 600}"
      ]
     },
     "execution_count": 53,
     "metadata": {},
     "output_type": "execute_result"
    }
   ],
   "source": [
    "rf_random.best_params_"
   ]
  },
  {
   "cell_type": "code",
   "execution_count": 54,
   "metadata": {},
   "outputs": [
    {
     "data": {
      "text/plain": [
       "0.4926250490175154"
      ]
     },
     "execution_count": 54,
     "metadata": {},
     "output_type": "execute_result"
    }
   ],
   "source": [
    "rf_random.best_score_"
   ]
  },
  {
   "cell_type": "code",
   "execution_count": 95,
   "metadata": {},
   "outputs": [],
   "source": [
    "rf_reg1 = RandomForestRegressor(**rf_random.best_params_)"
   ]
  },
  {
   "cell_type": "code",
   "execution_count": 96,
   "metadata": {},
   "outputs": [
    {
     "name": "stdout",
     "output_type": "stream",
     "text": [
      "MSE: -3308096807.11 (+/- 5360264829.28)\n"
     ]
    }
   ],
   "source": [
    "scores = cross_val_score(rf_reg1, X, y, scoring='neg_mean_squared_error', cv=10)\n",
    "print(\"MSE: %0.2f (+/- %0.2f)\" % (scores.mean(), scores.std() * 2))"
   ]
  },
  {
   "cell_type": "code",
   "execution_count": 113,
   "metadata": {},
   "outputs": [
    {
     "name": "stdout",
     "output_type": "stream",
     "text": [
      "RMSE: 57516.0569493\n"
     ]
    }
   ],
   "source": [
    "print('RMSE: {}').format(sqrt(3308096807))"
   ]
  },
  {
   "cell_type": "markdown",
   "metadata": {},
   "source": [
    "# Boosted trees (XGBoost)"
   ]
  },
  {
   "cell_type": "code",
   "execution_count": 57,
   "metadata": {},
   "outputs": [],
   "source": [
    "from xgboost import XGBRegressor"
   ]
  },
  {
   "cell_type": "code",
   "execution_count": 127,
   "metadata": {},
   "outputs": [],
   "source": [
    "xgb_reg = XGBRegressor()"
   ]
  },
  {
   "cell_type": "code",
   "execution_count": 128,
   "metadata": {},
   "outputs": [],
   "source": [
    "scores = cross_val_score(xgb_reg, X, y, scoring='neg_mean_squared_error', cv=10)"
   ]
  },
  {
   "cell_type": "code",
   "execution_count": 129,
   "metadata": {},
   "outputs": [
    {
     "data": {
      "text/plain": [
       "array([-4.30354213e+09, -2.74032535e+09, -2.33870629e+09, -1.14566670e+09,\n",
       "       -1.38926900e+09, -9.15822865e+09, -2.51801281e+09, -2.70847498e+08,\n",
       "       -3.23177061e+09, -3.06040110e+09])"
      ]
     },
     "execution_count": 129,
     "metadata": {},
     "output_type": "execute_result"
    }
   ],
   "source": [
    "scoreses"
   ]
  },
  {
   "cell_type": "code",
   "execution_count": 118,
   "metadata": {},
   "outputs": [
    {
     "name": "stdout",
     "output_type": "stream",
     "text": [
      "MSE: -3015677014.49 (+/- 4643112836.74)\n"
     ]
    }
   ],
   "source": [
    "print(\"MSE: %0.2f (+/- %0.2f)\" % (scores.mean(), scores.std() * 2))"
   ]
  },
  {
   "cell_type": "code",
   "execution_count": 119,
   "metadata": {},
   "outputs": [
    {
     "name": "stdout",
     "output_type": "stream",
     "text": [
      "RMSE: 54915.1801826\n"
     ]
    }
   ],
   "source": [
    "print('RMSE: {}').format(sqrt(3015677014.49))"
   ]
  },
  {
   "cell_type": "markdown",
   "metadata": {},
   "source": [
    "## hyper-parameter tuning - grid search cv"
   ]
  },
  {
   "cell_type": "code",
   "execution_count": 60,
   "metadata": {},
   "outputs": [
    {
     "name": "stdout",
     "output_type": "stream",
     "text": [
      "Parameters currently in use:\n",
      "\n",
      "{'base_score': 0.5,\n",
      " 'booster': 'gbtree',\n",
      " 'colsample_bylevel': 1,\n",
      " 'colsample_bytree': 1,\n",
      " 'gamma': 0,\n",
      " 'learning_rate': 0.1,\n",
      " 'max_delta_step': 0,\n",
      " 'max_depth': 3,\n",
      " 'min_child_weight': 1,\n",
      " 'missing': None,\n",
      " 'n_estimators': 100,\n",
      " 'n_jobs': 1,\n",
      " 'nthread': None,\n",
      " 'objective': 'reg:linear',\n",
      " 'random_state': 0,\n",
      " 'reg_alpha': 0,\n",
      " 'reg_lambda': 1,\n",
      " 'scale_pos_weight': 1,\n",
      " 'seed': None,\n",
      " 'silent': True,\n",
      " 'subsample': 1}\n"
     ]
    }
   ],
   "source": [
    "from pprint import pprint\n",
    "\n",
    "# Look at parameters used by our current forest\n",
    "print('Parameters currently in use:\\n')\n",
    "pprint(xgb_reg.get_params())"
   ]
  },
  {
   "cell_type": "code",
   "execution_count": 63,
   "metadata": {},
   "outputs": [],
   "source": [
    "from sklearn.model_selection import GridSearchCV\n",
    "from sklearn.model_selection import KFold\n",
    "import matplotlib\n",
    "matplotlib.use('Agg')\n",
    "from matplotlib import pyplot"
   ]
  },
  {
   "cell_type": "code",
   "execution_count": 120,
   "metadata": {},
   "outputs": [
    {
     "name": "stdout",
     "output_type": "stream",
     "text": [
      "[2, 4, 6, 8]\n",
      "Fitting 10 folds for each of 16 candidates, totalling 160 fits\n"
     ]
    },
    {
     "name": "stderr",
     "output_type": "stream",
     "text": [
      "[Parallel(n_jobs=-1)]: Done  42 tasks      | elapsed:   19.8s\n",
      "[Parallel(n_jobs=-1)]: Done 160 out of 160 | elapsed:  2.9min finished\n"
     ]
    },
    {
     "name": "stdout",
     "output_type": "stream",
     "text": [
      "Best: -2553617175.053390 using {'n_estimators': 200, 'max_depth': 8}\n",
      "-3242925458.714771 (975918734.755049) with: {'n_estimators': 50, 'max_depth': 2}\n",
      "-3014038518.623384 (928239888.961434) with: {'n_estimators': 100, 'max_depth': 2}\n",
      "-2894810364.077070 (903490300.280235) with: {'n_estimators': 150, 'max_depth': 2}\n",
      "-2823028940.632756 (888124499.315609) with: {'n_estimators': 200, 'max_depth': 2}\n",
      "-2954720462.817352 (984362026.906741) with: {'n_estimators': 50, 'max_depth': 4}\n",
      "-2756290338.477518 (889244651.099793) with: {'n_estimators': 100, 'max_depth': 4}\n",
      "-2697621470.844778 (843261754.959438) with: {'n_estimators': 150, 'max_depth': 4}\n",
      "-2661618925.004450 (815147347.913305) with: {'n_estimators': 200, 'max_depth': 4}\n",
      "-2782992148.491127 (977010653.169311) with: {'n_estimators': 50, 'max_depth': 6}\n",
      "-2652152102.629840 (950110516.960483) with: {'n_estimators': 100, 'max_depth': 6}\n",
      "-2601809370.455069 (937934336.851645) with: {'n_estimators': 150, 'max_depth': 6}\n",
      "-2574752491.330619 (909953401.967692) with: {'n_estimators': 200, 'max_depth': 6}\n",
      "-2699170566.499292 (1023158659.980142) with: {'n_estimators': 50, 'max_depth': 8}\n",
      "-2597750893.758162 (967237658.823131) with: {'n_estimators': 100, 'max_depth': 8}\n",
      "-2562390910.588533 (939192347.642070) with: {'n_estimators': 150, 'max_depth': 8}\n",
      "-2553617175.053390 (930728734.086508) with: {'n_estimators': 200, 'max_depth': 8}\n"
     ]
    }
   ],
   "source": [
    "# grid search\n",
    "model = XGBRegressor()\n",
    "n_estimators = [50, 100, 150, 200]\n",
    "max_depth = [2, 4, 6, 8]\n",
    "print(max_depth)\n",
    "param_grid = dict(max_depth=max_depth, n_estimators=n_estimators)\n",
    "kfold = KFold(n_splits=10, shuffle=True, random_state=7)\n",
    "grid_search = GridSearchCV(model, param_grid, n_jobs=-1, cv=kfold, verbose=1, scoring='neg_mean_squared_error')\n",
    "grid_result = grid_search.fit(X, y)\n",
    "# summarize results\n",
    "print(\"Best: %f using %s\" % (grid_result.best_score_, grid_result.best_params_))\n",
    "means = grid_result.cv_results_['mean_test_score']\n",
    "stds = grid_result.cv_results_['std_test_score']\n",
    "params = grid_result.cv_results_['params']\n",
    "for mean, stdev, param in zip(means, stds, params):\n",
    "\tprint(\"%f (%f) with: %r\" % (mean, stdev, param))"
   ]
  },
  {
   "cell_type": "code",
   "execution_count": 121,
   "metadata": {},
   "outputs": [
    {
     "data": {
      "text/plain": [
       "{'max_depth': 8, 'n_estimators': 200}"
      ]
     },
     "execution_count": 121,
     "metadata": {},
     "output_type": "execute_result"
    }
   ],
   "source": [
    "grid_result.best_params_"
   ]
  },
  {
   "cell_type": "code",
   "execution_count": 122,
   "metadata": {},
   "outputs": [
    {
     "data": {
      "text/plain": [
       "-2553617175.0533895"
      ]
     },
     "execution_count": 122,
     "metadata": {},
     "output_type": "execute_result"
    }
   ],
   "source": [
    "grid_result.best_score_"
   ]
  },
  {
   "cell_type": "code",
   "execution_count": 123,
   "metadata": {},
   "outputs": [],
   "source": [
    "xgb_reg = XGBRegressor(max_depth=8, n_estimators=200)\n",
    "scores = cross_val_score(xgb_reg, X, y, scoring='neg_mean_squared_error', cv=10)"
   ]
  },
  {
   "cell_type": "code",
   "execution_count": 126,
   "metadata": {},
   "outputs": [
    {
     "data": {
      "text/plain": [
       "array([-3.70900167e+09, -2.89287030e+09, -2.49517617e+09, -1.20639627e+09,\n",
       "       -2.47721589e+09, -9.00444753e+09, -2.02917764e+09, -2.16416603e+08,\n",
       "       -3.98909121e+09, -2.73719154e+09])"
      ]
     },
     "execution_count": 126,
     "metadata": {},
     "output_type": "execute_result"
    }
   ],
   "source": [
    "scores"
   ]
  },
  {
   "cell_type": "code",
   "execution_count": 124,
   "metadata": {},
   "outputs": [
    {
     "name": "stdout",
     "output_type": "stream",
     "text": [
      "MSE: -3075698482.12 (+/- 4471850381.59)\n"
     ]
    }
   ],
   "source": [
    "print(\"MSE: %0.2f (+/- %0.2f)\" % (scores.mean(), scores.std() * 2))"
   ]
  },
  {
   "cell_type": "code",
   "execution_count": 125,
   "metadata": {},
   "outputs": [
    {
     "name": "stdout",
     "output_type": "stream",
     "text": [
      "RMSE: 55458.9801756\n"
     ]
    }
   ],
   "source": [
    "print('RMSE: {}').format(sqrt(3075698482.12))"
   ]
  },
  {
   "cell_type": "code",
   "execution_count": null,
   "metadata": {},
   "outputs": [],
   "source": [
    "#TODO regularization to improve model generalization"
   ]
  },
  {
   "cell_type": "code",
   "execution_count": 133,
   "metadata": {},
   "outputs": [
    {
     "data": {
      "text/plain": [
       "({'gamma': 0.0}, -3350508132.9554677)"
      ]
     },
     "execution_count": 133,
     "metadata": {},
     "output_type": "execute_result"
    }
   ],
   "source": [
    "param_test = {\n",
    " 'gamma':[i/20.0 for i in range(0,10)]\n",
    "}\n",
    "gsearch3 = GridSearchCV(estimator = XGBRegressor(max_depth=8, n_estimators=200,gamma= 0, seed=27), \n",
    "param_grid = param_test, scoring='neg_mean_squared_error',n_jobs=-1,iid=False, cv=5)\n",
    "gsearch3.fit(X,y)\n",
    "gsearch3.best_params_, gsearch3.best_score_"
   ]
  },
  {
   "cell_type": "code",
   "execution_count": 135,
   "metadata": {},
   "outputs": [
    {
     "data": {
      "text/plain": [
       "({'reg_alpha': 0.1}, -3350507891.883827)"
      ]
     },
     "execution_count": 135,
     "metadata": {},
     "output_type": "execute_result"
    }
   ],
   "source": [
    "param_test1 = {\n",
    " 'reg_alpha':[1e-5, 1e-2, 0.1, 1, 100]\n",
    "}\n",
    "gsearch4 = GridSearchCV(estimator = XGBRegressor(max_depth=8, n_estimators=200,gamma= 0, seed=27), \n",
    "param_grid = param_test1, scoring='neg_mean_squared_error',n_jobs=-1,iid=False, cv=5)\n",
    "gsearch4.fit(X,y)\n",
    "gsearch4.best_params_, gsearch4.best_score_"
   ]
  },
  {
   "cell_type": "code",
   "execution_count": 136,
   "metadata": {},
   "outputs": [
    {
     "data": {
      "text/plain": [
       "({'reg_alpha': 0.2}, -3350507681.321519)"
      ]
     },
     "execution_count": 136,
     "metadata": {},
     "output_type": "execute_result"
    }
   ],
   "source": [
    "param_test2 = {\n",
    " 'reg_alpha':[0.01, 0.05, 0.1, 0.15, 0.2]\n",
    "}\n",
    "gsearch4 = GridSearchCV(estimator = XGBRegressor(max_depth=8, n_estimators=200,gamma= 0, seed=27), \n",
    "param_grid = param_test2, scoring='neg_mean_squared_error',n_jobs=-1,iid=False, cv=5)\n",
    "gsearch4.fit(X,y)\n",
    "gsearch4.best_params_, gsearch4.best_score_"
   ]
  },
  {
   "cell_type": "code",
   "execution_count": 137,
   "metadata": {},
   "outputs": [
    {
     "data": {
      "text/plain": [
       "({'reg_alpha': 0.2}, -3350507681.321519)"
      ]
     },
     "execution_count": 137,
     "metadata": {},
     "output_type": "execute_result"
    }
   ],
   "source": [
    "param_test2 = {\n",
    " 'reg_alpha':[0.2, 0.25, 0.3, 0.35, 0.4]\n",
    "}\n",
    "gsearch4 = GridSearchCV(estimator = XGBRegressor(max_depth=8, n_estimators=200,gamma= 0, seed=27), \n",
    "param_grid = param_test2, scoring='neg_mean_squared_error',n_jobs=-1,iid=False, cv=5)\n",
    "gsearch4.fit(X,y)\n",
    "gsearch4.best_params_, gsearch4.best_score_"
   ]
  },
  {
   "cell_type": "code",
   "execution_count": 138,
   "metadata": {},
   "outputs": [],
   "source": [
    "xgb_reg = XGBRegressor(max_depth=8, n_estimators=200,gamma= 0, reg_alpha=0.2, seed=27)\n",
    "scores = cross_val_score(xgb_reg, X, y, scoring='neg_mean_squared_error', cv=10)"
   ]
  },
  {
   "cell_type": "code",
   "execution_count": 139,
   "metadata": {},
   "outputs": [
    {
     "data": {
      "text/plain": [
       "array([-3.70900159e+09, -2.90003423e+09, -2.55219059e+09, -1.20639604e+09,\n",
       "       -2.47721553e+09, -9.00444729e+09, -2.02917727e+09, -2.16416600e+08,\n",
       "       -3.98909116e+09, -2.73719140e+09])"
      ]
     },
     "execution_count": 139,
     "metadata": {},
     "output_type": "execute_result"
    }
   ],
   "source": [
    "scores"
   ]
  },
  {
   "cell_type": "code",
   "execution_count": 140,
   "metadata": {},
   "outputs": [
    {
     "name": "stdout",
     "output_type": "stream",
     "text": [
      "MSE: -3082116169.71 (+/- 4468900896.00)\n"
     ]
    }
   ],
   "source": [
    "print(\"MSE: %0.2f (+/- %0.2f)\" % (scores.mean(), scores.std() * 2))"
   ]
  },
  {
   "cell_type": "code",
   "execution_count": 141,
   "metadata": {},
   "outputs": [
    {
     "name": "stdout",
     "output_type": "stream",
     "text": [
      "RMSE: 55516.8097941\n"
     ]
    }
   ],
   "source": [
    "print('RMSE: {}').format(sqrt(3082116169.71))"
   ]
  },
  {
   "cell_type": "markdown",
   "metadata": {},
   "source": [
    "# Scoring"
   ]
  },
  {
   "cell_type": "code",
   "execution_count": 142,
   "metadata": {},
   "outputs": [
    {
     "data": {
      "text/plain": [
       "XGBRegressor(base_score=0.5, booster='gbtree', colsample_bylevel=1,\n",
       "       colsample_bytree=1, gamma=0, learning_rate=0.1, max_delta_step=0,\n",
       "       max_depth=8, min_child_weight=1, missing=None, n_estimators=200,\n",
       "       n_jobs=1, nthread=None, objective='reg:linear', random_state=0,\n",
       "       reg_alpha=0.2, reg_lambda=1, scale_pos_weight=1, seed=27,\n",
       "       silent=True, subsample=1)"
      ]
     },
     "execution_count": 142,
     "metadata": {},
     "output_type": "execute_result"
    }
   ],
   "source": [
    "xgb_reg.fit(X,y)"
   ]
  },
  {
   "cell_type": "code",
   "execution_count": 143,
   "metadata": {},
   "outputs": [],
   "source": [
    "predictions = xgb_reg.predict(processed_test.values)"
   ]
  },
  {
   "cell_type": "code",
   "execution_count": 144,
   "metadata": {},
   "outputs": [
    {
     "data": {
      "text/plain": [
       "array([39135.11 , 64347.684, 79425.79 , ..., 40858.53 , 21551.861,\n",
       "       17312.406], dtype=float32)"
      ]
     },
     "execution_count": 144,
     "metadata": {},
     "output_type": "execute_result"
    }
   ],
   "source": [
    "predictions"
   ]
  },
  {
   "cell_type": "code",
   "execution_count": 145,
   "metadata": {
    "collapsed": true
   },
   "outputs": [
    {
     "name": "stderr",
     "output_type": "stream",
     "text": [
      "/home/sanjay/code/.virtualenvs/impact/lib/python2.7/site-packages/ipykernel_launcher.py:1: SettingWithCopyWarning: \n",
      "A value is trying to be set on a copy of a slice from a DataFrame.\n",
      "Try using .loc[row_indexer,col_indexer] = value instead\n",
      "\n",
      "See the caveats in the documentation: http://pandas.pydata.org/pandas-docs/stable/indexing.html#indexing-view-versus-copy\n",
      "  \"\"\"Entry point for launching an IPython kernel.\n"
     ]
    }
   ],
   "source": [
    "test['predictions'] = pd.Series(predictions, index=test.index)"
   ]
  },
  {
   "cell_type": "code",
   "execution_count": 146,
   "metadata": {},
   "outputs": [
    {
     "data": {
      "text/html": [
       "<div>\n",
       "<style scoped>\n",
       "    .dataframe tbody tr th:only-of-type {\n",
       "        vertical-align: middle;\n",
       "    }\n",
       "\n",
       "    .dataframe tbody tr th {\n",
       "        vertical-align: top;\n",
       "    }\n",
       "\n",
       "    .dataframe thead th {\n",
       "        text-align: right;\n",
       "    }\n",
       "</style>\n",
       "<table border=\"1\" class=\"dataframe\">\n",
       "  <thead>\n",
       "    <tr style=\"text-align: right;\">\n",
       "      <th></th>\n",
       "      <th>enterprise_name</th>\n",
       "      <th>size</th>\n",
       "      <th>business_started_year</th>\n",
       "      <th>market_type</th>\n",
       "      <th>road_type</th>\n",
       "      <th>type</th>\n",
       "      <th>investment.amount</th>\n",
       "      <th>stock_value</th>\n",
       "      <th>New.Monthly.Sales</th>\n",
       "      <th>Total.Population.of.Village</th>\n",
       "      <th>...</th>\n",
       "      <th>Nearest.Statutory.Town..Distance.in.km.</th>\n",
       "      <th>Agriculture</th>\n",
       "      <th>Light.and.Fuel</th>\n",
       "      <th>Credit/Deposit</th>\n",
       "      <th>MICA</th>\n",
       "      <th>Avg.Demand.x</th>\n",
       "      <th>Avg.Demand.y</th>\n",
       "      <th>predictions</th>\n",
       "      <th>error</th>\n",
       "      <th>abs_error</th>\n",
       "    </tr>\n",
       "  </thead>\n",
       "  <tbody>\n",
       "    <tr>\n",
       "      <th>2</th>\n",
       "      <td>Automobileancillary</td>\n",
       "      <td>medium</td>\n",
       "      <td>8.25</td>\n",
       "      <td>Stand Alone</td>\n",
       "      <td>National Highway</td>\n",
       "      <td>fixed</td>\n",
       "      <td>NaN</td>\n",
       "      <td>100000.0</td>\n",
       "      <td>80000.0</td>\n",
       "      <td>1134.244444</td>\n",
       "      <td>...</td>\n",
       "      <td>23.600000</td>\n",
       "      <td>20.6134</td>\n",
       "      <td>1.4150</td>\n",
       "      <td>0.787072</td>\n",
       "      <td>19.59</td>\n",
       "      <td>1318.973605</td>\n",
       "      <td>NaN</td>\n",
       "      <td>39135.109375</td>\n",
       "      <td>-36585.589844</td>\n",
       "      <td>36585.589844</td>\n",
       "    </tr>\n",
       "    <tr>\n",
       "      <th>19</th>\n",
       "      <td>Bakery</td>\n",
       "      <td>medium</td>\n",
       "      <td>4.38</td>\n",
       "      <td>Small Market</td>\n",
       "      <td>Major Road</td>\n",
       "      <td>fixed</td>\n",
       "      <td>77236.59780</td>\n",
       "      <td>32500.0</td>\n",
       "      <td>65000.0</td>\n",
       "      <td>1563.746032</td>\n",
       "      <td>...</td>\n",
       "      <td>55.460317</td>\n",
       "      <td>5.0859</td>\n",
       "      <td>3.0462</td>\n",
       "      <td>0.578707</td>\n",
       "      <td>53.77</td>\n",
       "      <td>661.658158</td>\n",
       "      <td>NaN</td>\n",
       "      <td>64347.683594</td>\n",
       "      <td>-984.148438</td>\n",
       "      <td>984.148438</td>\n",
       "    </tr>\n",
       "    <tr>\n",
       "      <th>25</th>\n",
       "      <td>Bakery</td>\n",
       "      <td>medium</td>\n",
       "      <td>3.08</td>\n",
       "      <td>Small Market</td>\n",
       "      <td>Major Road</td>\n",
       "      <td>fixed</td>\n",
       "      <td>47511.07000</td>\n",
       "      <td>100000.0</td>\n",
       "      <td>40000.0</td>\n",
       "      <td>6071.100000</td>\n",
       "      <td>...</td>\n",
       "      <td>19.000000</td>\n",
       "      <td>43.9511</td>\n",
       "      <td>2.1173</td>\n",
       "      <td>1.358157</td>\n",
       "      <td>35.00</td>\n",
       "      <td>NaN</td>\n",
       "      <td>NaN</td>\n",
       "      <td>79425.789062</td>\n",
       "      <td>39030.296875</td>\n",
       "      <td>39030.296875</td>\n",
       "    </tr>\n",
       "    <tr>\n",
       "      <th>40</th>\n",
       "      <td>Bakery</td>\n",
       "      <td>medium</td>\n",
       "      <td>43.41</td>\n",
       "      <td>Large Market</td>\n",
       "      <td>State Highway</td>\n",
       "      <td>fixed</td>\n",
       "      <td>41395.12927</td>\n",
       "      <td>75000.0</td>\n",
       "      <td>150000.0</td>\n",
       "      <td>1563.746032</td>\n",
       "      <td>...</td>\n",
       "      <td>55.460317</td>\n",
       "      <td>5.0859</td>\n",
       "      <td>3.0462</td>\n",
       "      <td>0.578707</td>\n",
       "      <td>53.77</td>\n",
       "      <td>661.658158</td>\n",
       "      <td>NaN</td>\n",
       "      <td>86707.687500</td>\n",
       "      <td>-63990.820312</td>\n",
       "      <td>63990.820312</td>\n",
       "    </tr>\n",
       "    <tr>\n",
       "      <th>43</th>\n",
       "      <td>Bakery</td>\n",
       "      <td>small</td>\n",
       "      <td>2.33</td>\n",
       "      <td>Small Market</td>\n",
       "      <td>Village Road</td>\n",
       "      <td>fixed</td>\n",
       "      <td>563265.31000</td>\n",
       "      <td>20000.0</td>\n",
       "      <td>60000.0</td>\n",
       "      <td>1282.725490</td>\n",
       "      <td>...</td>\n",
       "      <td>20.666667</td>\n",
       "      <td>20.6134</td>\n",
       "      <td>1.4150</td>\n",
       "      <td>0.787072</td>\n",
       "      <td>19.59</td>\n",
       "      <td>NaN</td>\n",
       "      <td>NaN</td>\n",
       "      <td>52037.136719</td>\n",
       "      <td>-9432.140625</td>\n",
       "      <td>9432.140625</td>\n",
       "    </tr>\n",
       "  </tbody>\n",
       "</table>\n",
       "<p>5 rows × 21 columns</p>\n",
       "</div>"
      ],
      "text/plain": [
       "        enterprise_name    size  business_started_year   market_type  \\\n",
       "2   Automobileancillary  medium                   8.25   Stand Alone   \n",
       "19               Bakery  medium                   4.38  Small Market   \n",
       "25               Bakery  medium                   3.08  Small Market   \n",
       "40               Bakery  medium                  43.41  Large Market   \n",
       "43               Bakery   small                   2.33  Small Market   \n",
       "\n",
       "           road_type   type  investment.amount  stock_value  \\\n",
       "2   National Highway  fixed                NaN     100000.0   \n",
       "19        Major Road  fixed        77236.59780      32500.0   \n",
       "25        Major Road  fixed        47511.07000     100000.0   \n",
       "40     State Highway  fixed        41395.12927      75000.0   \n",
       "43      Village Road  fixed       563265.31000      20000.0   \n",
       "\n",
       "    New.Monthly.Sales  Total.Population.of.Village      ...       \\\n",
       "2             80000.0                  1134.244444      ...        \n",
       "19            65000.0                  1563.746032      ...        \n",
       "25            40000.0                  6071.100000      ...        \n",
       "40           150000.0                  1563.746032      ...        \n",
       "43            60000.0                  1282.725490      ...        \n",
       "\n",
       "    Nearest.Statutory.Town..Distance.in.km.  Agriculture  Light.and.Fuel  \\\n",
       "2                                 23.600000      20.6134          1.4150   \n",
       "19                                55.460317       5.0859          3.0462   \n",
       "25                                19.000000      43.9511          2.1173   \n",
       "40                                55.460317       5.0859          3.0462   \n",
       "43                                20.666667      20.6134          1.4150   \n",
       "\n",
       "    Credit/Deposit   MICA  Avg.Demand.x  Avg.Demand.y   predictions  \\\n",
       "2         0.787072  19.59   1318.973605           NaN  39135.109375   \n",
       "19        0.578707  53.77    661.658158           NaN  64347.683594   \n",
       "25        1.358157  35.00           NaN           NaN  79425.789062   \n",
       "40        0.578707  53.77    661.658158           NaN  86707.687500   \n",
       "43        0.787072  19.59           NaN           NaN  52037.136719   \n",
       "\n",
       "           error     abs_error  \n",
       "2  -36585.589844  36585.589844  \n",
       "19   -984.148438    984.148438  \n",
       "25  39030.296875  39030.296875  \n",
       "40 -63990.820312  63990.820312  \n",
       "43  -9432.140625   9432.140625  \n",
       "\n",
       "[5 rows x 21 columns]"
      ]
     },
     "execution_count": 146,
     "metadata": {},
     "output_type": "execute_result"
    }
   ],
   "source": [
    "test.head()"
   ]
  },
  {
   "cell_type": "code",
   "execution_count": 147,
   "metadata": {},
   "outputs": [
    {
     "name": "stdout",
     "output_type": "stream",
     "text": [
      "rms error is: 45226.4835289\n"
     ]
    }
   ],
   "source": [
    "from sklearn.metrics import mean_squared_error\n",
    "from math import sqrt\n",
    "\n",
    "def rmse(predictions, targets):\n",
    "    return sqrt(mean_squared_error(predictions, targets))\n",
    "\n",
    "rmse_val = rmse(np.array(test['New.Monthly.Sales']), np.array(test['predictions']))\n",
    "print(\"rms error is: \" + str(rmse_val))"
   ]
  },
  {
   "cell_type": "code",
   "execution_count": 148,
   "metadata": {
    "collapsed": true
   },
   "outputs": [
    {
     "name": "stderr",
     "output_type": "stream",
     "text": [
      "/home/sanjay/code/.virtualenvs/impact/lib/python2.7/site-packages/ipykernel_launcher.py:1: SettingWithCopyWarning: \n",
      "A value is trying to be set on a copy of a slice from a DataFrame.\n",
      "Try using .loc[row_indexer,col_indexer] = value instead\n",
      "\n",
      "See the caveats in the documentation: http://pandas.pydata.org/pandas-docs/stable/indexing.html#indexing-view-versus-copy\n",
      "  \"\"\"Entry point for launching an IPython kernel.\n"
     ]
    }
   ],
   "source": [
    "test['error'] = test['predictions']-test['New.Monthly.Sales']"
   ]
  },
  {
   "cell_type": "code",
   "execution_count": 149,
   "metadata": {
    "collapsed": true
   },
   "outputs": [
    {
     "name": "stderr",
     "output_type": "stream",
     "text": [
      "/home/sanjay/code/.virtualenvs/impact/lib/python2.7/site-packages/ipykernel_launcher.py:1: SettingWithCopyWarning: \n",
      "A value is trying to be set on a copy of a slice from a DataFrame.\n",
      "Try using .loc[row_indexer,col_indexer] = value instead\n",
      "\n",
      "See the caveats in the documentation: http://pandas.pydata.org/pandas-docs/stable/indexing.html#indexing-view-versus-copy\n",
      "  \"\"\"Entry point for launching an IPython kernel.\n"
     ]
    }
   ],
   "source": [
    "test['abs_error'] = abs(test['error'])"
   ]
  },
  {
   "cell_type": "code",
   "execution_count": 150,
   "metadata": {},
   "outputs": [
    {
     "data": {
      "text/plain": [
       "count    2.798000e+03\n",
       "mean     4.218619e+04\n",
       "std      9.165399e+04\n",
       "min      3.000000e+03\n",
       "25%      1.159375e+04\n",
       "50%      2.000000e+04\n",
       "75%      3.800000e+04\n",
       "max      1.400000e+06\n",
       "Name: New.Monthly.Sales, dtype: float64"
      ]
     },
     "execution_count": 150,
     "metadata": {},
     "output_type": "execute_result"
    }
   ],
   "source": [
    "test['New.Monthly.Sales'].describe()"
   ]
  },
  {
   "cell_type": "code",
   "execution_count": 151,
   "metadata": {},
   "outputs": [
    {
     "data": {
      "text/plain": [
       "count      2798.000000\n",
       "mean        243.154758\n",
       "std       45233.913859\n",
       "min     -620295.750000\n",
       "25%       -2594.025684\n",
       "50%         861.879069\n",
       "75%        5075.991291\n",
       "max      616246.812500\n",
       "Name: error, dtype: float64"
      ]
     },
     "execution_count": 151,
     "metadata": {},
     "output_type": "execute_result"
    }
   ],
   "source": [
    "test['error'].describe()"
   ]
  },
  {
   "cell_type": "code",
   "execution_count": 152,
   "metadata": {},
   "outputs": [
    {
     "data": {
      "text/plain": [
       "count      2798.000000\n",
       "mean      15570.105930\n",
       "std       42469.415293\n",
       "min           0.591797\n",
       "25%        1415.130207\n",
       "50%        3998.088052\n",
       "75%       11459.781902\n",
       "max      620295.750000\n",
       "Name: abs_error, dtype: float64"
      ]
     },
     "execution_count": 152,
     "metadata": {},
     "output_type": "execute_result"
    }
   ],
   "source": [
    "test['abs_error'].describe()"
   ]
  },
  {
   "cell_type": "code",
   "execution_count": 153,
   "metadata": {},
   "outputs": [
    {
     "data": {
      "text/plain": [
       "0.7564290215515161"
      ]
     },
     "execution_count": 153,
     "metadata": {},
     "output_type": "execute_result"
    }
   ],
   "source": [
    "from sklearn.metrics import explained_variance_score\n",
    "explained_variance_score(np.array(test['New.Monthly.Sales']), np.array(test['predictions']))"
   ]
  },
  {
   "cell_type": "code",
   "execution_count": 154,
   "metadata": {},
   "outputs": [
    {
     "data": {
      "text/plain": [
       "0.756421980816554"
      ]
     },
     "execution_count": 154,
     "metadata": {},
     "output_type": "execute_result"
    }
   ],
   "source": [
    "from sklearn.metrics import r2_score\n",
    "r2_score(np.array(test['New.Monthly.Sales']), np.array(test['predictions']))"
   ]
  },
  {
   "cell_type": "code",
   "execution_count": 155,
   "metadata": {},
   "outputs": [],
   "source": [
    "test.to_csv('test_with_predictions.csv', index=False)"
   ]
  },
  {
   "cell_type": "code",
   "execution_count": 156,
   "metadata": {},
   "outputs": [
    {
     "data": {
      "text/plain": [
       "<matplotlib.axes._subplots.AxesSubplot at 0x7f7449a2de10>"
      ]
     },
     "execution_count": 156,
     "metadata": {},
     "output_type": "execute_result"
    },
    {
     "data": {
      "image/png": "[encoded data removed]",
      "text/plain": [
       "<Figure size 432x288 with 1 Axes>"
      ]
     },
     "metadata": {},
     "output_type": "display_data"
    }
   ],
   "source": [
    "%matplotlib inline\n",
    "from xgboost import plot_importance\n",
    "plot_importance(xgb_reg, max_num_features=10)"
   ]
  },
  {
   "cell_type": "code",
   "execution_count": 161,
   "metadata": {
    "scrolled": true
   },
   "outputs": [
    {
     "data": {
      "text/plain": [
       "[('business_started_year', 0.21559606),\n",
       " ('stock_value', 0.1966688),\n",
       " ('investment.amount', 0.1219498),\n",
       " ('Total.Population.of.Village', 0.049327355),\n",
       " ('MICA', 0.034767922),\n",
       " ('Nearest.Statutory.Town..Distance.in.km.', 0.03168132),\n",
       " ('District.Head.Quarter...Distance.in.km.', 0.030458331),\n",
       " ('Agriculture', 0.028594723),\n",
       " ('Avg.Demand.y', 0.0260905),\n",
       " ('Credit/Deposit', 0.022363286),\n",
       " ('Avg.Demand.x', 0.02148972),\n",
       " ('Light.and.Fuel', 0.01921845),\n",
       " ('size_medium', 0.011938734),\n",
       " ('road_type_Major Road', 0.009434512),\n",
       " ('road_type_Village Road', 0.008269757),\n",
       " ('size_small', 0.007978569),\n",
       " ('market_type_Small Market', 0.00768738),\n",
       " ('enterprise_name_Hotelrestaurant', 0.007454429),\n",
       " ('market_type_Large Market', 0.0073379534),\n",
       " ('road_type_State Highway', 0.007221478),\n",
       " ('enterprise_name_Fertilizershop', 0.0055908216),\n",
       " ('market_type_Stand Alone', 0.005532584),\n",
       " ('enterprise_name_Kirana', 0.005532584),\n",
       " ('enterprise_name_Sareeshop', 0.004891969),\n",
       " ('enterprise_name_Readymadeclothshop', 0.0048337313),\n",
       " ('road_type_Lane', 0.004717256),\n",
       " ('enterprise_name_Cementtrading', 0.004659018),\n",
       " ('enterprise_name_Juiceotherdrinks', 0.0045425426),\n",
       " ('enterprise_name_Medicalcenterclinic', 0.004484305),\n",
       " ('enterprise_name_Tenthouse', 0.004484305),\n",
       " ('enterprise_name_Bakery', 0.004309592),\n",
       " ('enterprise_name_Cementproducttrading', 0.0041348785),\n",
       " ('size_large', 0.0036689767),\n",
       " ('road_type_National Highway', 0.003610739),\n",
       " ('enterprise_name_ElectricalsshopWirebulbsetc', 0.003436026),\n",
       " ('enterprise_name_Furnitureshop', 0.0033195503),\n",
       " ('type_fixed', 0.003203075),\n",
       " ('enterprise_name_Mobileshop', 0.0031448372),\n",
       " ('enterprise_name_UtensilsVesselstrading', 0.0031448372),\n",
       " ('enterprise_name_Studio', 0.0030283618),\n",
       " ('enterprise_name_Catering', 0.0029701241),\n",
       " ('enterprise_name_Centeringconstruction', 0.0029701241),\n",
       " ('enterprise_name_Sweetstrading', 0.0029118864),\n",
       " ('enterprise_name_Aluminiumworks', 0.0028536485),\n",
       " ('enterprise_name_Daltrading', 0.002737173),\n",
       " ('enterprise_name_Stationaryshop', 0.002737173),\n",
       " ('enterprise_name_Colddrinksshop', 0.00256246),\n",
       " ('enterprise_name_Beautyparlor', 0.0023877467),\n",
       " ('enterprise_name_Automobileancillary', 0.0022130336),\n",
       " ('enterprise_name_Agarbattitrading', 0.0018053695),\n",
       " ('enterprise_name_Shoeshopproductionortrading', 0.0018053695),\n",
       " ('enterprise_name_CowrearingandsellingDifferentfromBeef', 0.0015724186),\n",
       " ('enterprise_name_ElectronicsRepair', 0.0015724186),\n",
       " ('enterprise_name_Giftshop', 0.0015724186),\n",
       " ('enterprise_name_Soundandlightrental', 0.0015724186),\n",
       " ('enterprise_name_Bookstall', 0.0015141809),\n",
       " ('enterprise_name_Ironsteelfabrication', 0.0014559432),\n",
       " ('type_haat', 0.0013394677),\n",
       " ('enterprise_name_Ladiesstore', 0.00128123),\n",
       " ('enterprise_name_Mobilerepair', 0.00128123),\n",
       " ('enterprise_name_Garmentsmanufacturing', 0.00128123),\n",
       " ('enterprise_name_zariworkLadysboutique', 0.0011647545),\n",
       " ('type_fixedmobilehaat', 0.0010482791),\n",
       " ('type_mobile', 0.0008735659),\n",
       " ('enterprise_name_Ayurvedicmedicines', 0.0008735659),\n",
       " ('enterprise_name_Banglemakingandselling', 0.00081532815),\n",
       " ('type_fixedhaat', 0.00075709046),\n",
       " ('type_fixedmobile', 0.0006988527),\n",
       " ('type_mobilehaat', 0.00040766408),\n",
       " ('market_type_Medium Market', 0.00040766408),\n",
       " ('enterprise_name_Poojaitemsshop', 0.00040766408),\n",
       " ('enterprise_name_Bambooproductsmaking', 0.00034942635)]"
      ]
     },
     "execution_count": 161,
     "metadata": {},
     "output_type": "execute_result"
    }
   ],
   "source": [
    "sorted(zip(processed_train.columns,xgb_reg.feature_importances_),key=lambda x: x[1],reverse=True)"
   ]
  }
 ],
 "metadata": {
  "kernelspec": {
   "display_name": "Python 2",
   "language": "python",
   "name": "python2"
  },
  "language_info": {
   "codemirror_mode": {
    "name": "ipython",
    "version": 2
   },
   "file_extension": ".py",
   "mimetype": "text/x-python",
   "name": "python",
   "nbconvert_exporter": "python",
   "pygments_lexer": "ipython2",
   "version": "2.7.15rc1"
  }
 },
 "nbformat": 4,
 "nbformat_minor": 2
}
